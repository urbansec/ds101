{
  "nbformat": 4,
  "nbformat_minor": 0,
  "metadata": {
    "colab": {
      "name": "DS101_Stats.ipynb",
      "version": "0.3.2",
      "provenance": [],
      "collapsed_sections": [
        "anje91qHZBHD",
        "JR_G-c6eDAQJ",
        "T0MMZfsCAPN-",
        "LspDDY-XBGjF",
        "19vqZ4SkPKGV"
      ],
      "toc_visible": true
    },
    "kernelspec": {
      "name": "python3",
      "display_name": "Python 3"
    }
  },
  "cells": [
    {
      "metadata": {
        "id": "anje91qHZBHD",
        "colab_type": "text"
      },
      "cell_type": "markdown",
      "source": [
        "# Get Set Up"
      ]
    },
    {
      "metadata": {
        "id": "hTAlb_J_Zxsp",
        "colab_type": "text"
      },
      "cell_type": "markdown",
      "source": [
        "## Import Libraries"
      ]
    },
    {
      "metadata": {
        "id": "Yu_GGlGJZMJ_",
        "colab_type": "code",
        "colab": {}
      },
      "cell_type": "code",
      "source": [
        "# Pandas provides an extremely useful data structure\n",
        "import pandas as pd\n",
        "\n",
        "# Math provides additional math functions\n",
        "import math\n",
        "\n",
        "\n"
      ],
      "execution_count": 0,
      "outputs": []
    },
    {
      "metadata": {
        "id": "RHJ-2OMwbKpW",
        "colab_type": "text"
      },
      "cell_type": "markdown",
      "source": [
        "## Load Data"
      ]
    },
    {
      "metadata": {
        "id": "wr_QkeyDbWaB",
        "colab_type": "code",
        "colab": {}
      },
      "cell_type": "code",
      "source": [
        "# Define vars\n",
        "intel_url = \"https://raw.githubusercontent.com/urbansec/ds101/master/av_ip_reputation_2019-04-07.csv\"\n",
        "intel_cols = ['ip', 'risk', 'reliability', 'activity', 'country', 'city', 'lat_lon', 'unknown']\n",
        "\n",
        "\n",
        "# Read intel into dataframe\n",
        "intel_df = pd.read_csv(intel_url, sep='#', header=None, names=intel_cols)\n",
        "intel_df = intel_df.drop(columns=['unknown'])\n"
      ],
      "execution_count": 0,
      "outputs": []
    },
    {
      "metadata": {
        "id": "HqAzs1VHW1gR",
        "colab_type": "text"
      },
      "cell_type": "markdown",
      "source": [
        "# Instructions"
      ]
    },
    {
      "metadata": {
        "id": "JR_G-c6eDAQJ",
        "colab_type": "text"
      },
      "cell_type": "markdown",
      "source": [
        "# Examine Data"
      ]
    },
    {
      "metadata": {
        "id": "_Zb1vShhxB6X",
        "colab_type": "text"
      },
      "cell_type": "markdown",
      "source": [
        "## Alien Vault IP Reputation Data Set\n",
        "Description:\n",
        "\n",
        "* IP - IPv4 address\n",
        "* Risk - how risky is the target (1-10)\n",
        "* Reliability - how reliable is the rating (1-10)\n",
        "* Activity - what type of host is it\n",
        "* Country - what is the IPv4 country of origin\n",
        "* City - what is the IPv4 city of origin\n",
        "* Latitude - geolocated latitude of the IPv4\n",
        "* Longitude - geolocated longitude of the IPv4\n",
        "\n",
        "\n",
        "\n",
        "\n"
      ]
    },
    {
      "metadata": {
        "id": "qwKr-IwSAHaX",
        "colab_type": "text"
      },
      "cell_type": "markdown",
      "source": [
        "## Look at the raw data"
      ]
    },
    {
      "metadata": {
        "id": "9eV9_8H_6Lyg",
        "colab_type": "code",
        "outputId": "8ec090f1-c134-4496-8cb3-20d154656508",
        "colab": {
          "base_uri": "https://localhost:8080/",
          "height": 204
        }
      },
      "cell_type": "code",
      "source": [
        "# display first 5 lines in list\n",
        "display(intel_df.head())"
      ],
      "execution_count": 37,
      "outputs": [
        {
          "output_type": "display_data",
          "data": {
            "text/html": [
              "<div>\n",
              "<style scoped>\n",
              "    .dataframe tbody tr th:only-of-type {\n",
              "        vertical-align: middle;\n",
              "    }\n",
              "\n",
              "    .dataframe tbody tr th {\n",
              "        vertical-align: top;\n",
              "    }\n",
              "\n",
              "    .dataframe thead th {\n",
              "        text-align: right;\n",
              "    }\n",
              "</style>\n",
              "<table border=\"1\" class=\"dataframe\">\n",
              "  <thead>\n",
              "    <tr style=\"text-align: right;\">\n",
              "      <th></th>\n",
              "      <th>ip</th>\n",
              "      <th>risk</th>\n",
              "      <th>reliability</th>\n",
              "      <th>activity</th>\n",
              "      <th>country</th>\n",
              "      <th>city</th>\n",
              "      <th>lat_lon</th>\n",
              "    </tr>\n",
              "  </thead>\n",
              "  <tbody>\n",
              "    <tr>\n",
              "      <th>0</th>\n",
              "      <td>46.246.124.162</td>\n",
              "      <td>4</td>\n",
              "      <td>2</td>\n",
              "      <td>Malicious Host</td>\n",
              "      <td>SE</td>\n",
              "      <td>NaN</td>\n",
              "      <td>59.3246994019,18.0559997559</td>\n",
              "    </tr>\n",
              "    <tr>\n",
              "      <th>1</th>\n",
              "      <td>23.94.213.6</td>\n",
              "      <td>4</td>\n",
              "      <td>2</td>\n",
              "      <td>Malicious Host</td>\n",
              "      <td>US</td>\n",
              "      <td>Los Angeles</td>\n",
              "      <td>34.0544013977,-118.244003296</td>\n",
              "    </tr>\n",
              "    <tr>\n",
              "      <th>2</th>\n",
              "      <td>23.116.185.114</td>\n",
              "      <td>4</td>\n",
              "      <td>2</td>\n",
              "      <td>Malicious Host</td>\n",
              "      <td>US</td>\n",
              "      <td>NaN</td>\n",
              "      <td>37.7509994507,-97.8219985962</td>\n",
              "    </tr>\n",
              "    <tr>\n",
              "      <th>3</th>\n",
              "      <td>23.30.95.53</td>\n",
              "      <td>4</td>\n",
              "      <td>2</td>\n",
              "      <td>Malicious Host</td>\n",
              "      <td>US</td>\n",
              "      <td>NaN</td>\n",
              "      <td>37.7509994507,-97.8219985962</td>\n",
              "    </tr>\n",
              "    <tr>\n",
              "      <th>4</th>\n",
              "      <td>14.58.252.223</td>\n",
              "      <td>4</td>\n",
              "      <td>2</td>\n",
              "      <td>Malicious Host</td>\n",
              "      <td>KR</td>\n",
              "      <td>NaN</td>\n",
              "      <td>37.5111999512,126.974098206</td>\n",
              "    </tr>\n",
              "  </tbody>\n",
              "</table>\n",
              "</div>"
            ],
            "text/plain": [
              "               ip  risk  reliability        activity country         city  \\\n",
              "0  46.246.124.162     4            2  Malicious Host      SE          NaN   \n",
              "1     23.94.213.6     4            2  Malicious Host      US  Los Angeles   \n",
              "2  23.116.185.114     4            2  Malicious Host      US          NaN   \n",
              "3     23.30.95.53     4            2  Malicious Host      US          NaN   \n",
              "4   14.58.252.223     4            2  Malicious Host      KR          NaN   \n",
              "\n",
              "                        lat_lon  \n",
              "0   59.3246994019,18.0559997559  \n",
              "1  34.0544013977,-118.244003296  \n",
              "2  37.7509994507,-97.8219985962  \n",
              "3  37.7509994507,-97.8219985962  \n",
              "4   37.5111999512,126.974098206  "
            ]
          },
          "metadata": {
            "tags": []
          }
        }
      ]
    },
    {
      "metadata": {
        "id": "T0MMZfsCAPN-",
        "colab_type": "text"
      },
      "cell_type": "markdown",
      "source": [
        "# Stats on Quantitative Data: Risk"
      ]
    },
    {
      "metadata": {
        "id": "gyiUgMhKA1BW",
        "colab_type": "text"
      },
      "cell_type": "markdown",
      "source": [
        "## Start with most basic stats"
      ]
    },
    {
      "metadata": {
        "id": "6IMQrzB_aped",
        "colab_type": "code",
        "outputId": "da8211dd-296d-48d6-c8b6-eff1485dbbb4",
        "colab": {
          "base_uri": "https://localhost:8080/",
          "height": 34
        }
      },
      "cell_type": "code",
      "source": [
        "# count\n",
        "record_count = len(intel_df.index)\n",
        "record_count"
      ],
      "execution_count": 38,
      "outputs": [
        {
          "output_type": "execute_result",
          "data": {
            "text/plain": [
              "57684"
            ]
          },
          "metadata": {
            "tags": []
          },
          "execution_count": 38
        }
      ]
    },
    {
      "metadata": {
        "id": "2dzMKh96vfJ8",
        "colab_type": "code",
        "outputId": "b7f7450e-3548-46e2-f803-e112c1d0036d",
        "colab": {
          "base_uri": "https://localhost:8080/",
          "height": 51
        }
      },
      "cell_type": "code",
      "source": [
        "# total\n",
        "risk_total = intel_df[['risk']].sum()\n",
        "risk_total"
      ],
      "execution_count": 39,
      "outputs": [
        {
          "output_type": "execute_result",
          "data": {
            "text/plain": [
              "risk    217527\n",
              "dtype: int64"
            ]
          },
          "metadata": {
            "tags": []
          },
          "execution_count": 39
        }
      ]
    },
    {
      "metadata": {
        "id": "08x8AifdvlRy",
        "colab_type": "code",
        "outputId": "6e8e5d8c-c004-4cc5-d02b-b8cb3f1f6315",
        "colab": {
          "base_uri": "https://localhost:8080/",
          "height": 51
        }
      },
      "cell_type": "code",
      "source": [
        "# min\n",
        "risk_min = intel_df[['risk']].min()\n",
        "risk_min"
      ],
      "execution_count": 40,
      "outputs": [
        {
          "output_type": "execute_result",
          "data": {
            "text/plain": [
              "risk    1\n",
              "dtype: int64"
            ]
          },
          "metadata": {
            "tags": []
          },
          "execution_count": 40
        }
      ]
    },
    {
      "metadata": {
        "id": "CLfvAGv4v4ar",
        "colab_type": "code",
        "outputId": "011007a9-63e4-4d60-ddd7-d7764fbbdc75",
        "colab": {
          "base_uri": "https://localhost:8080/",
          "height": 51
        }
      },
      "cell_type": "code",
      "source": [
        "# max\n",
        "risk_max = intel_df[['risk']].max()\n",
        "risk_max"
      ],
      "execution_count": 41,
      "outputs": [
        {
          "output_type": "execute_result",
          "data": {
            "text/plain": [
              "risk    4\n",
              "dtype: int64"
            ]
          },
          "metadata": {
            "tags": []
          },
          "execution_count": 41
        }
      ]
    },
    {
      "metadata": {
        "id": "zUDInTRlBBOK",
        "colab_type": "text"
      },
      "cell_type": "markdown",
      "source": [
        "## Central Tendency"
      ]
    },
    {
      "metadata": {
        "id": "srhyIZTPv51p",
        "colab_type": "code",
        "outputId": "f6aee72c-3092-4211-e07b-6ed450ebdaaa",
        "colab": {
          "base_uri": "https://localhost:8080/",
          "height": 51
        }
      },
      "cell_type": "code",
      "source": [
        "# mean (manual)\n",
        "risk_mean1 = risk_total / record_count\n",
        "risk_mean1"
      ],
      "execution_count": 42,
      "outputs": [
        {
          "output_type": "execute_result",
          "data": {
            "text/plain": [
              "risk    3.771011\n",
              "dtype: float64"
            ]
          },
          "metadata": {
            "tags": []
          },
          "execution_count": 42
        }
      ]
    },
    {
      "metadata": {
        "id": "SJqx45Huwiw5",
        "colab_type": "code",
        "outputId": "25e7b8de-466c-4017-c596-37aa9216234b",
        "colab": {
          "base_uri": "https://localhost:8080/",
          "height": 51
        }
      },
      "cell_type": "code",
      "source": [
        "# mean (function)\n",
        "risk_mean2 = intel_df[['risk']].mean()\n",
        "risk_mean2"
      ],
      "execution_count": 43,
      "outputs": [
        {
          "output_type": "execute_result",
          "data": {
            "text/plain": [
              "risk    3.771011\n",
              "dtype: float64"
            ]
          },
          "metadata": {
            "tags": []
          },
          "execution_count": 43
        }
      ]
    },
    {
      "metadata": {
        "id": "0Z6l5TTlv7NJ",
        "colab_type": "code",
        "outputId": "79c237c2-8f53-426f-9716-8364f6c103e7",
        "colab": {
          "base_uri": "https://localhost:8080/",
          "height": 34
        }
      },
      "cell_type": "code",
      "source": [
        "# stdev (manual)\n",
        "#sq_err = (intel_df[['risk']].sub(risk_mean2, axis=0)) #** 2\n",
        "sq_err = (intel_df[['risk']] - risk_mean2.values[0]) ** 2\n",
        "sum_sq_err = sq_err.sum()\n",
        "risk_stdev1 = math.sqrt(sum_sq_err / (record_count - 1))\n",
        "risk_stdev1\n",
        "\n"
      ],
      "execution_count": 44,
      "outputs": [
        {
          "output_type": "execute_result",
          "data": {
            "text/plain": [
              "0.7965814290743425"
            ]
          },
          "metadata": {
            "tags": []
          },
          "execution_count": 44
        }
      ]
    },
    {
      "metadata": {
        "id": "Wk6BIbG7zgxg",
        "colab_type": "code",
        "outputId": "8a8222db-9546-4d95-b85f-e8d1531f2c02",
        "colab": {
          "base_uri": "https://localhost:8080/",
          "height": 51
        }
      },
      "cell_type": "code",
      "source": [
        "# stdev (function)\n",
        "risk_stdev2 = intel_df[['risk']].std()\n",
        "risk_stdev2"
      ],
      "execution_count": 45,
      "outputs": [
        {
          "output_type": "execute_result",
          "data": {
            "text/plain": [
              "risk    0.796581\n",
              "dtype: float64"
            ]
          },
          "metadata": {
            "tags": []
          },
          "execution_count": 45
        }
      ]
    },
    {
      "metadata": {
        "id": "pN8BvI-Kv8fL",
        "colab_type": "code",
        "outputId": "024e9773-3918-4e57-9674-e40eb0304428",
        "colab": {
          "base_uri": "https://localhost:8080/",
          "height": 51
        }
      },
      "cell_type": "code",
      "source": [
        "# median\n",
        "risk_median = intel_df[['risk']].median()\n",
        "risk_median"
      ],
      "execution_count": 46,
      "outputs": [
        {
          "output_type": "execute_result",
          "data": {
            "text/plain": [
              "risk    4.0\n",
              "dtype: float64"
            ]
          },
          "metadata": {
            "tags": []
          },
          "execution_count": 46
        }
      ]
    },
    {
      "metadata": {
        "id": "jiEyuEpRv9v0",
        "colab_type": "code",
        "outputId": "92680b26-5504-4c49-c778-0a1e113444e1",
        "colab": {
          "base_uri": "https://localhost:8080/",
          "height": 80
        }
      },
      "cell_type": "code",
      "source": [
        "# mode\n",
        "risk_mode = intel_df[['risk']].mode()\n",
        "risk_mode"
      ],
      "execution_count": 47,
      "outputs": [
        {
          "output_type": "execute_result",
          "data": {
            "text/html": [
              "<div>\n",
              "<style scoped>\n",
              "    .dataframe tbody tr th:only-of-type {\n",
              "        vertical-align: middle;\n",
              "    }\n",
              "\n",
              "    .dataframe tbody tr th {\n",
              "        vertical-align: top;\n",
              "    }\n",
              "\n",
              "    .dataframe thead th {\n",
              "        text-align: right;\n",
              "    }\n",
              "</style>\n",
              "<table border=\"1\" class=\"dataframe\">\n",
              "  <thead>\n",
              "    <tr style=\"text-align: right;\">\n",
              "      <th></th>\n",
              "      <th>risk</th>\n",
              "    </tr>\n",
              "  </thead>\n",
              "  <tbody>\n",
              "    <tr>\n",
              "      <th>0</th>\n",
              "      <td>4</td>\n",
              "    </tr>\n",
              "  </tbody>\n",
              "</table>\n",
              "</div>"
            ],
            "text/plain": [
              "   risk\n",
              "0     4"
            ]
          },
          "metadata": {
            "tags": []
          },
          "execution_count": 47
        }
      ]
    },
    {
      "metadata": {
        "id": "5-t8AAw4BLmE",
        "colab_type": "text"
      },
      "cell_type": "markdown",
      "source": [
        "**With the median and mode equal to 4, why is the mean lower?**"
      ]
    },
    {
      "metadata": {
        "id": "MjmxNDelu3AP",
        "colab_type": "text"
      },
      "cell_type": "markdown",
      "source": [
        "## Make a Histogram"
      ]
    },
    {
      "metadata": {
        "id": "ALt3_810xvgM",
        "colab_type": "text"
      },
      "cell_type": "markdown",
      "source": [
        "**A histogram can help you understand basic statistical properties of a data set more intuitively.**\n",
        "\n",
        "In this case, we see almost all of the data points have a risk of 4.  A few have a risk of 1, and there is nothing in between.  This is why the mode and median values are both 4, but the mean is slightly lower."
      ]
    },
    {
      "metadata": {
        "id": "dipVGk9AAa9W",
        "colab_type": "code",
        "outputId": "b28b6663-aa84-4c9a-e8fc-bca2368e7204",
        "colab": {
          "base_uri": "https://localhost:8080/",
          "height": 315
        }
      },
      "cell_type": "code",
      "source": [
        "intel_df[['risk']].hist()"
      ],
      "execution_count": 48,
      "outputs": [
        {
          "output_type": "execute_result",
          "data": {
            "text/plain": [
              "array([[<matplotlib.axes._subplots.AxesSubplot object at 0x7f0917612208>]],\n",
              "      dtype=object)"
            ]
          },
          "metadata": {
            "tags": []
          },
          "execution_count": 48
        },
        {
          "output_type": "display_data",
          "data": {
            "image/png": "[encoded data removed]",
            "text/plain": [
              "<Figure size 432x288 with 1 Axes>"
            ]
          },
          "metadata": {
            "tags": []
          }
        }
      ]
    },
    {
      "metadata": {
        "id": "KL_0m8LFBlG3",
        "colab_type": "text"
      },
      "cell_type": "markdown",
      "source": [
        "## Easier Summary Statistics: Pandas  'describe()' Method"
      ]
    },
    {
      "metadata": {
        "id": "b9Te7YhgBqu7",
        "colab_type": "code",
        "outputId": "861743d8-1b4d-4610-bfbc-6ebe34686d7c",
        "colab": {
          "base_uri": "https://localhost:8080/",
          "height": 297
        }
      },
      "cell_type": "code",
      "source": [
        "intel_df[['risk']].describe()"
      ],
      "execution_count": 49,
      "outputs": [
        {
          "output_type": "execute_result",
          "data": {
            "text/html": [
              "<div>\n",
              "<style scoped>\n",
              "    .dataframe tbody tr th:only-of-type {\n",
              "        vertical-align: middle;\n",
              "    }\n",
              "\n",
              "    .dataframe tbody tr th {\n",
              "        vertical-align: top;\n",
              "    }\n",
              "\n",
              "    .dataframe thead th {\n",
              "        text-align: right;\n",
              "    }\n",
              "</style>\n",
              "<table border=\"1\" class=\"dataframe\">\n",
              "  <thead>\n",
              "    <tr style=\"text-align: right;\">\n",
              "      <th></th>\n",
              "      <th>risk</th>\n",
              "    </tr>\n",
              "  </thead>\n",
              "  <tbody>\n",
              "    <tr>\n",
              "      <th>count</th>\n",
              "      <td>57684.000000</td>\n",
              "    </tr>\n",
              "    <tr>\n",
              "      <th>mean</th>\n",
              "      <td>3.771011</td>\n",
              "    </tr>\n",
              "    <tr>\n",
              "      <th>std</th>\n",
              "      <td>0.796581</td>\n",
              "    </tr>\n",
              "    <tr>\n",
              "      <th>min</th>\n",
              "      <td>1.000000</td>\n",
              "    </tr>\n",
              "    <tr>\n",
              "      <th>25%</th>\n",
              "      <td>4.000000</td>\n",
              "    </tr>\n",
              "    <tr>\n",
              "      <th>50%</th>\n",
              "      <td>4.000000</td>\n",
              "    </tr>\n",
              "    <tr>\n",
              "      <th>75%</th>\n",
              "      <td>4.000000</td>\n",
              "    </tr>\n",
              "    <tr>\n",
              "      <th>max</th>\n",
              "      <td>4.000000</td>\n",
              "    </tr>\n",
              "  </tbody>\n",
              "</table>\n",
              "</div>"
            ],
            "text/plain": [
              "               risk\n",
              "count  57684.000000\n",
              "mean       3.771011\n",
              "std        0.796581\n",
              "min        1.000000\n",
              "25%        4.000000\n",
              "50%        4.000000\n",
              "75%        4.000000\n",
              "max        4.000000"
            ]
          },
          "metadata": {
            "tags": []
          },
          "execution_count": 49
        }
      ]
    },
    {
      "metadata": {
        "id": "LspDDY-XBGjF",
        "colab_type": "text"
      },
      "cell_type": "markdown",
      "source": [
        "# Stats on Qualitative Data: Activity"
      ]
    },
    {
      "metadata": {
        "id": "DUjsoJERBteY",
        "colab_type": "text"
      },
      "cell_type": "markdown",
      "source": [
        "## Summary Statistics"
      ]
    },
    {
      "metadata": {
        "id": "u8rkLygpBxVv",
        "colab_type": "text"
      },
      "cell_type": "markdown",
      "source": [
        "Note that for qualitative data, a different set of statistics is generated."
      ]
    },
    {
      "metadata": {
        "id": "BH6ZMLsnBurh",
        "colab_type": "code",
        "outputId": "f61d7ea5-6c6b-4051-cd4c-600b49274d93",
        "colab": {
          "base_uri": "https://localhost:8080/",
          "height": 173
        }
      },
      "cell_type": "code",
      "source": [
        "# use describe() for quick summary stats\n",
        "intel_df[['country']].describe()"
      ],
      "execution_count": 50,
      "outputs": [
        {
          "output_type": "execute_result",
          "data": {
            "text/html": [
              "<div>\n",
              "<style scoped>\n",
              "    .dataframe tbody tr th:only-of-type {\n",
              "        vertical-align: middle;\n",
              "    }\n",
              "\n",
              "    .dataframe tbody tr th {\n",
              "        vertical-align: top;\n",
              "    }\n",
              "\n",
              "    .dataframe thead th {\n",
              "        text-align: right;\n",
              "    }\n",
              "</style>\n",
              "<table border=\"1\" class=\"dataframe\">\n",
              "  <thead>\n",
              "    <tr style=\"text-align: right;\">\n",
              "      <th></th>\n",
              "      <th>country</th>\n",
              "    </tr>\n",
              "  </thead>\n",
              "  <tbody>\n",
              "    <tr>\n",
              "      <th>count</th>\n",
              "      <td>55991</td>\n",
              "    </tr>\n",
              "    <tr>\n",
              "      <th>unique</th>\n",
              "      <td>183</td>\n",
              "    </tr>\n",
              "    <tr>\n",
              "      <th>top</th>\n",
              "      <td>CN</td>\n",
              "    </tr>\n",
              "    <tr>\n",
              "      <th>freq</th>\n",
              "      <td>9827</td>\n",
              "    </tr>\n",
              "  </tbody>\n",
              "</table>\n",
              "</div>"
            ],
            "text/plain": [
              "       country\n",
              "count    55991\n",
              "unique     183\n",
              "top         CN\n",
              "freq      9827"
            ]
          },
          "metadata": {
            "tags": []
          },
          "execution_count": 50
        }
      ]
    },
    {
      "metadata": {
        "id": "aTCAg8eULHD0",
        "colab_type": "text"
      },
      "cell_type": "markdown",
      "source": [
        "Looking at the most frequent values gives an idea of what is \"normal.\" In this case, Chinese, Russian, and US IPs dominate the list. "
      ]
    },
    {
      "metadata": {
        "id": "wJEgt7DMAs6_",
        "colab_type": "code",
        "outputId": "90938b77-06f3-4abb-d8a9-8f112985ecd8",
        "colab": {
          "base_uri": "https://localhost:8080/",
          "height": 204
        }
      },
      "cell_type": "code",
      "source": [
        "# most frequent values\n",
        "# note, using dot notation to return series rather than df\n",
        "intel_df.country.value_counts().head(10)"
      ],
      "execution_count": 51,
      "outputs": [
        {
          "output_type": "execute_result",
          "data": {
            "text/plain": [
              "CN    9827\n",
              "RU    6522\n",
              "US    5417\n",
              "IN    2477\n",
              "TW    1891\n",
              "KR    1888\n",
              "BR    1836\n",
              "VN    1446\n",
              "JP    1201\n",
              "UA    1176\n",
              "Name: country, dtype: int64"
            ]
          },
          "metadata": {
            "tags": []
          },
          "execution_count": 51
        }
      ]
    },
    {
      "metadata": {
        "id": "FBsS0NSXLc2B",
        "colab_type": "text"
      },
      "cell_type": "markdown",
      "source": [
        "Looking at the least frequent values may or may not be useful.  These are rare occurences, by definition.  In some situations, these would be relevant anomalies.  In other situations, they would be noise."
      ]
    },
    {
      "metadata": {
        "id": "KLAnxL3aCOAx",
        "colab_type": "code",
        "outputId": "5573c387-7368-4016-df45-9dc8b0d11471",
        "colab": {
          "base_uri": "https://localhost:8080/",
          "height": 204
        }
      },
      "cell_type": "code",
      "source": [
        "# least frequent values\n",
        "# note, using dot notation to return series rather than df\n",
        "intel_df.country.value_counts().tail(10)"
      ],
      "execution_count": 52,
      "outputs": [
        {
          "output_type": "execute_result",
          "data": {
            "text/plain": [
              "ER    1\n",
              "TC    1\n",
              "SN    1\n",
              "CV    1\n",
              "KN    1\n",
              "MC    1\n",
              "GM    1\n",
              "ZW    1\n",
              "AW    1\n",
              "GU    1\n",
              "Name: country, dtype: int64"
            ]
          },
          "metadata": {
            "tags": []
          },
          "execution_count": 52
        }
      ]
    },
    {
      "metadata": {
        "id": "19vqZ4SkPKGV",
        "colab_type": "text"
      },
      "cell_type": "markdown",
      "source": [
        "# Shortcuts"
      ]
    },
    {
      "metadata": {
        "id": "fBrGZX2tPN8T",
        "colab_type": "text"
      },
      "cell_type": "markdown",
      "source": [
        "## Summary stats for whole DataFrame"
      ]
    },
    {
      "metadata": {
        "id": "Zp0KElTaT5Uo",
        "colab_type": "text"
      },
      "cell_type": "markdown",
      "source": [
        "Sometimes it's easiest to generate summary stats for all columns in a DataFrame at once.  Due to the mix of quantitative and qualitative variables in our dataset, we end up with lots of NaN values in the summary, where a particular statistic doesn't apply to the column.  However, we end up with a quick, concise summary of the dataset."
      ]
    },
    {
      "metadata": {
        "id": "iIgZdtMCKwW4",
        "colab_type": "code",
        "colab": {
          "base_uri": "https://localhost:8080/",
          "height": 390
        },
        "outputId": "aec8ff2e-4a80-4654-9fc3-8274958b4274"
      },
      "cell_type": "code",
      "source": [
        "intel_df.describe(include='all')"
      ],
      "execution_count": 58,
      "outputs": [
        {
          "output_type": "execute_result",
          "data": {
            "text/html": [
              "<div>\n",
              "<style scoped>\n",
              "    .dataframe tbody tr th:only-of-type {\n",
              "        vertical-align: middle;\n",
              "    }\n",
              "\n",
              "    .dataframe tbody tr th {\n",
              "        vertical-align: top;\n",
              "    }\n",
              "\n",
              "    .dataframe thead th {\n",
              "        text-align: right;\n",
              "    }\n",
              "</style>\n",
              "<table border=\"1\" class=\"dataframe\">\n",
              "  <thead>\n",
              "    <tr style=\"text-align: right;\">\n",
              "      <th></th>\n",
              "      <th>ip</th>\n",
              "      <th>risk</th>\n",
              "      <th>reliability</th>\n",
              "      <th>activity</th>\n",
              "      <th>country</th>\n",
              "      <th>city</th>\n",
              "      <th>lat_lon</th>\n",
              "    </tr>\n",
              "  </thead>\n",
              "  <tbody>\n",
              "    <tr>\n",
              "      <th>count</th>\n",
              "      <td>57684</td>\n",
              "      <td>57684.000000</td>\n",
              "      <td>57684.000000</td>\n",
              "      <td>57684</td>\n",
              "      <td>55991</td>\n",
              "      <td>39597</td>\n",
              "      <td>57684</td>\n",
              "    </tr>\n",
              "    <tr>\n",
              "      <th>unique</th>\n",
              "      <td>57684</td>\n",
              "      <td>NaN</td>\n",
              "      <td>NaN</td>\n",
              "      <td>2</td>\n",
              "      <td>183</td>\n",
              "      <td>6775</td>\n",
              "      <td>9127</td>\n",
              "    </tr>\n",
              "    <tr>\n",
              "      <th>top</th>\n",
              "      <td>177.93.152.255</td>\n",
              "      <td>NaN</td>\n",
              "      <td>NaN</td>\n",
              "      <td>Malicious Host</td>\n",
              "      <td>CN</td>\n",
              "      <td>Tyumen</td>\n",
              "      <td>34.7724990845,113.726600647</td>\n",
              "    </tr>\n",
              "    <tr>\n",
              "      <th>freq</th>\n",
              "      <td>1</td>\n",
              "      <td>NaN</td>\n",
              "      <td>NaN</td>\n",
              "      <td>57683</td>\n",
              "      <td>9827</td>\n",
              "      <td>1124</td>\n",
              "      <td>1417</td>\n",
              "    </tr>\n",
              "    <tr>\n",
              "      <th>mean</th>\n",
              "      <td>NaN</td>\n",
              "      <td>3.771011</td>\n",
              "      <td>2.271028</td>\n",
              "      <td>NaN</td>\n",
              "      <td>NaN</td>\n",
              "      <td>NaN</td>\n",
              "      <td>NaN</td>\n",
              "    </tr>\n",
              "    <tr>\n",
              "      <th>std</th>\n",
              "      <td>NaN</td>\n",
              "      <td>0.796581</td>\n",
              "      <td>0.460434</td>\n",
              "      <td>NaN</td>\n",
              "      <td>NaN</td>\n",
              "      <td>NaN</td>\n",
              "      <td>NaN</td>\n",
              "    </tr>\n",
              "    <tr>\n",
              "      <th>min</th>\n",
              "      <td>NaN</td>\n",
              "      <td>1.000000</td>\n",
              "      <td>1.000000</td>\n",
              "      <td>NaN</td>\n",
              "      <td>NaN</td>\n",
              "      <td>NaN</td>\n",
              "      <td>NaN</td>\n",
              "    </tr>\n",
              "    <tr>\n",
              "      <th>25%</th>\n",
              "      <td>NaN</td>\n",
              "      <td>4.000000</td>\n",
              "      <td>2.000000</td>\n",
              "      <td>NaN</td>\n",
              "      <td>NaN</td>\n",
              "      <td>NaN</td>\n",
              "      <td>NaN</td>\n",
              "    </tr>\n",
              "    <tr>\n",
              "      <th>50%</th>\n",
              "      <td>NaN</td>\n",
              "      <td>4.000000</td>\n",
              "      <td>2.000000</td>\n",
              "      <td>NaN</td>\n",
              "      <td>NaN</td>\n",
              "      <td>NaN</td>\n",
              "      <td>NaN</td>\n",
              "    </tr>\n",
              "    <tr>\n",
              "      <th>75%</th>\n",
              "      <td>NaN</td>\n",
              "      <td>4.000000</td>\n",
              "      <td>3.000000</td>\n",
              "      <td>NaN</td>\n",
              "      <td>NaN</td>\n",
              "      <td>NaN</td>\n",
              "      <td>NaN</td>\n",
              "    </tr>\n",
              "    <tr>\n",
              "      <th>max</th>\n",
              "      <td>NaN</td>\n",
              "      <td>4.000000</td>\n",
              "      <td>5.000000</td>\n",
              "      <td>NaN</td>\n",
              "      <td>NaN</td>\n",
              "      <td>NaN</td>\n",
              "      <td>NaN</td>\n",
              "    </tr>\n",
              "  </tbody>\n",
              "</table>\n",
              "</div>"
            ],
            "text/plain": [
              "                    ip          risk   reliability        activity country  \\\n",
              "count            57684  57684.000000  57684.000000           57684   55991   \n",
              "unique           57684           NaN           NaN               2     183   \n",
              "top     177.93.152.255           NaN           NaN  Malicious Host      CN   \n",
              "freq                 1           NaN           NaN           57683    9827   \n",
              "mean               NaN      3.771011      2.271028             NaN     NaN   \n",
              "std                NaN      0.796581      0.460434             NaN     NaN   \n",
              "min                NaN      1.000000      1.000000             NaN     NaN   \n",
              "25%                NaN      4.000000      2.000000             NaN     NaN   \n",
              "50%                NaN      4.000000      2.000000             NaN     NaN   \n",
              "75%                NaN      4.000000      3.000000             NaN     NaN   \n",
              "max                NaN      4.000000      5.000000             NaN     NaN   \n",
              "\n",
              "          city                      lat_lon  \n",
              "count    39597                        57684  \n",
              "unique    6775                         9127  \n",
              "top     Tyumen  34.7724990845,113.726600647  \n",
              "freq      1124                         1417  \n",
              "mean       NaN                          NaN  \n",
              "std        NaN                          NaN  \n",
              "min        NaN                          NaN  \n",
              "25%        NaN                          NaN  \n",
              "50%        NaN                          NaN  \n",
              "75%        NaN                          NaN  \n",
              "max        NaN                          NaN  "
            ]
          },
          "metadata": {
            "tags": []
          },
          "execution_count": 58
        }
      ]
    },
    {
      "metadata": {
        "id": "X9fLiQ3kUYkd",
        "colab_type": "text"
      },
      "cell_type": "markdown",
      "source": [
        "## Generate multiple histograms"
      ]
    },
    {
      "metadata": {
        "id": "UE0YG5_gUgC2",
        "colab_type": "text"
      },
      "cell_type": "markdown",
      "source": [
        "In a similar way, we can use the \".hist()\" method to generate histograms for all our numeric variables with a single command.  The resulting histograms will be displayed together."
      ]
    },
    {
      "metadata": {
        "id": "j2GJsRuvPaVL",
        "colab_type": "code",
        "colab": {
          "base_uri": "https://localhost:8080/",
          "height": 332
        },
        "outputId": "7b3d5b13-868a-48d8-f9db-be4f37fbb575"
      },
      "cell_type": "code",
      "source": [
        "intel_df.hist()"
      ],
      "execution_count": 60,
      "outputs": [
        {
          "output_type": "execute_result",
          "data": {
            "text/plain": [
              "array([[<matplotlib.axes._subplots.AxesSubplot object at 0x7f0917f2db70>,\n",
              "        <matplotlib.axes._subplots.AxesSubplot object at 0x7f0917504588>]],\n",
              "      dtype=object)"
            ]
          },
          "metadata": {
            "tags": []
          },
          "execution_count": 60
        },
        {
          "output_type": "display_data",
          "data": {
            "image/png": "[encoded data removed]",
            "text/plain": [
              "<Figure size 432x288 with 2 Axes>"
            ]
          },
          "metadata": {
            "tags": []
          }
        }
      ]
    },
    {
      "metadata": {
        "id": "frcqxLrfU4vl",
        "colab_type": "text"
      },
      "cell_type": "markdown",
      "source": [
        "## Histograms for categorical data"
      ]
    },
    {
      "metadata": {
        "id": "9LQT72G7U-cy",
        "colab_type": "text"
      },
      "cell_type": "markdown",
      "source": [
        "Generally, it is helpful to view histograms of the frequency of categorical data values.  Before doing so, we need to calculate those frequencies.  The \".value_counts()\" method used above can do this for us.  We can then generate the histogram as below."
      ]
    },
    {
      "metadata": {
        "id": "C6dY9Z-EPv7D",
        "colab_type": "code",
        "colab": {
          "base_uri": "https://localhost:8080/",
          "height": 315
        },
        "outputId": "0912d659-bb0a-4f12-cb0c-7bbee8f780bd"
      },
      "cell_type": "code",
      "source": [
        "pd.DataFrame(intel_df.country.value_counts()).hist()"
      ],
      "execution_count": 67,
      "outputs": [
        {
          "output_type": "execute_result",
          "data": {
            "text/plain": [
              "array([[<matplotlib.axes._subplots.AxesSubplot object at 0x7f091739ae48>]],\n",
              "      dtype=object)"
            ]
          },
          "metadata": {
            "tags": []
          },
          "execution_count": 67
        },
        {
          "output_type": "display_data",
          "data": {
            "image/png": "[encoded data removed]",
            "text/plain": [
              "<Figure size 432x288 with 1 Axes>"
            ]
          },
          "metadata": {
            "tags": []
          }
        }
      ]
    },
    {
      "metadata": {
        "id": "fv17Tv-bVams",
        "colab_type": "text"
      },
      "cell_type": "markdown",
      "source": [
        "You might notice this does not display the frequency of the values we care about.  It actually displays the frequency of frequencies.  That is, the first bin tells us we have about 160 countries that show up between 0 - 1000 times in our dataset.\n",
        "\n",
        "To show the frequencies of the values we care about (countries), we need to plot the frequency counts directly using a bar plot, as shown here."
      ]
    },
    {
      "metadata": {
        "id": "H5O9Vn_eQDXz",
        "colab_type": "code",
        "colab": {
          "base_uri": "https://localhost:8080/",
          "height": 292
        },
        "outputId": "c71e16f3-859c-496d-eb71-5598795f214a"
      },
      "cell_type": "code",
      "source": [
        "pd.DataFrame(intel_df.country.value_counts().head(20)).plot.bar()"
      ],
      "execution_count": 70,
      "outputs": [
        {
          "output_type": "execute_result",
          "data": {
            "text/plain": [
              "<matplotlib.axes._subplots.AxesSubplot at 0x7f091b5fdd68>"
            ]
          },
          "metadata": {
            "tags": []
          },
          "execution_count": 70
        },
        {
          "output_type": "display_data",
          "data": {
            "image/png": "[encoded data removed]",
            "text/plain": [
              "<Figure size 432x288 with 1 Axes>"
            ]
          },
          "metadata": {
            "tags": []
          }
        }
      ]
    },
    {
      "metadata": {
        "id": "-LPqXpr2Tn6N",
        "colab_type": "code",
        "colab": {}
      },
      "cell_type": "code",
      "source": [
        ""
      ],
      "execution_count": 0,
      "outputs": []
    }
  ]
}