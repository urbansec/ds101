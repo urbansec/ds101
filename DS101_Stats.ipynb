{
  "nbformat": 4,
  "nbformat_minor": 0,
  "metadata": {
    "colab": {
      "name": "DS101_Stats.ipynb",
      "version": "0.3.2",
      "provenance": [],
      "collapsed_sections": [],
      "toc_visible": true
    },
    "kernelspec": {
      "name": "python3",
      "display_name": "Python 3"
    }
  },
  "cells": [
    {
      "metadata": {
        "id": "anje91qHZBHD",
        "colab_type": "text"
      },
      "cell_type": "markdown",
      "source": [
        "# Get Set Up"
      ]
    },
    {
      "metadata": {
        "id": "hTAlb_J_Zxsp",
        "colab_type": "text"
      },
      "cell_type": "markdown",
      "source": [
        "## Import Libraries"
      ]
    },
    {
      "metadata": {
        "id": "Yu_GGlGJZMJ_",
        "colab_type": "code",
        "colab": {}
      },
      "cell_type": "code",
      "source": [
        "# Pandas provides an extremely useful data structure\n",
        "import pandas as pd\n",
        "\n",
        "# Math provides additional math functions\n",
        "import math\n",
        "\n",
        "\n"
      ],
      "execution_count": 0,
      "outputs": []
    },
    {
      "metadata": {
        "id": "RHJ-2OMwbKpW",
        "colab_type": "text"
      },
      "cell_type": "markdown",
      "source": [
        "## Load Data"
      ]
    },
    {
      "metadata": {
        "id": "wr_QkeyDbWaB",
        "colab_type": "code",
        "colab": {}
      },
      "cell_type": "code",
      "source": [
        "# Define vars\n",
        "intel_url = \"https://raw.githubusercontent.com/urbansec/ds101/master/av_ip_reputation_2019-04-07.csv\"\n",
        "intel_cols = ['ip', 'risk', 'reliability', 'activity', 'country', 'city', 'lat_lon', 'unknown']\n",
        "\n",
        "\n",
        "# Read intel into dataframe\n",
        "intel_df = pd.read_csv(intel_url, sep='#', header=None, names=intel_cols)\n"
      ],
      "execution_count": 0,
      "outputs": []
    },
    {
      "metadata": {
        "id": "JR_G-c6eDAQJ",
        "colab_type": "text"
      },
      "cell_type": "markdown",
      "source": [
        "# Examine Data"
      ]
    },
    {
      "metadata": {
        "id": "_Zb1vShhxB6X",
        "colab_type": "text"
      },
      "cell_type": "markdown",
      "source": [
        "## Alien Vault IP Reputation Data Set\n",
        "Description:\n",
        "\n",
        "* IP - IPv4 address\n",
        "* Risk - how risky is the target (1-10)\n",
        "* Reliability - how reliable is the rating (1-10)\n",
        "* Activity - what type of host is it\n",
        "* Country - what is the IPv4 country of origin\n",
        "* City - what is the IPv4 city of origin\n",
        "* Latitude - geolocated latitude of the IPv4\n",
        "* Longitude - geolocated longitude of the IPv4\n",
        "\n",
        "\n",
        "\n",
        "\n"
      ]
    },
    {
      "metadata": {
        "id": "qwKr-IwSAHaX",
        "colab_type": "text"
      },
      "cell_type": "markdown",
      "source": [
        "## Look at the raw data"
      ]
    },
    {
      "metadata": {
        "id": "9eV9_8H_6Lyg",
        "colab_type": "code",
        "outputId": "da80e3a6-202e-4d82-965e-0ca506c0db40",
        "colab": {
          "base_uri": "https://localhost:8080/",
          "height": 204
        }
      },
      "cell_type": "code",
      "source": [
        "# display first 5 lines in list\n",
        "display(intel_df.head())"
      ],
      "execution_count": 0,
      "outputs": [
        {
          "output_type": "display_data",
          "data": {
            "text/html": [
              "<div>\n",
              "<style scoped>\n",
              "    .dataframe tbody tr th:only-of-type {\n",
              "        vertical-align: middle;\n",
              "    }\n",
              "\n",
              "    .dataframe tbody tr th {\n",
              "        vertical-align: top;\n",
              "    }\n",
              "\n",
              "    .dataframe thead th {\n",
              "        text-align: right;\n",
              "    }\n",
              "</style>\n",
              "<table border=\"1\" class=\"dataframe\">\n",
              "  <thead>\n",
              "    <tr style=\"text-align: right;\">\n",
              "      <th></th>\n",
              "      <th>ip</th>\n",
              "      <th>risk</th>\n",
              "      <th>reliability</th>\n",
              "      <th>activity</th>\n",
              "      <th>country</th>\n",
              "      <th>city</th>\n",
              "      <th>lat_lon</th>\n",
              "      <th>unknown</th>\n",
              "    </tr>\n",
              "  </thead>\n",
              "  <tbody>\n",
              "    <tr>\n",
              "      <th>0</th>\n",
              "      <td>46.246.124.162</td>\n",
              "      <td>4</td>\n",
              "      <td>2</td>\n",
              "      <td>Malicious Host</td>\n",
              "      <td>SE</td>\n",
              "      <td>NaN</td>\n",
              "      <td>59.3246994019,18.0559997559</td>\n",
              "      <td>3</td>\n",
              "    </tr>\n",
              "    <tr>\n",
              "      <th>1</th>\n",
              "      <td>23.94.213.6</td>\n",
              "      <td>4</td>\n",
              "      <td>2</td>\n",
              "      <td>Malicious Host</td>\n",
              "      <td>US</td>\n",
              "      <td>Los Angeles</td>\n",
              "      <td>34.0544013977,-118.244003296</td>\n",
              "      <td>3</td>\n",
              "    </tr>\n",
              "    <tr>\n",
              "      <th>2</th>\n",
              "      <td>23.116.185.114</td>\n",
              "      <td>4</td>\n",
              "      <td>2</td>\n",
              "      <td>Malicious Host</td>\n",
              "      <td>US</td>\n",
              "      <td>NaN</td>\n",
              "      <td>37.7509994507,-97.8219985962</td>\n",
              "      <td>3</td>\n",
              "    </tr>\n",
              "    <tr>\n",
              "      <th>3</th>\n",
              "      <td>23.30.95.53</td>\n",
              "      <td>4</td>\n",
              "      <td>2</td>\n",
              "      <td>Malicious Host</td>\n",
              "      <td>US</td>\n",
              "      <td>NaN</td>\n",
              "      <td>37.7509994507,-97.8219985962</td>\n",
              "      <td>3</td>\n",
              "    </tr>\n",
              "    <tr>\n",
              "      <th>4</th>\n",
              "      <td>14.58.252.223</td>\n",
              "      <td>4</td>\n",
              "      <td>2</td>\n",
              "      <td>Malicious Host</td>\n",
              "      <td>KR</td>\n",
              "      <td>NaN</td>\n",
              "      <td>37.5111999512,126.974098206</td>\n",
              "      <td>3</td>\n",
              "    </tr>\n",
              "  </tbody>\n",
              "</table>\n",
              "</div>"
            ],
            "text/plain": [
              "               ip  risk  reliability        activity country         city  \\\n",
              "0  46.246.124.162     4            2  Malicious Host      SE          NaN   \n",
              "1     23.94.213.6     4            2  Malicious Host      US  Los Angeles   \n",
              "2  23.116.185.114     4            2  Malicious Host      US          NaN   \n",
              "3     23.30.95.53     4            2  Malicious Host      US          NaN   \n",
              "4   14.58.252.223     4            2  Malicious Host      KR          NaN   \n",
              "\n",
              "                        lat_lon unknown  \n",
              "0   59.3246994019,18.0559997559       3  \n",
              "1  34.0544013977,-118.244003296       3  \n",
              "2  37.7509994507,-97.8219985962       3  \n",
              "3  37.7509994507,-97.8219985962       3  \n",
              "4   37.5111999512,126.974098206       3  "
            ]
          },
          "metadata": {
            "tags": []
          }
        }
      ]
    },
    {
      "metadata": {
        "id": "T0MMZfsCAPN-",
        "colab_type": "text"
      },
      "cell_type": "markdown",
      "source": [
        "# Stats on Quantitative Data: Risk"
      ]
    },
    {
      "metadata": {
        "id": "gyiUgMhKA1BW",
        "colab_type": "text"
      },
      "cell_type": "markdown",
      "source": [
        "## Start with most basic stats"
      ]
    },
    {
      "metadata": {
        "id": "6IMQrzB_aped",
        "colab_type": "code",
        "outputId": "c5c43d70-e1e6-431b-b949-15ee8abb7283",
        "colab": {
          "base_uri": "https://localhost:8080/",
          "height": 34
        }
      },
      "cell_type": "code",
      "source": [
        "# count\n",
        "record_count = len(intel_df.index)\n",
        "record_count"
      ],
      "execution_count": 0,
      "outputs": [
        {
          "output_type": "execute_result",
          "data": {
            "text/plain": [
              "57684"
            ]
          },
          "metadata": {
            "tags": []
          },
          "execution_count": 5
        }
      ]
    },
    {
      "metadata": {
        "id": "2dzMKh96vfJ8",
        "colab_type": "code",
        "outputId": "e77eb83c-d364-45c5-ba8e-b376e8078616",
        "colab": {
          "base_uri": "https://localhost:8080/",
          "height": 51
        }
      },
      "cell_type": "code",
      "source": [
        "# total\n",
        "risk_total = intel_df[['risk']].sum()\n",
        "risk_total"
      ],
      "execution_count": 0,
      "outputs": [
        {
          "output_type": "execute_result",
          "data": {
            "text/plain": [
              "risk    217527\n",
              "dtype: int64"
            ]
          },
          "metadata": {
            "tags": []
          },
          "execution_count": 6
        }
      ]
    },
    {
      "metadata": {
        "id": "08x8AifdvlRy",
        "colab_type": "code",
        "outputId": "57afeccd-2790-42f6-aee9-a53ec58f6523",
        "colab": {
          "base_uri": "https://localhost:8080/",
          "height": 51
        }
      },
      "cell_type": "code",
      "source": [
        "# min\n",
        "risk_min = intel_df[['risk']].min()\n",
        "risk_min"
      ],
      "execution_count": 0,
      "outputs": [
        {
          "output_type": "execute_result",
          "data": {
            "text/plain": [
              "risk    1\n",
              "dtype: int64"
            ]
          },
          "metadata": {
            "tags": []
          },
          "execution_count": 7
        }
      ]
    },
    {
      "metadata": {
        "id": "CLfvAGv4v4ar",
        "colab_type": "code",
        "outputId": "ff8e28ed-72d6-4833-a1e9-3029bace7d72",
        "colab": {
          "base_uri": "https://localhost:8080/",
          "height": 51
        }
      },
      "cell_type": "code",
      "source": [
        "# max\n",
        "risk_max = intel_df[['risk']].max()\n",
        "risk_max"
      ],
      "execution_count": 0,
      "outputs": [
        {
          "output_type": "execute_result",
          "data": {
            "text/plain": [
              "risk    4\n",
              "dtype: int64"
            ]
          },
          "metadata": {
            "tags": []
          },
          "execution_count": 8
        }
      ]
    },
    {
      "metadata": {
        "id": "zUDInTRlBBOK",
        "colab_type": "text"
      },
      "cell_type": "markdown",
      "source": [
        "## Central Tendency"
      ]
    },
    {
      "metadata": {
        "id": "srhyIZTPv51p",
        "colab_type": "code",
        "outputId": "ea4599ca-d003-445d-8159-c2f5ce9100d2",
        "colab": {
          "base_uri": "https://localhost:8080/",
          "height": 51
        }
      },
      "cell_type": "code",
      "source": [
        "# mean (manual)\n",
        "risk_mean1 = risk_total / record_count\n",
        "risk_mean1"
      ],
      "execution_count": 0,
      "outputs": [
        {
          "output_type": "execute_result",
          "data": {
            "text/plain": [
              "risk    3.771011\n",
              "dtype: float64"
            ]
          },
          "metadata": {
            "tags": []
          },
          "execution_count": 9
        }
      ]
    },
    {
      "metadata": {
        "id": "SJqx45Huwiw5",
        "colab_type": "code",
        "outputId": "97182a62-0a7f-4b49-cc7c-3688cbb78c4c",
        "colab": {
          "base_uri": "https://localhost:8080/",
          "height": 51
        }
      },
      "cell_type": "code",
      "source": [
        "# mean (function)\n",
        "risk_mean2 = intel_df[['risk']].mean()\n",
        "risk_mean2"
      ],
      "execution_count": 0,
      "outputs": [
        {
          "output_type": "execute_result",
          "data": {
            "text/plain": [
              "risk    3.771011\n",
              "dtype: float64"
            ]
          },
          "metadata": {
            "tags": []
          },
          "execution_count": 10
        }
      ]
    },
    {
      "metadata": {
        "id": "0Z6l5TTlv7NJ",
        "colab_type": "code",
        "outputId": "f934e031-da2f-4567-bc04-7afd641a7f1c",
        "colab": {
          "base_uri": "https://localhost:8080/",
          "height": 34
        }
      },
      "cell_type": "code",
      "source": [
        "# stdev (manual)\n",
        "#sq_err = (intel_df[['risk']].sub(risk_mean2, axis=0)) #** 2\n",
        "sq_err = (intel_df[['risk']] - risk_mean2.values[0]) ** 2\n",
        "sum_sq_err = sq_err.sum()\n",
        "risk_stdev1 = math.sqrt(sum_sq_err / record_count)\n",
        "risk_stdev1\n",
        "\n"
      ],
      "execution_count": 0,
      "outputs": [
        {
          "output_type": "execute_result",
          "data": {
            "text/plain": [
              "0.7965745243444221"
            ]
          },
          "metadata": {
            "tags": []
          },
          "execution_count": 11
        }
      ]
    },
    {
      "metadata": {
        "id": "Wk6BIbG7zgxg",
        "colab_type": "code",
        "outputId": "14b166d1-8ce5-4192-9c1d-30ff45f57e53",
        "colab": {
          "base_uri": "https://localhost:8080/",
          "height": 51
        }
      },
      "cell_type": "code",
      "source": [
        "# stdev (function)\n",
        "risk_stdev2 = intel_df[['risk']].std()\n",
        "risk_stdev2"
      ],
      "execution_count": 0,
      "outputs": [
        {
          "output_type": "execute_result",
          "data": {
            "text/plain": [
              "risk    0.796581\n",
              "dtype: float64"
            ]
          },
          "metadata": {
            "tags": []
          },
          "execution_count": 12
        }
      ]
    },
    {
      "metadata": {
        "id": "pN8BvI-Kv8fL",
        "colab_type": "code",
        "outputId": "73681acb-156f-4c6b-9526-0d891b5acb8e",
        "colab": {
          "base_uri": "https://localhost:8080/",
          "height": 51
        }
      },
      "cell_type": "code",
      "source": [
        "# median\n",
        "risk_median = intel_df[['risk']].median()\n",
        "risk_median"
      ],
      "execution_count": 0,
      "outputs": [
        {
          "output_type": "execute_result",
          "data": {
            "text/plain": [
              "risk    4.0\n",
              "dtype: float64"
            ]
          },
          "metadata": {
            "tags": []
          },
          "execution_count": 13
        }
      ]
    },
    {
      "metadata": {
        "id": "jiEyuEpRv9v0",
        "colab_type": "code",
        "outputId": "9c42426e-39c6-45c8-9b3e-ae9ff82f86ef",
        "colab": {
          "base_uri": "https://localhost:8080/",
          "height": 80
        }
      },
      "cell_type": "code",
      "source": [
        "# mode\n",
        "risk_mode = intel_df[['risk']].mode()\n",
        "risk_mode"
      ],
      "execution_count": 0,
      "outputs": [
        {
          "output_type": "execute_result",
          "data": {
            "text/html": [
              "<div>\n",
              "<style scoped>\n",
              "    .dataframe tbody tr th:only-of-type {\n",
              "        vertical-align: middle;\n",
              "    }\n",
              "\n",
              "    .dataframe tbody tr th {\n",
              "        vertical-align: top;\n",
              "    }\n",
              "\n",
              "    .dataframe thead th {\n",
              "        text-align: right;\n",
              "    }\n",
              "</style>\n",
              "<table border=\"1\" class=\"dataframe\">\n",
              "  <thead>\n",
              "    <tr style=\"text-align: right;\">\n",
              "      <th></th>\n",
              "      <th>risk</th>\n",
              "    </tr>\n",
              "  </thead>\n",
              "  <tbody>\n",
              "    <tr>\n",
              "      <th>0</th>\n",
              "      <td>4</td>\n",
              "    </tr>\n",
              "  </tbody>\n",
              "</table>\n",
              "</div>"
            ],
            "text/plain": [
              "   risk\n",
              "0     4"
            ]
          },
          "metadata": {
            "tags": []
          },
          "execution_count": 14
        }
      ]
    },
    {
      "metadata": {
        "id": "5-t8AAw4BLmE",
        "colab_type": "text"
      },
      "cell_type": "markdown",
      "source": [
        "**With the median and mode equal to 4, why is the mean lower?**"
      ]
    },
    {
      "metadata": {
        "id": "MjmxNDelu3AP",
        "colab_type": "text"
      },
      "cell_type": "markdown",
      "source": [
        "## Make a Histogram"
      ]
    },
    {
      "metadata": {
        "id": "ALt3_810xvgM",
        "colab_type": "text"
      },
      "cell_type": "markdown",
      "source": [
        "**A histogram can help you understand basic statistical properties of a data set more intuitively.**\n",
        "\n",
        "In this case, we see almost all of the data points have a risk of 4.  A few have a risk of 1, and there is nothing in between.  This is why the mode and median values are both 4, but the mean is slightly lower."
      ]
    },
    {
      "metadata": {
        "id": "dipVGk9AAa9W",
        "colab_type": "code",
        "outputId": "de637231-562c-4a39-cda2-751cc71b2838",
        "colab": {
          "base_uri": "https://localhost:8080/",
          "height": 396
        }
      },
      "cell_type": "code",
      "source": [
        "intel_df[['risk']].hist()"
      ],
      "execution_count": 0,
      "outputs": [
        {
          "output_type": "execute_result",
          "data": {
            "text/plain": [
              "array([[<matplotlib.axes._subplots.AxesSubplot object at 0x7f9ca9d8eb70>]],\n",
              "      dtype=object)"
            ]
          },
          "metadata": {
            "tags": []
          },
          "execution_count": 15
        },
        {
          "output_type": "display_data",
          "data": {
            "image/png": "[encoded data removed]",
            "text/plain": [
              "<Figure size 576x396 with 1 Axes>"
            ]
          },
          "metadata": {
            "tags": []
          }
        }
      ]
    },
    {
      "metadata": {
        "id": "KL_0m8LFBlG3",
        "colab_type": "text"
      },
      "cell_type": "markdown",
      "source": [
        "## Easier Summary Statistics: Pandas  'describe()' Method"
      ]
    },
    {
      "metadata": {
        "id": "b9Te7YhgBqu7",
        "colab_type": "code",
        "outputId": "63d854b3-2367-4a20-a220-6e408149b8cf",
        "colab": {
          "base_uri": "https://localhost:8080/",
          "height": 297
        }
      },
      "cell_type": "code",
      "source": [
        "intel_df[['risk']].describe()"
      ],
      "execution_count": 0,
      "outputs": [
        {
          "output_type": "execute_result",
          "data": {
            "text/html": [
              "<div>\n",
              "<style scoped>\n",
              "    .dataframe tbody tr th:only-of-type {\n",
              "        vertical-align: middle;\n",
              "    }\n",
              "\n",
              "    .dataframe tbody tr th {\n",
              "        vertical-align: top;\n",
              "    }\n",
              "\n",
              "    .dataframe thead th {\n",
              "        text-align: right;\n",
              "    }\n",
              "</style>\n",
              "<table border=\"1\" class=\"dataframe\">\n",
              "  <thead>\n",
              "    <tr style=\"text-align: right;\">\n",
              "      <th></th>\n",
              "      <th>risk</th>\n",
              "    </tr>\n",
              "  </thead>\n",
              "  <tbody>\n",
              "    <tr>\n",
              "      <th>count</th>\n",
              "      <td>57684.000000</td>\n",
              "    </tr>\n",
              "    <tr>\n",
              "      <th>mean</th>\n",
              "      <td>3.771011</td>\n",
              "    </tr>\n",
              "    <tr>\n",
              "      <th>std</th>\n",
              "      <td>0.796581</td>\n",
              "    </tr>\n",
              "    <tr>\n",
              "      <th>min</th>\n",
              "      <td>1.000000</td>\n",
              "    </tr>\n",
              "    <tr>\n",
              "      <th>25%</th>\n",
              "      <td>4.000000</td>\n",
              "    </tr>\n",
              "    <tr>\n",
              "      <th>50%</th>\n",
              "      <td>4.000000</td>\n",
              "    </tr>\n",
              "    <tr>\n",
              "      <th>75%</th>\n",
              "      <td>4.000000</td>\n",
              "    </tr>\n",
              "    <tr>\n",
              "      <th>max</th>\n",
              "      <td>4.000000</td>\n",
              "    </tr>\n",
              "  </tbody>\n",
              "</table>\n",
              "</div>"
            ],
            "text/plain": [
              "               risk\n",
              "count  57684.000000\n",
              "mean       3.771011\n",
              "std        0.796581\n",
              "min        1.000000\n",
              "25%        4.000000\n",
              "50%        4.000000\n",
              "75%        4.000000\n",
              "max        4.000000"
            ]
          },
          "metadata": {
            "tags": []
          },
          "execution_count": 16
        }
      ]
    },
    {
      "metadata": {
        "id": "LspDDY-XBGjF",
        "colab_type": "text"
      },
      "cell_type": "markdown",
      "source": [
        "# Stats on Qualitative Data: Activity"
      ]
    },
    {
      "metadata": {
        "id": "DUjsoJERBteY",
        "colab_type": "text"
      },
      "cell_type": "markdown",
      "source": [
        "## Summary Statistics"
      ]
    },
    {
      "metadata": {
        "id": "u8rkLygpBxVv",
        "colab_type": "text"
      },
      "cell_type": "markdown",
      "source": [
        "Note that for qualitative data, a different set of statistics is generated."
      ]
    },
    {
      "metadata": {
        "id": "BH6ZMLsnBurh",
        "colab_type": "code",
        "outputId": "a85bd066-4820-4b0d-eb0e-a36fc6eb8f39",
        "colab": {
          "base_uri": "https://localhost:8080/",
          "height": 173
        }
      },
      "cell_type": "code",
      "source": [
        "# use describe() for quick summary stats\n",
        "intel_df[['country']].describe()"
      ],
      "execution_count": 0,
      "outputs": [
        {
          "output_type": "execute_result",
          "data": {
            "text/html": [
              "<div>\n",
              "<style scoped>\n",
              "    .dataframe tbody tr th:only-of-type {\n",
              "        vertical-align: middle;\n",
              "    }\n",
              "\n",
              "    .dataframe tbody tr th {\n",
              "        vertical-align: top;\n",
              "    }\n",
              "\n",
              "    .dataframe thead th {\n",
              "        text-align: right;\n",
              "    }\n",
              "</style>\n",
              "<table border=\"1\" class=\"dataframe\">\n",
              "  <thead>\n",
              "    <tr style=\"text-align: right;\">\n",
              "      <th></th>\n",
              "      <th>country</th>\n",
              "    </tr>\n",
              "  </thead>\n",
              "  <tbody>\n",
              "    <tr>\n",
              "      <th>count</th>\n",
              "      <td>55991</td>\n",
              "    </tr>\n",
              "    <tr>\n",
              "      <th>unique</th>\n",
              "      <td>183</td>\n",
              "    </tr>\n",
              "    <tr>\n",
              "      <th>top</th>\n",
              "      <td>CN</td>\n",
              "    </tr>\n",
              "    <tr>\n",
              "      <th>freq</th>\n",
              "      <td>9827</td>\n",
              "    </tr>\n",
              "  </tbody>\n",
              "</table>\n",
              "</div>"
            ],
            "text/plain": [
              "       country\n",
              "count    55991\n",
              "unique     183\n",
              "top         CN\n",
              "freq      9827"
            ]
          },
          "metadata": {
            "tags": []
          },
          "execution_count": 29
        }
      ]
    },
    {
      "metadata": {
        "id": "aTCAg8eULHD0",
        "colab_type": "text"
      },
      "cell_type": "markdown",
      "source": [
        "Looking at the most frequent values gives an idea of what is \"normal.\" In this case, Chinese, Russian, and US IPs dominate the list. "
      ]
    },
    {
      "metadata": {
        "id": "wJEgt7DMAs6_",
        "colab_type": "code",
        "outputId": "98b2c895-fed9-435d-da0d-01864453805e",
        "colab": {
          "base_uri": "https://localhost:8080/",
          "height": 204
        }
      },
      "cell_type": "code",
      "source": [
        "# most frequent values\n",
        "# note, using dot notation to return series rather than df\n",
        "intel_df.country.value_counts().head(10)"
      ],
      "execution_count": 0,
      "outputs": [
        {
          "output_type": "execute_result",
          "data": {
            "text/plain": [
              "CN    9827\n",
              "RU    6522\n",
              "US    5417\n",
              "IN    2477\n",
              "TW    1891\n",
              "KR    1888\n",
              "BR    1836\n",
              "VN    1446\n",
              "JP    1201\n",
              "UA    1176\n",
              "Name: country, dtype: int64"
            ]
          },
          "metadata": {
            "tags": []
          },
          "execution_count": 32
        }
      ]
    },
    {
      "metadata": {
        "id": "FBsS0NSXLc2B",
        "colab_type": "text"
      },
      "cell_type": "markdown",
      "source": [
        "Looking at the least frequent values may or may not be useful.  These are rare occurences, by definition.  In some situations, these would be relevant anomalies.  In other situations, they would be noise."
      ]
    },
    {
      "metadata": {
        "id": "KLAnxL3aCOAx",
        "colab_type": "code",
        "outputId": "b7993f94-17c6-4ee6-c1bf-2595d14a0fa2",
        "colab": {
          "base_uri": "https://localhost:8080/",
          "height": 204
        }
      },
      "cell_type": "code",
      "source": [
        "# least frequent values\n",
        "# note, using dot notation to return series rather than df\n",
        "intel_df.country.value_counts().tail(10)"
      ],
      "execution_count": 0,
      "outputs": [
        {
          "output_type": "execute_result",
          "data": {
            "text/plain": [
              "MC    1\n",
              "ZW    1\n",
              "ER    1\n",
              "HM    1\n",
              "SN    1\n",
              "CV    1\n",
              "TC    1\n",
              "GQ    1\n",
              "GG    1\n",
              "TG    1\n",
              "Name: country, dtype: int64"
            ]
          },
          "metadata": {
            "tags": []
          },
          "execution_count": 33
        }
      ]
    },
    {
      "metadata": {
        "id": "iIgZdtMCKwW4",
        "colab_type": "code",
        "colab": {}
      },
      "cell_type": "code",
      "source": [
        ""
      ],
      "execution_count": 0,
      "outputs": []
    }
  ]
}