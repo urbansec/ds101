{
  "nbformat": 4,
  "nbformat_minor": 0,
  "metadata": {
    "colab": {
      "name": "DS101_ExploratoryAnalysis.ipynb",
      "version": "0.3.2",
      "provenance": [],
      "collapsed_sections": [
        "QuhYDR2Ijjhu",
        "hTAlb_J_Zxsp",
        "CHGVznn_5Z6_"
      ],
      "toc_visible": true
    },
    "kernelspec": {
      "name": "python3",
      "display_name": "Python 3"
    }
  },
  "cells": [
    {
      "metadata": {
        "id": "QuhYDR2Ijjhu",
        "colab_type": "text"
      },
      "cell_type": "markdown",
      "source": [
        "# Get Set Up"
      ]
    },
    {
      "metadata": {
        "id": "hTAlb_J_Zxsp",
        "colab_type": "text"
      },
      "cell_type": "markdown",
      "source": [
        "## Import Libraries"
      ]
    },
    {
      "metadata": {
        "id": "Yu_GGlGJZMJ_",
        "colab_type": "code",
        "colab": {}
      },
      "cell_type": "code",
      "source": [
        "# Pandas provides an extremely useful data structure\n",
        "import pandas as pd\n",
        "\n",
        "# RE provides regular expression pattern matching\n",
        "import re\n",
        "\n",
        "# datetime provides a datetime object class and conversion utilities\n",
        "from datetime import datetime\n",
        "\n",
        "# Web file access\n",
        "from urllib.request import urlopen\n",
        "\n",
        "# Math provides additional math functions\n",
        "import math\n"
      ],
      "execution_count": 0,
      "outputs": []
    },
    {
      "metadata": {
        "id": "CHGVznn_5Z6_",
        "colab_type": "text"
      },
      "cell_type": "markdown",
      "source": [
        "## Define Some Functions"
      ]
    },
    {
      "metadata": {
        "id": "nTDoZ1KHX9Qm",
        "colab_type": "code",
        "colab": {}
      },
      "cell_type": "code",
      "source": [
        "def log_ReadFile(logfile):\n",
        "  with open(logfile) as fh:\n",
        "    loglines = fh.readlines()\n",
        "  loglines = [line.strip() for line in loglines]\n",
        "  return loglines"
      ],
      "execution_count": 0,
      "outputs": []
    },
    {
      "metadata": {
        "id": "YBLuCVQaX90u",
        "colab_type": "code",
        "colab": {}
      },
      "cell_type": "code",
      "source": [
        "def log_ReadURL(logfile):\n",
        "  loglines = urlopen(logfile).readlines()\n",
        "  loglines = [line.decode().strip() for line in loglines]\n",
        "  return loglines"
      ],
      "execution_count": 0,
      "outputs": []
    },
    {
      "metadata": {
        "id": "EG3BBk8Q5eF6",
        "colab_type": "code",
        "colab": {}
      },
      "cell_type": "code",
      "source": [
        "def log_Parser(log_list, regx_obj, col_list):\n",
        "  # initialize empty lists for results\n",
        "  logs_parsed = []\n",
        "  parse_fails = []\n",
        "  \n",
        "  # parse logs using supplied regex and column list\n",
        "  for line in log_list:\n",
        "    match = regx_obj.match(line)\n",
        "    if match:\n",
        "      logs_parsed.append([match.group(col) for col in col_list]) \n",
        "    else:\n",
        "      parse_fails.append(line)\n",
        "      \n",
        "  # return parsed data and list of lines that were not parsed correctly\n",
        "  return logs_parsed, parse_fails"
      ],
      "execution_count": 0,
      "outputs": []
    },
    {
      "metadata": {
        "id": "RHJ-2OMwbKpW",
        "colab_type": "text"
      },
      "cell_type": "markdown",
      "source": [
        "## Load Data"
      ]
    },
    {
      "metadata": {
        "id": "wr_QkeyDbWaB",
        "colab_type": "code",
        "colab": {}
      },
      "cell_type": "code",
      "source": [
        "# URL of source data file\n",
        "access_url = \"https://raw.githubusercontent.com/urbansec/ds101/master/access.log.2019-03-22\"\n",
        "\n",
        "# Read log files into lists\n",
        "access_logs = log_ReadURL(access_url)"
      ],
      "execution_count": 0,
      "outputs": []
    },
    {
      "metadata": {
        "id": "APLpRuqPYKy2",
        "colab_type": "code",
        "colab": {}
      },
      "cell_type": "code",
      "source": [
        "# IP reputation indicators\n",
        "intel_url = \"https://raw.githubusercontent.com/urbansec/ds101/master/av_ip_reputation_2019-04-07.csv\"\n",
        "intel_cols = ['ip', 'risk', 'reliability', 'activity', 'country', 'city', 'lat_lon', 'unknown']\n",
        "intel_df = pd.read_csv(intel_url, sep='#', header=None, names=intel_cols)\n",
        "intel_df = intel_df.drop(columns=['unknown'])"
      ],
      "execution_count": 0,
      "outputs": []
    },
    {
      "metadata": {
        "id": "2sdO6aviEDL1",
        "colab_type": "code",
        "colab": {}
      },
      "cell_type": "code",
      "source": [
        "# display first 5 lines in list\n",
        "#display(error_logs[:5])"
      ],
      "execution_count": 0,
      "outputs": []
    },
    {
      "metadata": {
        "id": "x3V0Kif_Ft86",
        "colab_type": "text"
      },
      "cell_type": "markdown",
      "source": [
        "## Parse Data"
      ]
    },
    {
      "metadata": {
        "id": "5q4ks9NpPCRI",
        "colab_type": "code",
        "colab": {}
      },
      "cell_type": "code",
      "source": [
        "# define a regex pattern to parse lines into fields\n",
        "# sample line:\n",
        "# ['54.36.148.18 - - [22/Mar/2019:01:58:55 -0700] \"GET /self.logs/error.log.2016-04-07.gz HTTP/1.1\" 404 284 \"-\" \"Mozilla/5.0 (compatible; AhrefsBot/6.1; +http://ahrefs.com/robot/)\"']\n",
        "web_access_pattern = re.compile('(?P<client_ip>\\S+)'\n",
        "                                '\\s+(?P<identity>\\S+)'\n",
        "                                '\\s+(?P<username>\\S+)'\n",
        "                                '\\s+\\[(?P<date>[^\\]]+)\\]'\n",
        "                                '\\s+\\\"(?P<request>[^\"]+)\\\"'\n",
        "                                '\\s+(?P<http_response>\\d+)'\n",
        "                                '\\s+(?P<bytes>\\d+)'\n",
        "                                '\\s+\\\"(?P<referrer>[^\"]+)\\\"'\n",
        "                                '\\s+\\\"(?P<user_agent>.*)')\n",
        "\n",
        "# define list of columns to use\n",
        "access_column_list = ['date', 'client_ip', 'request', 'http_response', 'bytes', 'referrer', 'user_agent']\n",
        "\n",
        "\n",
        "# call parser\n",
        "access_logs_parsed, access_logs_parsefail = log_Parser(access_logs, web_access_pattern, access_column_list)\n"
      ],
      "execution_count": 0,
      "outputs": []
    },
    {
      "metadata": {
        "id": "CYP7oB1vdZx7",
        "colab_type": "text"
      },
      "cell_type": "markdown",
      "source": [
        "### Troubleshooting Only"
      ]
    },
    {
      "metadata": {
        "id": "r-kTT4RXVcwZ",
        "colab_type": "code",
        "colab": {}
      },
      "cell_type": "code",
      "source": [
        "# test parsing\n",
        "#access_logs_parsed[:5]"
      ],
      "execution_count": 0,
      "outputs": []
    },
    {
      "metadata": {
        "id": "fZtXP2znYnwh",
        "colab_type": "code",
        "colab": {}
      },
      "cell_type": "code",
      "source": [
        "# did any lines fail to parse?\n",
        "#access_logs_parsefail[:5]"
      ],
      "execution_count": 0,
      "outputs": []
    },
    {
      "metadata": {
        "id": "BJqC-hbjBlw9",
        "colab_type": "text"
      },
      "cell_type": "markdown",
      "source": [
        "## Data Frame"
      ]
    },
    {
      "metadata": {
        "id": "bsK8-xVFZMGG",
        "colab_type": "code",
        "outputId": "e09c2fd3-d11a-481b-e208-98dfae7decf8",
        "colab": {
          "base_uri": "https://localhost:8080/",
          "height": 289
        }
      },
      "cell_type": "code",
      "source": [
        "# convert to Pandas DataFrame and display it\n",
        "access_logs_df = pd.DataFrame.from_records(access_logs_parsed, columns=access_column_list)\n",
        "access_logs_df['date'] = pd.to_datetime(access_logs_df['date'], format='%d/%b/%Y:%H:%M:%S -0700')\n",
        "display(access_logs_df.head())"
      ],
      "execution_count": 33,
      "outputs": [
        {
          "output_type": "display_data",
          "data": {
            "text/html": [
              "<div>\n",
              "<style scoped>\n",
              "    .dataframe tbody tr th:only-of-type {\n",
              "        vertical-align: middle;\n",
              "    }\n",
              "\n",
              "    .dataframe tbody tr th {\n",
              "        vertical-align: top;\n",
              "    }\n",
              "\n",
              "    .dataframe thead th {\n",
              "        text-align: right;\n",
              "    }\n",
              "</style>\n",
              "<table border=\"1\" class=\"dataframe\">\n",
              "  <thead>\n",
              "    <tr style=\"text-align: right;\">\n",
              "      <th></th>\n",
              "      <th>date</th>\n",
              "      <th>client_ip</th>\n",
              "      <th>request</th>\n",
              "      <th>http_response</th>\n",
              "      <th>bytes</th>\n",
              "      <th>referrer</th>\n",
              "      <th>user_agent</th>\n",
              "    </tr>\n",
              "  </thead>\n",
              "  <tbody>\n",
              "    <tr>\n",
              "      <th>0</th>\n",
              "      <td>2019-03-22 01:55:15</td>\n",
              "      <td>101.89.29.92</td>\n",
              "      <td>GET / HTTP/1.1</td>\n",
              "      <td>200</td>\n",
              "      <td>46424</td>\n",
              "      <td>-</td>\n",
              "      <td>Mozilla/5.0 (iPhone; CPU iPhone OS 10_2_1 like...</td>\n",
              "    </tr>\n",
              "    <tr>\n",
              "      <th>1</th>\n",
              "      <td>2019-03-22 01:57:37</td>\n",
              "      <td>54.36.148.43</td>\n",
              "      <td>GET /self.logs/2015/access.log.2015-05-08.gz H...</td>\n",
              "      <td>200</td>\n",
              "      <td>4813</td>\n",
              "      <td>-</td>\n",
              "      <td>Mozilla/5.0 (compatible; AhrefsBot/6.1; +http:...</td>\n",
              "    </tr>\n",
              "    <tr>\n",
              "      <th>2</th>\n",
              "      <td>2019-03-22 01:58:55</td>\n",
              "      <td>54.36.148.18</td>\n",
              "      <td>GET /self.logs/error.log.2016-04-07.gz HTTP/1.1</td>\n",
              "      <td>404</td>\n",
              "      <td>284</td>\n",
              "      <td>-</td>\n",
              "      <td>Mozilla/5.0 (compatible; AhrefsBot/6.1; +http:...</td>\n",
              "    </tr>\n",
              "    <tr>\n",
              "      <th>3</th>\n",
              "      <td>2019-03-22 02:04:26</td>\n",
              "      <td>54.36.148.62</td>\n",
              "      <td>GET /self.logs/access.log.2016-10-30.gz HTTP/1.1</td>\n",
              "      <td>404</td>\n",
              "      <td>284</td>\n",
              "      <td>-</td>\n",
              "      <td>Mozilla/5.0 (compatible; AhrefsBot/6.1; +http:...</td>\n",
              "    </tr>\n",
              "    <tr>\n",
              "      <th>4</th>\n",
              "      <td>2019-03-22 02:04:51</td>\n",
              "      <td>54.36.149.57</td>\n",
              "      <td>GET /self.logs/2016/error.log.2016-05-19.gz HT...</td>\n",
              "      <td>200</td>\n",
              "      <td>867</td>\n",
              "      <td>-</td>\n",
              "      <td>Mozilla/5.0 (compatible; AhrefsBot/6.1; +http:...</td>\n",
              "    </tr>\n",
              "  </tbody>\n",
              "</table>\n",
              "</div>"
            ],
            "text/plain": [
              "                 date     client_ip  \\\n",
              "0 2019-03-22 01:55:15  101.89.29.92   \n",
              "1 2019-03-22 01:57:37  54.36.148.43   \n",
              "2 2019-03-22 01:58:55  54.36.148.18   \n",
              "3 2019-03-22 02:04:26  54.36.148.62   \n",
              "4 2019-03-22 02:04:51  54.36.149.57   \n",
              "\n",
              "                                             request http_response  bytes  \\\n",
              "0                                     GET / HTTP/1.1           200  46424   \n",
              "1  GET /self.logs/2015/access.log.2015-05-08.gz H...           200   4813   \n",
              "2    GET /self.logs/error.log.2016-04-07.gz HTTP/1.1           404    284   \n",
              "3   GET /self.logs/access.log.2016-10-30.gz HTTP/1.1           404    284   \n",
              "4  GET /self.logs/2016/error.log.2016-05-19.gz HT...           200    867   \n",
              "\n",
              "  referrer                                         user_agent  \n",
              "0        -  Mozilla/5.0 (iPhone; CPU iPhone OS 10_2_1 like...  \n",
              "1        -  Mozilla/5.0 (compatible; AhrefsBot/6.1; +http:...  \n",
              "2        -  Mozilla/5.0 (compatible; AhrefsBot/6.1; +http:...  \n",
              "3        -  Mozilla/5.0 (compatible; AhrefsBot/6.1; +http:...  \n",
              "4        -  Mozilla/5.0 (compatible; AhrefsBot/6.1; +http:...  "
            ]
          },
          "metadata": {
            "tags": []
          }
        }
      ]
    },
    {
      "metadata": {
        "id": "hFuwu0JiVfYc",
        "colab_type": "code",
        "colab": {}
      },
      "cell_type": "code",
      "source": [
        ""
      ],
      "execution_count": 0,
      "outputs": []
    },
    {
      "metadata": {
        "id": "8wDLp5R5a0TJ",
        "colab_type": "text"
      },
      "cell_type": "markdown",
      "source": [
        "# Instructions"
      ]
    },
    {
      "metadata": {
        "id": "rF1BHVuJNbDN",
        "colab_type": "text"
      },
      "cell_type": "markdown",
      "source": [
        "In this lab, you will combine techniques from the previous labs to explore an additional data set.  Namely, you will look at the web access logs from the same server as the error logs we looked at in Lab #1.\n",
        "\n",
        "* To save time, the logs have been parsed already.  They are stored in a Pandas dataframe called \"error_logs_df\".\n",
        "\n",
        "* Conduct exploratory data analysis to gain an understanding into these logs, and answer the questions defined below.  We recommend inserting text blocks to organize your work, if helpful.  Several collapsible \"header\" sections have been provided to guide your analysis.\n",
        "\n",
        "* The IP reputation data used in the previous labs is also available as a DataFrame.  It is stored in the variable \"intel_df\".\n",
        "\n",
        "**To begin, choose \"Runtime -> Run All\" from the menu options.**"
      ]
    },
    {
      "metadata": {
        "id": "O-ANAxVhNRfe",
        "colab_type": "text"
      },
      "cell_type": "markdown",
      "source": [
        "# Get a Feel For the Data"
      ]
    },
    {
      "metadata": {
        "id": "H3kEIQjL-Hzq",
        "colab_type": "text"
      },
      "cell_type": "markdown",
      "source": [
        "To get started, here are two easy steps provided for you.  Take a look at a sample of the data.  Then examine some basic summary statistics for the entire dataframe (you should still examine inidividual columns more carefully)."
      ]
    },
    {
      "metadata": {
        "id": "ymk_LGX8cBDv",
        "colab_type": "text"
      },
      "cell_type": "markdown",
      "source": [
        "## Examine the Data"
      ]
    },
    {
      "metadata": {
        "id": "vUze7VKjaR7Q",
        "colab_type": "code",
        "outputId": "ed1974f6-f053-478b-c6be-bd5393986b44",
        "colab": {
          "base_uri": "https://localhost:8080/",
          "height": 289
        }
      },
      "cell_type": "code",
      "source": [
        "access_logs_df.head()"
      ],
      "execution_count": 34,
      "outputs": [
        {
          "output_type": "execute_result",
          "data": {
            "text/html": [
              "<div>\n",
              "<style scoped>\n",
              "    .dataframe tbody tr th:only-of-type {\n",
              "        vertical-align: middle;\n",
              "    }\n",
              "\n",
              "    .dataframe tbody tr th {\n",
              "        vertical-align: top;\n",
              "    }\n",
              "\n",
              "    .dataframe thead th {\n",
              "        text-align: right;\n",
              "    }\n",
              "</style>\n",
              "<table border=\"1\" class=\"dataframe\">\n",
              "  <thead>\n",
              "    <tr style=\"text-align: right;\">\n",
              "      <th></th>\n",
              "      <th>date</th>\n",
              "      <th>client_ip</th>\n",
              "      <th>request</th>\n",
              "      <th>http_response</th>\n",
              "      <th>bytes</th>\n",
              "      <th>referrer</th>\n",
              "      <th>user_agent</th>\n",
              "    </tr>\n",
              "  </thead>\n",
              "  <tbody>\n",
              "    <tr>\n",
              "      <th>0</th>\n",
              "      <td>2019-03-22 01:55:15</td>\n",
              "      <td>101.89.29.92</td>\n",
              "      <td>GET / HTTP/1.1</td>\n",
              "      <td>200</td>\n",
              "      <td>46424</td>\n",
              "      <td>-</td>\n",
              "      <td>Mozilla/5.0 (iPhone; CPU iPhone OS 10_2_1 like...</td>\n",
              "    </tr>\n",
              "    <tr>\n",
              "      <th>1</th>\n",
              "      <td>2019-03-22 01:57:37</td>\n",
              "      <td>54.36.148.43</td>\n",
              "      <td>GET /self.logs/2015/access.log.2015-05-08.gz H...</td>\n",
              "      <td>200</td>\n",
              "      <td>4813</td>\n",
              "      <td>-</td>\n",
              "      <td>Mozilla/5.0 (compatible; AhrefsBot/6.1; +http:...</td>\n",
              "    </tr>\n",
              "    <tr>\n",
              "      <th>2</th>\n",
              "      <td>2019-03-22 01:58:55</td>\n",
              "      <td>54.36.148.18</td>\n",
              "      <td>GET /self.logs/error.log.2016-04-07.gz HTTP/1.1</td>\n",
              "      <td>404</td>\n",
              "      <td>284</td>\n",
              "      <td>-</td>\n",
              "      <td>Mozilla/5.0 (compatible; AhrefsBot/6.1; +http:...</td>\n",
              "    </tr>\n",
              "    <tr>\n",
              "      <th>3</th>\n",
              "      <td>2019-03-22 02:04:26</td>\n",
              "      <td>54.36.148.62</td>\n",
              "      <td>GET /self.logs/access.log.2016-10-30.gz HTTP/1.1</td>\n",
              "      <td>404</td>\n",
              "      <td>284</td>\n",
              "      <td>-</td>\n",
              "      <td>Mozilla/5.0 (compatible; AhrefsBot/6.1; +http:...</td>\n",
              "    </tr>\n",
              "    <tr>\n",
              "      <th>4</th>\n",
              "      <td>2019-03-22 02:04:51</td>\n",
              "      <td>54.36.149.57</td>\n",
              "      <td>GET /self.logs/2016/error.log.2016-05-19.gz HT...</td>\n",
              "      <td>200</td>\n",
              "      <td>867</td>\n",
              "      <td>-</td>\n",
              "      <td>Mozilla/5.0 (compatible; AhrefsBot/6.1; +http:...</td>\n",
              "    </tr>\n",
              "  </tbody>\n",
              "</table>\n",
              "</div>"
            ],
            "text/plain": [
              "                 date     client_ip  \\\n",
              "0 2019-03-22 01:55:15  101.89.29.92   \n",
              "1 2019-03-22 01:57:37  54.36.148.43   \n",
              "2 2019-03-22 01:58:55  54.36.148.18   \n",
              "3 2019-03-22 02:04:26  54.36.148.62   \n",
              "4 2019-03-22 02:04:51  54.36.149.57   \n",
              "\n",
              "                                             request http_response  bytes  \\\n",
              "0                                     GET / HTTP/1.1           200  46424   \n",
              "1  GET /self.logs/2015/access.log.2015-05-08.gz H...           200   4813   \n",
              "2    GET /self.logs/error.log.2016-04-07.gz HTTP/1.1           404    284   \n",
              "3   GET /self.logs/access.log.2016-10-30.gz HTTP/1.1           404    284   \n",
              "4  GET /self.logs/2016/error.log.2016-05-19.gz HT...           200    867   \n",
              "\n",
              "  referrer                                         user_agent  \n",
              "0        -  Mozilla/5.0 (iPhone; CPU iPhone OS 10_2_1 like...  \n",
              "1        -  Mozilla/5.0 (compatible; AhrefsBot/6.1; +http:...  \n",
              "2        -  Mozilla/5.0 (compatible; AhrefsBot/6.1; +http:...  \n",
              "3        -  Mozilla/5.0 (compatible; AhrefsBot/6.1; +http:...  \n",
              "4        -  Mozilla/5.0 (compatible; AhrefsBot/6.1; +http:...  "
            ]
          },
          "metadata": {
            "tags": []
          },
          "execution_count": 34
        }
      ]
    },
    {
      "metadata": {
        "id": "yKA_EOAh-l7A",
        "colab_type": "text"
      },
      "cell_type": "markdown",
      "source": [
        "## Summary Statistics"
      ]
    },
    {
      "metadata": {
        "id": "OAgrZJv8cJLK",
        "colab_type": "code",
        "outputId": "bd1a7806-3daa-4e30-8413-edb7b0613d82",
        "colab": {
          "base_uri": "https://localhost:8080/",
          "height": 235
        }
      },
      "cell_type": "code",
      "source": [
        "access_logs_df.describe(include='all')"
      ],
      "execution_count": 35,
      "outputs": [
        {
          "output_type": "execute_result",
          "data": {
            "text/html": [
              "<div>\n",
              "<style scoped>\n",
              "    .dataframe tbody tr th:only-of-type {\n",
              "        vertical-align: middle;\n",
              "    }\n",
              "\n",
              "    .dataframe tbody tr th {\n",
              "        vertical-align: top;\n",
              "    }\n",
              "\n",
              "    .dataframe thead th {\n",
              "        text-align: right;\n",
              "    }\n",
              "</style>\n",
              "<table border=\"1\" class=\"dataframe\">\n",
              "  <thead>\n",
              "    <tr style=\"text-align: right;\">\n",
              "      <th></th>\n",
              "      <th>date</th>\n",
              "      <th>client_ip</th>\n",
              "      <th>request</th>\n",
              "      <th>http_response</th>\n",
              "      <th>bytes</th>\n",
              "      <th>referrer</th>\n",
              "      <th>user_agent</th>\n",
              "    </tr>\n",
              "  </thead>\n",
              "  <tbody>\n",
              "    <tr>\n",
              "      <th>count</th>\n",
              "      <td>1305</td>\n",
              "      <td>1305</td>\n",
              "      <td>1305</td>\n",
              "      <td>1305</td>\n",
              "      <td>1305</td>\n",
              "      <td>1305</td>\n",
              "      <td>1305</td>\n",
              "    </tr>\n",
              "    <tr>\n",
              "      <th>unique</th>\n",
              "      <td>974</td>\n",
              "      <td>576</td>\n",
              "      <td>503</td>\n",
              "      <td>5</td>\n",
              "      <td>380</td>\n",
              "      <td>67</td>\n",
              "      <td>135</td>\n",
              "    </tr>\n",
              "    <tr>\n",
              "      <th>top</th>\n",
              "      <td>2019-03-23 01:52:10</td>\n",
              "      <td>222.186.57.109</td>\n",
              "      <td>GET / HTTP/1.1</td>\n",
              "      <td>200</td>\n",
              "      <td>12511</td>\n",
              "      <td>-</td>\n",
              "      <td>Mozilla/5.0 (compatible; AhrefsBot/6.1; +http:...</td>\n",
              "    </tr>\n",
              "    <tr>\n",
              "      <th>freq</th>\n",
              "      <td>32</td>\n",
              "      <td>23</td>\n",
              "      <td>306</td>\n",
              "      <td>837</td>\n",
              "      <td>168</td>\n",
              "      <td>886</td>\n",
              "      <td>241</td>\n",
              "    </tr>\n",
              "    <tr>\n",
              "      <th>first</th>\n",
              "      <td>2019-03-22 01:55:15</td>\n",
              "      <td>NaN</td>\n",
              "      <td>NaN</td>\n",
              "      <td>NaN</td>\n",
              "      <td>NaN</td>\n",
              "      <td>NaN</td>\n",
              "      <td>NaN</td>\n",
              "    </tr>\n",
              "    <tr>\n",
              "      <th>last</th>\n",
              "      <td>2019-03-23 02:08:53</td>\n",
              "      <td>NaN</td>\n",
              "      <td>NaN</td>\n",
              "      <td>NaN</td>\n",
              "      <td>NaN</td>\n",
              "      <td>NaN</td>\n",
              "      <td>NaN</td>\n",
              "    </tr>\n",
              "  </tbody>\n",
              "</table>\n",
              "</div>"
            ],
            "text/plain": [
              "                       date       client_ip         request http_response  \\\n",
              "count                  1305            1305            1305          1305   \n",
              "unique                  974             576             503             5   \n",
              "top     2019-03-23 01:52:10  222.186.57.109  GET / HTTP/1.1           200   \n",
              "freq                     32              23             306           837   \n",
              "first   2019-03-22 01:55:15             NaN             NaN           NaN   \n",
              "last    2019-03-23 02:08:53             NaN             NaN           NaN   \n",
              "\n",
              "        bytes referrer                                         user_agent  \n",
              "count    1305     1305                                               1305  \n",
              "unique    380       67                                                135  \n",
              "top     12511        -  Mozilla/5.0 (compatible; AhrefsBot/6.1; +http:...  \n",
              "freq      168      886                                                241  \n",
              "first     NaN      NaN                                                NaN  \n",
              "last      NaN      NaN                                                NaN  "
            ]
          },
          "metadata": {
            "tags": []
          },
          "execution_count": 35
        }
      ]
    },
    {
      "metadata": {
        "id": "zE3rcEswQ84y",
        "colab_type": "text"
      },
      "cell_type": "markdown",
      "source": [
        "Based on a quick looks at the statistics, there are some factors that stand out as worthy of further investigation.\n",
        "\n",
        "* The standard deviation for the number of bytes transferred perrequest is larger than the mean.  This indicates a high variance for that variable. \n",
        "* The vast majority of http response codes are 200.\n",
        "* The vast majority of http referrers are blank.\n",
        "\n",
        "\n",
        "Additionally, we should be sure to explore the data contained in the remaining fields too."
      ]
    },
    {
      "metadata": {
        "id": "W6NfvITuRHxT",
        "colab_type": "text"
      },
      "cell_type": "markdown",
      "source": [
        "# Data Transfer (bytes)"
      ]
    },
    {
      "metadata": {
        "id": "V_RhkRcCRTqk",
        "colab_type": "text"
      },
      "cell_type": "markdown",
      "source": [
        "Start by creating a histogram of the \"bytes\" column to understand the shape of the data."
      ]
    },
    {
      "metadata": {
        "id": "DazfW27QcgWh",
        "colab_type": "code",
        "colab": {}
      },
      "cell_type": "code",
      "source": [
        "# Create a histogram\n"
      ],
      "execution_count": 0,
      "outputs": []
    },
    {
      "metadata": {
        "id": "jooYESoySsaz",
        "colab_type": "text"
      },
      "cell_type": "markdown",
      "source": [
        "Almost all of the datapoints are concentrated at the very low end of the spectrum.  Select the rows of the DataFrame with bytes > 1e7 (10,000,000) to see if high values reveal anything interesting."
      ]
    },
    {
      "metadata": {
        "id": "8TD9w9HPRflx",
        "colab_type": "code",
        "colab": {}
      },
      "cell_type": "code",
      "source": [
        "# Filter the dataframe to rows with large values of the \"bytes\" column\n"
      ],
      "execution_count": 0,
      "outputs": []
    },
    {
      "metadata": {
        "id": "o4u7uu4DS1b-",
        "colab_type": "text"
      },
      "cell_type": "markdown",
      "source": [
        "Now filter the dataframe and display a histogram showing only the rows closer to zero (bytes < 1000) to see the frequencies of the smaller values."
      ]
    },
    {
      "metadata": {
        "id": "rLliQwbGVfys",
        "colab_type": "code",
        "colab": {}
      },
      "cell_type": "code",
      "source": [
        "# Filter to rows with bytes < 1000 and display a histogram\n"
      ],
      "execution_count": 0,
      "outputs": []
    },
    {
      "metadata": {
        "id": "gaQaVF_vXuNP",
        "colab_type": "text"
      },
      "cell_type": "markdown",
      "source": [
        "The majority of these values seem to lay between 200 - 700 bytes.  Examine rows where bytes < 200."
      ]
    },
    {
      "metadata": {
        "id": "HMHq8bKbVn4m",
        "colab_type": "code",
        "colab": {}
      },
      "cell_type": "code",
      "source": [
        "# Display rows with bytes < 200\n"
      ],
      "execution_count": 0,
      "outputs": []
    },
    {
      "metadata": {
        "id": "nUo8osSiYMvO",
        "colab_type": "text"
      },
      "cell_type": "markdown",
      "source": [
        "Since nothing so far has seemed unusual, let's look at the spike of the entries.  Filter the data to rows where the value of \"bytes\" is between 200 and 400."
      ]
    },
    {
      "metadata": {
        "id": "NcJWMGUcXtEd",
        "colab_type": "code",
        "colab": {}
      },
      "cell_type": "code",
      "source": [
        "# Filter to rows where bytes is between 200 - 400 and display\n",
        "# Hint: you can use the \".between() method like... df[df['column'].between(200,400)]\n"
      ],
      "execution_count": 0,
      "outputs": []
    },
    {
      "metadata": {
        "id": "miOLIIIbaqWS",
        "colab_type": "text"
      },
      "cell_type": "markdown",
      "source": [
        "This seems to contain many errors (http response 404).  Examining the number of bytes transferred has not revealed much of interest, from a security perspective.  It has lead us to a second area of inquiry."
      ]
    },
    {
      "metadata": {
        "id": "Ooy4YdJNbTRQ",
        "colab_type": "text"
      },
      "cell_type": "markdown",
      "source": [
        "# HTTP Response Codes (http_response)"
      ]
    },
    {
      "metadata": {
        "id": "ExrqtlVpdLjV",
        "colab_type": "text"
      },
      "cell_type": "markdown",
      "source": [
        "As we saw in our initial summary statistics, the majority of HTTP response codes in the dataset are \"200\" (meaning the connection completed normally).  List the frequency counts of each response code to get a sense of how these are distributed."
      ]
    },
    {
      "metadata": {
        "id": "F-SgnLvYYwo4",
        "colab_type": "code",
        "colab": {}
      },
      "cell_type": "code",
      "source": [
        "# Display frequency counts for the \"http_response\" variable\n",
        "# Hint: use the \".value_counts()\" method\n"
      ],
      "execution_count": 0,
      "outputs": []
    },
    {
      "metadata": {
        "id": "gSp7-6USeJ-w",
        "colab_type": "text"
      },
      "cell_type": "markdown",
      "source": [
        "HTTP response code 404 indicates a requested file was not found.  Display a sample of 10 rows containing this response code."
      ]
    },
    {
      "metadata": {
        "id": "aH68eBP0edvN",
        "colab_type": "code",
        "colab": {}
      },
      "cell_type": "code",
      "source": [
        "# Display the first 10 rows where the \"http_response\" variable is \"404\"\n",
        "# Hint: using \".head(10)\" instead of \".head()\" will show 10 rows instead of 5\n"
      ],
      "execution_count": 0,
      "outputs": []
    },
    {
      "metadata": {
        "id": "Y9lyLwgOfLqX",
        "colab_type": "text"
      },
      "cell_type": "markdown",
      "source": [
        "There seems to be a single IP causing many of the 404 errors.  Now filter the dataset to rows where the response code is 404 again, but this time display the frequency counts of the top IPs.  This will show us which IP addresses are causing repeated 404 errors."
      ]
    },
    {
      "metadata": {
        "id": "I2coxBngfKRo",
        "colab_type": "code",
        "colab": {}
      },
      "cell_type": "code",
      "source": [
        "# Display frequency counts of IPs, after filtering the dataset to containly only rows where the response code is 404\n"
      ],
      "execution_count": 0,
      "outputs": []
    },
    {
      "metadata": {
        "id": "SC9Q9-zegvLA",
        "colab_type": "text"
      },
      "cell_type": "markdown",
      "source": [
        "Finally, let's take one of the most egregious IPs and look at all the activity it is responsible for.  Filter the dataset to include only rows from one of these IPs and display the first 10 rows."
      ]
    },
    {
      "metadata": {
        "id": "KzeSxXzIgYJL",
        "colab_type": "code",
        "colab": {}
      },
      "cell_type": "code",
      "source": [
        "# Display the first 10 rows of activity caused by one of the IPs above that repeatedly causes 404 errors\n"
      ],
      "execution_count": 0,
      "outputs": []
    },
    {
      "metadata": {
        "id": "fxOIVCOJibl3",
        "colab_type": "text"
      },
      "cell_type": "markdown",
      "source": [
        "You should see repeated POST requests for PHP files that do not exist.  This likely indicates someone running an automated tool that attempts to exploit known vulnerabilities in common web frameworks, such as WordPress.\n",
        "\n",
        "**Good job!  Using basic data manipulation and statistical guidance, you have detected malicious activity!**"
      ]
    },
    {
      "metadata": {
        "id": "axQTPJf8kVbd",
        "colab_type": "text"
      },
      "cell_type": "markdown",
      "source": [
        "# HTTP Referrer (referrer)"
      ]
    },
    {
      "metadata": {
        "id": "OwQ2_W3FkY42",
        "colab_type": "text"
      },
      "cell_type": "markdown",
      "source": [
        "Going back to the summary stats we generated at the beginning of this exercise, we noticed that more than half of the HTTP referrers were blank (i.e. set to \"-\").  Our previous exploration of number of bytes transferred and HTTP response codes lead us to believe that the majority of our dataset respresents benign activity.  Therefore, let's examine the less common case where the referrer is not blank to see if anything interesting is revealed."
      ]
    },
    {
      "metadata": {
        "id": "blYYYgy5l5Gl",
        "colab_type": "text"
      },
      "cell_type": "markdown",
      "source": [
        "Start by filtering to display only rows where the \"referrer\" fields is not equal to \"-\".  This can be written as **referrer != \"-\"**"
      ]
    },
    {
      "metadata": {
        "id": "nOO8UJGOhFHk",
        "colab_type": "code",
        "colab": {}
      },
      "cell_type": "code",
      "source": [
        "# Display the first 10 rows where referrer != \"-\"\n"
      ],
      "execution_count": 0,
      "outputs": []
    },
    {
      "metadata": {
        "id": "J9p6AFsunxYb",
        "colab_type": "text"
      },
      "cell_type": "markdown",
      "source": [
        "You may notice some of the initial activity looks like web scanning activity again (POST requests for files that don't exist).  Next, perform the same filter for rows where the referrer isn't blank, but this time list the most frequent IPs."
      ]
    },
    {
      "metadata": {
        "id": "MA53xWk_nwJN",
        "colab_type": "code",
        "colab": {}
      },
      "cell_type": "code",
      "source": [
        "# Display the most frequent IPs creating requests where the referrer isn't blank\n"
      ],
      "execution_count": 0,
      "outputs": []
    },
    {
      "metadata": {
        "id": "fLtI0ESmoYCq",
        "colab_type": "text"
      },
      "cell_type": "markdown",
      "source": [
        "You should notice significant overlap between this list, and the previous list of malicious IPs identified through our response code analysis.\n",
        "\n",
        "**Nice work!  By continuing the analysis, you discovered a second relationship in the data that could be used to detect or confirm malicious activity!**"
      ]
    },
    {
      "metadata": {
        "id": "QY0esFrlp39c",
        "colab_type": "text"
      },
      "cell_type": "markdown",
      "source": [
        "# User Agent String (user_agent)"
      ]
    },
    {
      "metadata": {
        "id": "wIZC0zXdqJQr",
        "colab_type": "text"
      },
      "cell_type": "markdown",
      "source": [
        "The user agent string helps identify the browser version, allowing a web server to tailor its response accordingly.  If you don't know, they are relatively messy.  Our initial summary statistics didn't reveal anything unusual about this column.  In the interest of time, we will perform a quick analysis on the length of the strings, rather than sifting through the text itself."
      ]
    },
    {
      "metadata": {
        "id": "FnWqL-pIrKMw",
        "colab_type": "text"
      },
      "cell_type": "markdown",
      "source": [
        "The code snippet below generates a new dataframe that contains a single column.  The values in that column correspond to the length of each user agent string from the initial DataFrame."
      ]
    },
    {
      "metadata": {
        "id": "-3a_MMYbr3qM",
        "colab_type": "code",
        "colab": {}
      },
      "cell_type": "code",
      "source": [
        "ua_len_df = pd.DataFrame(access_logs_df['user_agent'].str.len())\n",
        "ua_len_df = ua_len_df.rename(columns={'user_agent':'length'})"
      ],
      "execution_count": 0,
      "outputs": []
    },
    {
      "metadata": {
        "id": "CU-KY4gIr6ST",
        "colab_type": "text"
      },
      "cell_type": "markdown",
      "source": [
        "Create a histogram from the \"ua_len_df\" DataFrame to get a feel for the distribution of the lengths."
      ]
    },
    {
      "metadata": {
        "id": "nBmX6aAar4gT",
        "colab_type": "code",
        "colab": {}
      },
      "cell_type": "code",
      "source": [
        "# Create a histogram of the ua_len_df DataFrame\n"
      ],
      "execution_count": 0,
      "outputs": []
    },
    {
      "metadata": {
        "id": "d2l3PYMNsKCQ",
        "colab_type": "text"
      },
      "cell_type": "markdown",
      "source": [
        "**FINISH THIS LATER - OR MAYBE SKIP?**"
      ]
    },
    {
      "metadata": {
        "id": "qAS99IlGtBRZ",
        "colab_type": "text"
      },
      "cell_type": "markdown",
      "source": [
        "# Client IP Address (client_ip)"
      ]
    },
    {
      "metadata": {
        "id": "wqnVRDmrtIlD",
        "colab_type": "text"
      },
      "cell_type": "markdown",
      "source": [
        "As with the user agent strings, our initial summary statistics did not reveal anything particularly interesting about this field.  With 1305 rows, there are 576 unique IPs, and the most frequent IP occurs only 23 times.\n",
        "\n",
        "One thing that might yield some insights is adding context by checking to see if any of the IPs appear in our list of threat indicators (stored as a DataFrame as \"intel_df\")"
      ]
    },
    {
      "metadata": {
        "id": "J81WLcc8uNFX",
        "colab_type": "text"
      },
      "cell_type": "markdown",
      "source": [
        "Join our log dataset with our IP reputation data and display any matching items (refer to the Data Basics lab for an example)."
      ]
    },
    {
      "metadata": {
        "id": "4NJpNcgys_e8",
        "colab_type": "code",
        "colab": {}
      },
      "cell_type": "code",
      "source": [
        "# Join the log data with the ip reputation data and display matches\n"
      ],
      "execution_count": 0,
      "outputs": []
    },
    {
      "metadata": {
        "id": "dJlIhiowuKhe",
        "colab_type": "code",
        "colab": {}
      },
      "cell_type": "code",
      "source": [
        ""
      ],
      "execution_count": 0,
      "outputs": []
    }
  ]
}