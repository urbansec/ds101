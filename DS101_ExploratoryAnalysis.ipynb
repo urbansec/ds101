{
  "nbformat": 4,
  "nbformat_minor": 0,
  "metadata": {
    "colab": {
      "name": "DS101_ExploratoryAnalysis.ipynb",
      "version": "0.3.2",
      "provenance": [],
      "collapsed_sections": [
        "QuhYDR2Ijjhu",
        "hTAlb_J_Zxsp",
        "CHGVznn_5Z6_",
        "RHJ-2OMwbKpW",
        "x3V0Kif_Ft86"
      ],
      "toc_visible": true
    },
    "kernelspec": {
      "name": "python3",
      "display_name": "Python 3"
    }
  },
  "cells": [
    {
      "metadata": {
        "id": "QuhYDR2Ijjhu",
        "colab_type": "text"
      },
      "cell_type": "markdown",
      "source": [
        "# Get Set Up"
      ]
    },
    {
      "metadata": {
        "id": "hTAlb_J_Zxsp",
        "colab_type": "text"
      },
      "cell_type": "markdown",
      "source": [
        "## Import Libraries"
      ]
    },
    {
      "metadata": {
        "id": "Yu_GGlGJZMJ_",
        "colab_type": "code",
        "colab": {}
      },
      "cell_type": "code",
      "source": [
        "# Pandas provides an extremely useful data structure\n",
        "import pandas as pd\n",
        "\n",
        "# RE provides regular expression pattern matching\n",
        "import re\n",
        "\n",
        "# datetime provides a datetime object class and conversion utilities\n",
        "from datetime import datetime\n",
        "\n",
        "# Web file access\n",
        "from urllib.request import urlopen\n",
        "\n",
        "# Google tools\n",
        "from google.colab import drive\n",
        "\n",
        "# Math provides additional math functions\n",
        "import math\n"
      ],
      "execution_count": 0,
      "outputs": []
    },
    {
      "metadata": {
        "id": "CHGVznn_5Z6_",
        "colab_type": "text"
      },
      "cell_type": "markdown",
      "source": [
        "## Define Some Functions"
      ]
    },
    {
      "metadata": {
        "id": "EG3BBk8Q5eF6",
        "colab_type": "code",
        "colab": {}
      },
      "cell_type": "code",
      "source": [
        "def log_ReadFile(logfile):\n",
        "  with open(logfile) as fh:\n",
        "    loglines = fh.readlines()\n",
        "  loglines = [line.strip() for line in loglines]\n",
        "  return loglines\n",
        "\n",
        "\n",
        "def log_ReadURL(logfile):\n",
        "  loglines = urlopen(logfile).readlines()\n",
        "  loglines = [line.decode().strip() for line in loglines]\n",
        "  return loglines\n",
        "\n",
        "\n",
        "def log_Parser(log_list, regx_obj, col_list):\n",
        "  # initialize empty lists for results\n",
        "  logs_parsed = []\n",
        "  parse_fails = []\n",
        "  \n",
        "  # parse logs using supplied regex and column list\n",
        "  for line in log_list:\n",
        "    match = regx_obj.match(line)\n",
        "    if match:\n",
        "      logs_parsed.append([match.group(col) for col in col_list]) \n",
        "    else:\n",
        "      parse_fails.append(line)\n",
        "      \n",
        "  # return parsed data and list of lines that were not parsed correctly\n",
        "  return logs_parsed, parse_fails"
      ],
      "execution_count": 0,
      "outputs": []
    },
    {
      "metadata": {
        "id": "RHJ-2OMwbKpW",
        "colab_type": "text"
      },
      "cell_type": "markdown",
      "source": [
        "## Load Data"
      ]
    },
    {
      "metadata": {
        "id": "wr_QkeyDbWaB",
        "colab_type": "code",
        "colab": {}
      },
      "cell_type": "code",
      "source": [
        "# Define vars\n",
        "error_url = \"https://raw.githubusercontent.com/flarmy/ds101/master/error.log.2019-03-22\"\n",
        "\n",
        "# Read log files into lists\n",
        "error_logs = log_ReadURL(error_url)"
      ],
      "execution_count": 0,
      "outputs": []
    },
    {
      "metadata": {
        "id": "2sdO6aviEDL1",
        "colab_type": "code",
        "colab": {}
      },
      "cell_type": "code",
      "source": [
        "# display first 5 lines in list\n",
        "#display(error_logs[:5])"
      ],
      "execution_count": 0,
      "outputs": []
    },
    {
      "metadata": {
        "id": "x3V0Kif_Ft86",
        "colab_type": "text"
      },
      "cell_type": "markdown",
      "source": [
        "## Parse Data"
      ]
    },
    {
      "metadata": {
        "id": "5q4ks9NpPCRI",
        "colab_type": "code",
        "colab": {}
      },
      "cell_type": "code",
      "source": [
        "# define a regex pattern to parse lines into fields\n",
        "# sample line:\n",
        "# '[Fri Mar 22 02:13:49 2019] [error] [client 54.36.149.5] File does not exist: /home/sooshie/secrepo.com/self.logs/access.log.2015-09-07.gz']\n",
        "web_error_pattern = re.compile('\\[(?P<date>[^\\]]+)\\]'\n",
        "                                '\\s+\\[(?P<msg_type>[^\\]]+)\\]'\n",
        "                                '\\s+\\[client\\s+(?P<client_ip>[^\\]]+)\\]'\n",
        "                                '\\s+(?P<error_type>[^:]+):'\n",
        "                                '\\s+(?P<error_message>.*)')\n",
        "\n",
        "# define list of columns to use\n",
        "error_column_list = ['date', 'msg_type', 'client_ip', 'error_type', 'error_message']\n",
        "\n",
        "\n",
        "# call parser\n",
        "error_logs_parsed, error_logs_parsefail = log_Parser(error_logs, web_error_pattern, error_column_list)\n"
      ],
      "execution_count": 0,
      "outputs": []
    },
    {
      "metadata": {
        "id": "r-kTT4RXVcwZ",
        "colab_type": "code",
        "colab": {}
      },
      "cell_type": "code",
      "source": [
        "# test parsing\n",
        "#error_logs_parsed[:5]"
      ],
      "execution_count": 0,
      "outputs": []
    },
    {
      "metadata": {
        "id": "fZtXP2znYnwh",
        "colab_type": "code",
        "colab": {}
      },
      "cell_type": "code",
      "source": [
        "# did any lines fail to parse?\n",
        "#error_logs_parsefail[:5]"
      ],
      "execution_count": 0,
      "outputs": []
    },
    {
      "metadata": {
        "id": "bsK8-xVFZMGG",
        "colab_type": "code",
        "colab": {
          "base_uri": "https://localhost:8080/",
          "height": 204
        },
        "outputId": "f51cffdc-5526-4aa0-cb80-dee4a683437e"
      },
      "cell_type": "code",
      "source": [
        "# convert to Pandas dataframe and display it\n",
        "error_logs_df = pd.DataFrame.from_records(error_logs_parsed, columns=error_column_list)\n",
        "display(error_logs_df.head())"
      ],
      "execution_count": 41,
      "outputs": [
        {
          "output_type": "display_data",
          "data": {
            "text/html": [
              "<div>\n",
              "<style scoped>\n",
              "    .dataframe tbody tr th:only-of-type {\n",
              "        vertical-align: middle;\n",
              "    }\n",
              "\n",
              "    .dataframe tbody tr th {\n",
              "        vertical-align: top;\n",
              "    }\n",
              "\n",
              "    .dataframe thead th {\n",
              "        text-align: right;\n",
              "    }\n",
              "</style>\n",
              "<table border=\"1\" class=\"dataframe\">\n",
              "  <thead>\n",
              "    <tr style=\"text-align: right;\">\n",
              "      <th></th>\n",
              "      <th>date</th>\n",
              "      <th>msg_type</th>\n",
              "      <th>client_ip</th>\n",
              "      <th>error_type</th>\n",
              "      <th>error_message</th>\n",
              "    </tr>\n",
              "  </thead>\n",
              "  <tbody>\n",
              "    <tr>\n",
              "      <th>0</th>\n",
              "      <td>Fri Mar 22 01:58:55 2019</td>\n",
              "      <td>error</td>\n",
              "      <td>54.36.148.18</td>\n",
              "      <td>File does not exist</td>\n",
              "      <td>/home/sooshie/secrepo.com/self.logs/error.log....</td>\n",
              "    </tr>\n",
              "    <tr>\n",
              "      <th>1</th>\n",
              "      <td>Fri Mar 22 02:04:26 2019</td>\n",
              "      <td>error</td>\n",
              "      <td>54.36.148.62</td>\n",
              "      <td>File does not exist</td>\n",
              "      <td>/home/sooshie/secrepo.com/self.logs/access.log...</td>\n",
              "    </tr>\n",
              "    <tr>\n",
              "      <th>2</th>\n",
              "      <td>Fri Mar 22 02:08:27 2019</td>\n",
              "      <td>error</td>\n",
              "      <td>27.255.4.117</td>\n",
              "      <td>ModSecurity</td>\n",
              "      <td>Access denied with code 418 (phase 1). Pattern...</td>\n",
              "    </tr>\n",
              "    <tr>\n",
              "      <th>3</th>\n",
              "      <td>Fri Mar 22 02:08:28 2019</td>\n",
              "      <td>error</td>\n",
              "      <td>27.255.4.117</td>\n",
              "      <td>ModSecurity</td>\n",
              "      <td>Access denied with code 418 (phase 1). Pattern...</td>\n",
              "    </tr>\n",
              "    <tr>\n",
              "      <th>4</th>\n",
              "      <td>Fri Mar 22 02:13:49 2019</td>\n",
              "      <td>error</td>\n",
              "      <td>54.36.149.5</td>\n",
              "      <td>File does not exist</td>\n",
              "      <td>/home/sooshie/secrepo.com/self.logs/access.log...</td>\n",
              "    </tr>\n",
              "  </tbody>\n",
              "</table>\n",
              "</div>"
            ],
            "text/plain": [
              "                       date msg_type     client_ip           error_type  \\\n",
              "0  Fri Mar 22 01:58:55 2019    error  54.36.148.18  File does not exist   \n",
              "1  Fri Mar 22 02:04:26 2019    error  54.36.148.62  File does not exist   \n",
              "2  Fri Mar 22 02:08:27 2019    error  27.255.4.117          ModSecurity   \n",
              "3  Fri Mar 22 02:08:28 2019    error  27.255.4.117          ModSecurity   \n",
              "4  Fri Mar 22 02:13:49 2019    error   54.36.149.5  File does not exist   \n",
              "\n",
              "                                       error_message  \n",
              "0  /home/sooshie/secrepo.com/self.logs/error.log....  \n",
              "1  /home/sooshie/secrepo.com/self.logs/access.log...  \n",
              "2  Access denied with code 418 (phase 1). Pattern...  \n",
              "3  Access denied with code 418 (phase 1). Pattern...  \n",
              "4  /home/sooshie/secrepo.com/self.logs/access.log...  "
            ]
          },
          "metadata": {
            "tags": []
          }
        }
      ]
    },
    {
      "metadata": {
        "id": "hFuwu0JiVfYc",
        "colab_type": "code",
        "colab": {}
      },
      "cell_type": "code",
      "source": [
        ""
      ],
      "execution_count": 0,
      "outputs": []
    },
    {
      "metadata": {
        "id": "8wDLp5R5a0TJ",
        "colab_type": "text"
      },
      "cell_type": "markdown",
      "source": [
        "# Instructions"
      ]
    },
    {
      "metadata": {
        "id": "rF1BHVuJNbDN",
        "colab_type": "text"
      },
      "cell_type": "markdown",
      "source": [
        "In this lab, you will combine techniques from the previous labs to explore an additional data set.  Namely, you will look at the web error logs from the same server as the access logs we looked at in Lab #1.\n",
        "\n",
        "* To save time, the logs have been parsed already.  They are stored in a Pandas dataframe called \"error_logs_df\".\n",
        "\n",
        "* Conduct exploratory data analysis to gain an understanding into these logs, and answer the questions defined below.  We recommend inserting text blocks to organize your work, if helpful.  Several collapsible \"header\" sections have been provided to guide your analysis.\n",
        "\n",
        "**To begin, choose \"Runtime -> Run All\" from the menu options.**"
      ]
    },
    {
      "metadata": {
        "id": "O-ANAxVhNRfe",
        "colab_type": "text"
      },
      "cell_type": "markdown",
      "source": [
        "# Exploratory Analysis: Web Error Logs"
      ]
    },
    {
      "metadata": {
        "id": "H3kEIQjL-Hzq",
        "colab_type": "text"
      },
      "cell_type": "markdown",
      "source": [
        "To get started, here are two easy steps provided for you.  Take a look at a sample of the data.  Then run a simple command to generate some basic summary statistics for the entire dataframe (you should still examine inidividual columns more carefully)."
      ]
    },
    {
      "metadata": {
        "id": "ymk_LGX8cBDv",
        "colab_type": "text"
      },
      "cell_type": "markdown",
      "source": [
        "## Examine the Data"
      ]
    },
    {
      "metadata": {
        "id": "vUze7VKjaR7Q",
        "colab_type": "code",
        "colab": {
          "base_uri": "https://localhost:8080/",
          "height": 204
        },
        "outputId": "ed6e933c-b62d-4156-b6e6-61ec8d02b982"
      },
      "cell_type": "code",
      "source": [
        "error_logs_df.head()"
      ],
      "execution_count": 42,
      "outputs": [
        {
          "output_type": "execute_result",
          "data": {
            "text/html": [
              "<div>\n",
              "<style scoped>\n",
              "    .dataframe tbody tr th:only-of-type {\n",
              "        vertical-align: middle;\n",
              "    }\n",
              "\n",
              "    .dataframe tbody tr th {\n",
              "        vertical-align: top;\n",
              "    }\n",
              "\n",
              "    .dataframe thead th {\n",
              "        text-align: right;\n",
              "    }\n",
              "</style>\n",
              "<table border=\"1\" class=\"dataframe\">\n",
              "  <thead>\n",
              "    <tr style=\"text-align: right;\">\n",
              "      <th></th>\n",
              "      <th>date</th>\n",
              "      <th>msg_type</th>\n",
              "      <th>client_ip</th>\n",
              "      <th>error_type</th>\n",
              "      <th>error_message</th>\n",
              "    </tr>\n",
              "  </thead>\n",
              "  <tbody>\n",
              "    <tr>\n",
              "      <th>0</th>\n",
              "      <td>Fri Mar 22 01:58:55 2019</td>\n",
              "      <td>error</td>\n",
              "      <td>54.36.148.18</td>\n",
              "      <td>File does not exist</td>\n",
              "      <td>/home/sooshie/secrepo.com/self.logs/error.log....</td>\n",
              "    </tr>\n",
              "    <tr>\n",
              "      <th>1</th>\n",
              "      <td>Fri Mar 22 02:04:26 2019</td>\n",
              "      <td>error</td>\n",
              "      <td>54.36.148.62</td>\n",
              "      <td>File does not exist</td>\n",
              "      <td>/home/sooshie/secrepo.com/self.logs/access.log...</td>\n",
              "    </tr>\n",
              "    <tr>\n",
              "      <th>2</th>\n",
              "      <td>Fri Mar 22 02:08:27 2019</td>\n",
              "      <td>error</td>\n",
              "      <td>27.255.4.117</td>\n",
              "      <td>ModSecurity</td>\n",
              "      <td>Access denied with code 418 (phase 1). Pattern...</td>\n",
              "    </tr>\n",
              "    <tr>\n",
              "      <th>3</th>\n",
              "      <td>Fri Mar 22 02:08:28 2019</td>\n",
              "      <td>error</td>\n",
              "      <td>27.255.4.117</td>\n",
              "      <td>ModSecurity</td>\n",
              "      <td>Access denied with code 418 (phase 1). Pattern...</td>\n",
              "    </tr>\n",
              "    <tr>\n",
              "      <th>4</th>\n",
              "      <td>Fri Mar 22 02:13:49 2019</td>\n",
              "      <td>error</td>\n",
              "      <td>54.36.149.5</td>\n",
              "      <td>File does not exist</td>\n",
              "      <td>/home/sooshie/secrepo.com/self.logs/access.log...</td>\n",
              "    </tr>\n",
              "  </tbody>\n",
              "</table>\n",
              "</div>"
            ],
            "text/plain": [
              "                       date msg_type     client_ip           error_type  \\\n",
              "0  Fri Mar 22 01:58:55 2019    error  54.36.148.18  File does not exist   \n",
              "1  Fri Mar 22 02:04:26 2019    error  54.36.148.62  File does not exist   \n",
              "2  Fri Mar 22 02:08:27 2019    error  27.255.4.117          ModSecurity   \n",
              "3  Fri Mar 22 02:08:28 2019    error  27.255.4.117          ModSecurity   \n",
              "4  Fri Mar 22 02:13:49 2019    error   54.36.149.5  File does not exist   \n",
              "\n",
              "                                       error_message  \n",
              "0  /home/sooshie/secrepo.com/self.logs/error.log....  \n",
              "1  /home/sooshie/secrepo.com/self.logs/access.log...  \n",
              "2  Access denied with code 418 (phase 1). Pattern...  \n",
              "3  Access denied with code 418 (phase 1). Pattern...  \n",
              "4  /home/sooshie/secrepo.com/self.logs/access.log...  "
            ]
          },
          "metadata": {
            "tags": []
          },
          "execution_count": 42
        }
      ]
    },
    {
      "metadata": {
        "id": "yKA_EOAh-l7A",
        "colab_type": "text"
      },
      "cell_type": "markdown",
      "source": [
        "## Summary Statistics"
      ]
    },
    {
      "metadata": {
        "id": "OAgrZJv8cJLK",
        "colab_type": "code",
        "colab": {
          "base_uri": "https://localhost:8080/",
          "height": 173
        },
        "outputId": "b1aa9fbc-2266-4761-dc70-93073305bbff"
      },
      "cell_type": "code",
      "source": [
        "error_logs_df.describe()"
      ],
      "execution_count": 44,
      "outputs": [
        {
          "output_type": "execute_result",
          "data": {
            "text/html": [
              "<div>\n",
              "<style scoped>\n",
              "    .dataframe tbody tr th:only-of-type {\n",
              "        vertical-align: middle;\n",
              "    }\n",
              "\n",
              "    .dataframe tbody tr th {\n",
              "        vertical-align: top;\n",
              "    }\n",
              "\n",
              "    .dataframe thead th {\n",
              "        text-align: right;\n",
              "    }\n",
              "</style>\n",
              "<table border=\"1\" class=\"dataframe\">\n",
              "  <thead>\n",
              "    <tr style=\"text-align: right;\">\n",
              "      <th></th>\n",
              "      <th>date</th>\n",
              "      <th>msg_type</th>\n",
              "      <th>client_ip</th>\n",
              "      <th>error_type</th>\n",
              "      <th>error_message</th>\n",
              "    </tr>\n",
              "  </thead>\n",
              "  <tbody>\n",
              "    <tr>\n",
              "      <th>count</th>\n",
              "      <td>276</td>\n",
              "      <td>276</td>\n",
              "      <td>276</td>\n",
              "      <td>276</td>\n",
              "      <td>276</td>\n",
              "    </tr>\n",
              "    <tr>\n",
              "      <th>unique</th>\n",
              "      <td>208</td>\n",
              "      <td>1</td>\n",
              "      <td>133</td>\n",
              "      <td>2</td>\n",
              "      <td>169</td>\n",
              "    </tr>\n",
              "    <tr>\n",
              "      <th>top</th>\n",
              "      <td>Fri Mar 22 08:52:49 2019</td>\n",
              "      <td>error</td>\n",
              "      <td>222.186.160.61</td>\n",
              "      <td>File does not exist</td>\n",
              "      <td>/home/sooshie/secrepo.com/Datasets</td>\n",
              "    </tr>\n",
              "    <tr>\n",
              "      <th>freq</th>\n",
              "      <td>4</td>\n",
              "      <td>276</td>\n",
              "      <td>17</td>\n",
              "      <td>239</td>\n",
              "      <td>17</td>\n",
              "    </tr>\n",
              "  </tbody>\n",
              "</table>\n",
              "</div>"
            ],
            "text/plain": [
              "                            date msg_type       client_ip  \\\n",
              "count                        276      276             276   \n",
              "unique                       208        1             133   \n",
              "top     Fri Mar 22 08:52:49 2019    error  222.186.160.61   \n",
              "freq                           4      276              17   \n",
              "\n",
              "                 error_type                       error_message  \n",
              "count                   276                                 276  \n",
              "unique                    2                                 169  \n",
              "top     File does not exist  /home/sooshie/secrepo.com/Datasets  \n",
              "freq                    239                                  17  "
            ]
          },
          "metadata": {
            "tags": []
          },
          "execution_count": 44
        }
      ]
    },
    {
      "metadata": {
        "id": "DazfW27QcgWh",
        "colab_type": "code",
        "colab": {}
      },
      "cell_type": "code",
      "source": [
        ""
      ],
      "execution_count": 0,
      "outputs": []
    }
  ]
}