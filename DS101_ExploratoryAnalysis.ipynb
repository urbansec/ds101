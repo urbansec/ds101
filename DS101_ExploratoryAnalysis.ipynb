{
  "nbformat": 4,
  "nbformat_minor": 0,
  "metadata": {
    "colab": {
      "name": "DS101_ExploratoryAnalysis.ipynb",
      "version": "0.3.2",
      "provenance": [],
      "collapsed_sections": [
        "hTAlb_J_Zxsp",
        "CHGVznn_5Z6_"
      ],
      "toc_visible": true
    },
    "kernelspec": {
      "name": "python3",
      "display_name": "Python 3"
    }
  },
  "cells": [
    {
      "metadata": {
        "id": "QuhYDR2Ijjhu",
        "colab_type": "text"
      },
      "cell_type": "markdown",
      "source": [
        "# Get Set Up"
      ]
    },
    {
      "metadata": {
        "id": "hTAlb_J_Zxsp",
        "colab_type": "text"
      },
      "cell_type": "markdown",
      "source": [
        "## Import Libraries"
      ]
    },
    {
      "metadata": {
        "id": "Yu_GGlGJZMJ_",
        "colab_type": "code",
        "colab": {}
      },
      "cell_type": "code",
      "source": [
        "# Pandas provides an extremely useful data structure\n",
        "import pandas as pd\n",
        "\n",
        "# RE provides regular expression pattern matching\n",
        "import re\n",
        "\n",
        "# datetime provides a datetime object class and conversion utilities\n",
        "from datetime import datetime\n",
        "\n",
        "# Web file access\n",
        "from urllib.request import urlopen\n",
        "\n",
        "# Math provides additional math functions\n",
        "import math\n"
      ],
      "execution_count": 0,
      "outputs": []
    },
    {
      "metadata": {
        "id": "CHGVznn_5Z6_",
        "colab_type": "text"
      },
      "cell_type": "markdown",
      "source": [
        "## Define Some Functions"
      ]
    },
    {
      "metadata": {
        "id": "nTDoZ1KHX9Qm",
        "colab_type": "code",
        "colab": {}
      },
      "cell_type": "code",
      "source": [
        "def log_ReadFile(logfile):\n",
        "  with open(logfile) as fh:\n",
        "    loglines = fh.readlines()\n",
        "  loglines = [line.strip() for line in loglines]\n",
        "  return loglines"
      ],
      "execution_count": 0,
      "outputs": []
    },
    {
      "metadata": {
        "id": "YBLuCVQaX90u",
        "colab_type": "code",
        "colab": {}
      },
      "cell_type": "code",
      "source": [
        "def log_ReadURL(logfile):\n",
        "  loglines = urlopen(logfile).readlines()\n",
        "  loglines = [line.decode().strip() for line in loglines]\n",
        "  return loglines"
      ],
      "execution_count": 0,
      "outputs": []
    },
    {
      "metadata": {
        "id": "EG3BBk8Q5eF6",
        "colab_type": "code",
        "colab": {}
      },
      "cell_type": "code",
      "source": [
        "def log_Parser(log_list, regx_obj, col_list):\n",
        "  # initialize empty lists for results\n",
        "  logs_parsed = []\n",
        "  parse_fails = []\n",
        "  \n",
        "  # parse logs using supplied regex and column list\n",
        "  for line in log_list:\n",
        "    match = regx_obj.match(line)\n",
        "    if match:\n",
        "      logs_parsed.append([match.group(col) for col in col_list]) \n",
        "    else:\n",
        "      parse_fails.append(line)\n",
        "      \n",
        "  # return parsed data and list of lines that were not parsed correctly\n",
        "  return logs_parsed, parse_fails"
      ],
      "execution_count": 0,
      "outputs": []
    },
    {
      "metadata": {
        "id": "RHJ-2OMwbKpW",
        "colab_type": "text"
      },
      "cell_type": "markdown",
      "source": [
        "## Load Data"
      ]
    },
    {
      "metadata": {
        "id": "wr_QkeyDbWaB",
        "colab_type": "code",
        "colab": {}
      },
      "cell_type": "code",
      "source": [
        "# URL of source data file\n",
        "access_url = \"https://raw.githubusercontent.com/urbansec/ds101/master/access.log.2019-03-22\"\n",
        "\n",
        "# Read log files into lists\n",
        "access_logs = log_ReadURL(access_url)"
      ],
      "execution_count": 0,
      "outputs": []
    },
    {
      "metadata": {
        "id": "APLpRuqPYKy2",
        "colab_type": "code",
        "colab": {}
      },
      "cell_type": "code",
      "source": [
        "# IP reputation indicators\n",
        "intel_url = \"https://raw.githubusercontent.com/urbansec/ds101/master/av_ip_reputation_2019-04-07.csv\"\n",
        "intel_cols = ['ip', 'risk', 'reliability', 'activity', 'country', 'city', 'lat_lon', 'unknown']\n",
        "intel_df = pd.read_csv(intel_url, sep='#', header=None, names=intel_cols)\n",
        "intel_df = intel_df.drop(columns=['unknown'])"
      ],
      "execution_count": 0,
      "outputs": []
    },
    {
      "metadata": {
        "id": "2sdO6aviEDL1",
        "colab_type": "code",
        "colab": {}
      },
      "cell_type": "code",
      "source": [
        "# display first 5 lines in list\n",
        "#display(error_logs[:5])"
      ],
      "execution_count": 0,
      "outputs": []
    },
    {
      "metadata": {
        "id": "x3V0Kif_Ft86",
        "colab_type": "text"
      },
      "cell_type": "markdown",
      "source": [
        "## Parse Data"
      ]
    },
    {
      "metadata": {
        "id": "5q4ks9NpPCRI",
        "colab_type": "code",
        "colab": {}
      },
      "cell_type": "code",
      "source": [
        "# define a regex pattern to parse lines into fields\n",
        "# sample line:\n",
        "# ['54.36.148.18 - - [22/Mar/2019:01:58:55 -0700] \"GET /self.logs/error.log.2016-04-07.gz HTTP/1.1\" 404 284 \"-\" \"Mozilla/5.0 (compatible; AhrefsBot/6.1; +http://ahrefs.com/robot/)\"']\n",
        "web_access_pattern = re.compile('(?P<client_ip>\\S+)'\n",
        "                                '\\s+(?P<identity>\\S+)'\n",
        "                                '\\s+(?P<username>\\S+)'\n",
        "                                '\\s+\\[(?P<date>[^\\]]+)\\]'\n",
        "                                '\\s+\\\"(?P<request>[^\"]+)\\\"'\n",
        "                                '\\s+(?P<http_response>\\d+)'\n",
        "                                '\\s+(?P<bytes>\\d+)'\n",
        "                                '\\s+\\\"(?P<something_else>[^\"]+)\\\"'\n",
        "                                '\\s+\\\"(?P<user_agent>.*)')\n",
        "\n",
        "# define list of columns to use\n",
        "access_column_list = ['date', 'client_ip', 'request', 'http_response', 'bytes', 'something_else', 'user_agent']\n",
        "\n",
        "\n",
        "# call parser\n",
        "access_logs_parsed, access_logs_parsefail = log_Parser(access_logs, web_access_pattern, access_column_list)\n"
      ],
      "execution_count": 0,
      "outputs": []
    },
    {
      "metadata": {
        "id": "CYP7oB1vdZx7",
        "colab_type": "text"
      },
      "cell_type": "markdown",
      "source": [
        "### Troubleshooting Only"
      ]
    },
    {
      "metadata": {
        "id": "r-kTT4RXVcwZ",
        "colab_type": "code",
        "colab": {}
      },
      "cell_type": "code",
      "source": [
        "# test parsing\n",
        "#access_logs_parsed[:5]"
      ],
      "execution_count": 0,
      "outputs": []
    },
    {
      "metadata": {
        "id": "fZtXP2znYnwh",
        "colab_type": "code",
        "colab": {}
      },
      "cell_type": "code",
      "source": [
        "# did any lines fail to parse?\n",
        "#access_logs_parsefail[:5]"
      ],
      "execution_count": 0,
      "outputs": []
    },
    {
      "metadata": {
        "id": "BJqC-hbjBlw9",
        "colab_type": "text"
      },
      "cell_type": "markdown",
      "source": [
        "## Data Frame"
      ]
    },
    {
      "metadata": {
        "id": "bsK8-xVFZMGG",
        "colab_type": "code",
        "outputId": "3533ec06-5855-4e76-c4e7-5c75e128a391",
        "colab": {
          "base_uri": "https://localhost:8080/",
          "height": 289
        }
      },
      "cell_type": "code",
      "source": [
        "# convert to Pandas DataFrame and display it\n",
        "access_logs_df = pd.DataFrame.from_records(access_logs_parsed, columns=access_column_list)\n",
        "access_logs_df['date'] = pd.to_datetime(access_logs_df['date'], format='%d/%b/%Y:%H:%M:%S -0700')\n",
        "display(access_logs_df.head())"
      ],
      "execution_count": 46,
      "outputs": [
        {
          "output_type": "display_data",
          "data": {
            "text/html": [
              "<div>\n",
              "<style scoped>\n",
              "    .dataframe tbody tr th:only-of-type {\n",
              "        vertical-align: middle;\n",
              "    }\n",
              "\n",
              "    .dataframe tbody tr th {\n",
              "        vertical-align: top;\n",
              "    }\n",
              "\n",
              "    .dataframe thead th {\n",
              "        text-align: right;\n",
              "    }\n",
              "</style>\n",
              "<table border=\"1\" class=\"dataframe\">\n",
              "  <thead>\n",
              "    <tr style=\"text-align: right;\">\n",
              "      <th></th>\n",
              "      <th>date</th>\n",
              "      <th>client_ip</th>\n",
              "      <th>request</th>\n",
              "      <th>http_response</th>\n",
              "      <th>bytes</th>\n",
              "      <th>something_else</th>\n",
              "      <th>user_agent</th>\n",
              "    </tr>\n",
              "  </thead>\n",
              "  <tbody>\n",
              "    <tr>\n",
              "      <th>0</th>\n",
              "      <td>2019-03-22 01:55:15</td>\n",
              "      <td>101.89.29.92</td>\n",
              "      <td>GET / HTTP/1.1</td>\n",
              "      <td>200</td>\n",
              "      <td>46424</td>\n",
              "      <td>-</td>\n",
              "      <td>Mozilla/5.0 (iPhone; CPU iPhone OS 10_2_1 like...</td>\n",
              "    </tr>\n",
              "    <tr>\n",
              "      <th>1</th>\n",
              "      <td>2019-03-22 01:57:37</td>\n",
              "      <td>54.36.148.43</td>\n",
              "      <td>GET /self.logs/2015/access.log.2015-05-08.gz H...</td>\n",
              "      <td>200</td>\n",
              "      <td>4813</td>\n",
              "      <td>-</td>\n",
              "      <td>Mozilla/5.0 (compatible; AhrefsBot/6.1; +http:...</td>\n",
              "    </tr>\n",
              "    <tr>\n",
              "      <th>2</th>\n",
              "      <td>2019-03-22 01:58:55</td>\n",
              "      <td>54.36.148.18</td>\n",
              "      <td>GET /self.logs/error.log.2016-04-07.gz HTTP/1.1</td>\n",
              "      <td>404</td>\n",
              "      <td>284</td>\n",
              "      <td>-</td>\n",
              "      <td>Mozilla/5.0 (compatible; AhrefsBot/6.1; +http:...</td>\n",
              "    </tr>\n",
              "    <tr>\n",
              "      <th>3</th>\n",
              "      <td>2019-03-22 02:04:26</td>\n",
              "      <td>54.36.148.62</td>\n",
              "      <td>GET /self.logs/access.log.2016-10-30.gz HTTP/1.1</td>\n",
              "      <td>404</td>\n",
              "      <td>284</td>\n",
              "      <td>-</td>\n",
              "      <td>Mozilla/5.0 (compatible; AhrefsBot/6.1; +http:...</td>\n",
              "    </tr>\n",
              "    <tr>\n",
              "      <th>4</th>\n",
              "      <td>2019-03-22 02:04:51</td>\n",
              "      <td>54.36.149.57</td>\n",
              "      <td>GET /self.logs/2016/error.log.2016-05-19.gz HT...</td>\n",
              "      <td>200</td>\n",
              "      <td>867</td>\n",
              "      <td>-</td>\n",
              "      <td>Mozilla/5.0 (compatible; AhrefsBot/6.1; +http:...</td>\n",
              "    </tr>\n",
              "  </tbody>\n",
              "</table>\n",
              "</div>"
            ],
            "text/plain": [
              "                 date     client_ip  \\\n",
              "0 2019-03-22 01:55:15  101.89.29.92   \n",
              "1 2019-03-22 01:57:37  54.36.148.43   \n",
              "2 2019-03-22 01:58:55  54.36.148.18   \n",
              "3 2019-03-22 02:04:26  54.36.148.62   \n",
              "4 2019-03-22 02:04:51  54.36.149.57   \n",
              "\n",
              "                                             request http_response  bytes  \\\n",
              "0                                     GET / HTTP/1.1           200  46424   \n",
              "1  GET /self.logs/2015/access.log.2015-05-08.gz H...           200   4813   \n",
              "2    GET /self.logs/error.log.2016-04-07.gz HTTP/1.1           404    284   \n",
              "3   GET /self.logs/access.log.2016-10-30.gz HTTP/1.1           404    284   \n",
              "4  GET /self.logs/2016/error.log.2016-05-19.gz HT...           200    867   \n",
              "\n",
              "  something_else                                         user_agent  \n",
              "0              -  Mozilla/5.0 (iPhone; CPU iPhone OS 10_2_1 like...  \n",
              "1              -  Mozilla/5.0 (compatible; AhrefsBot/6.1; +http:...  \n",
              "2              -  Mozilla/5.0 (compatible; AhrefsBot/6.1; +http:...  \n",
              "3              -  Mozilla/5.0 (compatible; AhrefsBot/6.1; +http:...  \n",
              "4              -  Mozilla/5.0 (compatible; AhrefsBot/6.1; +http:...  "
            ]
          },
          "metadata": {
            "tags": []
          }
        }
      ]
    },
    {
      "metadata": {
        "id": "hFuwu0JiVfYc",
        "colab_type": "code",
        "colab": {}
      },
      "cell_type": "code",
      "source": [
        ""
      ],
      "execution_count": 0,
      "outputs": []
    },
    {
      "metadata": {
        "id": "8wDLp5R5a0TJ",
        "colab_type": "text"
      },
      "cell_type": "markdown",
      "source": [
        "# Instructions"
      ]
    },
    {
      "metadata": {
        "id": "rF1BHVuJNbDN",
        "colab_type": "text"
      },
      "cell_type": "markdown",
      "source": [
        "In this lab, you will combine techniques from the previous labs to explore an additional data set.  Namely, you will look at the web access logs from the same server as the error logs we looked at in Lab #1.\n",
        "\n",
        "* To save time, the logs have been parsed already.  They are stored in a Pandas dataframe called \"error_logs_df\".\n",
        "\n",
        "* Conduct exploratory data analysis to gain an understanding into these logs, and answer the questions defined below.  We recommend inserting text blocks to organize your work, if helpful.  Several collapsible \"header\" sections have been provided to guide your analysis.\n",
        "\n",
        "* The IP reputation data used in the previous labs is also available as a DataFrame.  It is stored in the variable \"intel_df\".\n",
        "\n",
        "**To begin, choose \"Runtime -> Run All\" from the menu options.**"
      ]
    },
    {
      "metadata": {
        "id": "O-ANAxVhNRfe",
        "colab_type": "text"
      },
      "cell_type": "markdown",
      "source": [
        "# Exploratory Analysis: Web Access Logs"
      ]
    },
    {
      "metadata": {
        "id": "H3kEIQjL-Hzq",
        "colab_type": "text"
      },
      "cell_type": "markdown",
      "source": [
        "To get started, here are two easy steps provided for you.  Take a look at a sample of the data.  Then examine some basic summary statistics for the entire dataframe (you should still examine inidividual columns more carefully)."
      ]
    },
    {
      "metadata": {
        "id": "ymk_LGX8cBDv",
        "colab_type": "text"
      },
      "cell_type": "markdown",
      "source": [
        "## Examine the Data"
      ]
    },
    {
      "metadata": {
        "id": "vUze7VKjaR7Q",
        "colab_type": "code",
        "outputId": "7ceff367-493f-4a12-a580-36a51077d415",
        "colab": {
          "base_uri": "https://localhost:8080/",
          "height": 289
        }
      },
      "cell_type": "code",
      "source": [
        "access_logs_df.head()"
      ],
      "execution_count": 47,
      "outputs": [
        {
          "output_type": "execute_result",
          "data": {
            "text/html": [
              "<div>\n",
              "<style scoped>\n",
              "    .dataframe tbody tr th:only-of-type {\n",
              "        vertical-align: middle;\n",
              "    }\n",
              "\n",
              "    .dataframe tbody tr th {\n",
              "        vertical-align: top;\n",
              "    }\n",
              "\n",
              "    .dataframe thead th {\n",
              "        text-align: right;\n",
              "    }\n",
              "</style>\n",
              "<table border=\"1\" class=\"dataframe\">\n",
              "  <thead>\n",
              "    <tr style=\"text-align: right;\">\n",
              "      <th></th>\n",
              "      <th>date</th>\n",
              "      <th>client_ip</th>\n",
              "      <th>request</th>\n",
              "      <th>http_response</th>\n",
              "      <th>bytes</th>\n",
              "      <th>something_else</th>\n",
              "      <th>user_agent</th>\n",
              "    </tr>\n",
              "  </thead>\n",
              "  <tbody>\n",
              "    <tr>\n",
              "      <th>0</th>\n",
              "      <td>2019-03-22 01:55:15</td>\n",
              "      <td>101.89.29.92</td>\n",
              "      <td>GET / HTTP/1.1</td>\n",
              "      <td>200</td>\n",
              "      <td>46424</td>\n",
              "      <td>-</td>\n",
              "      <td>Mozilla/5.0 (iPhone; CPU iPhone OS 10_2_1 like...</td>\n",
              "    </tr>\n",
              "    <tr>\n",
              "      <th>1</th>\n",
              "      <td>2019-03-22 01:57:37</td>\n",
              "      <td>54.36.148.43</td>\n",
              "      <td>GET /self.logs/2015/access.log.2015-05-08.gz H...</td>\n",
              "      <td>200</td>\n",
              "      <td>4813</td>\n",
              "      <td>-</td>\n",
              "      <td>Mozilla/5.0 (compatible; AhrefsBot/6.1; +http:...</td>\n",
              "    </tr>\n",
              "    <tr>\n",
              "      <th>2</th>\n",
              "      <td>2019-03-22 01:58:55</td>\n",
              "      <td>54.36.148.18</td>\n",
              "      <td>GET /self.logs/error.log.2016-04-07.gz HTTP/1.1</td>\n",
              "      <td>404</td>\n",
              "      <td>284</td>\n",
              "      <td>-</td>\n",
              "      <td>Mozilla/5.0 (compatible; AhrefsBot/6.1; +http:...</td>\n",
              "    </tr>\n",
              "    <tr>\n",
              "      <th>3</th>\n",
              "      <td>2019-03-22 02:04:26</td>\n",
              "      <td>54.36.148.62</td>\n",
              "      <td>GET /self.logs/access.log.2016-10-30.gz HTTP/1.1</td>\n",
              "      <td>404</td>\n",
              "      <td>284</td>\n",
              "      <td>-</td>\n",
              "      <td>Mozilla/5.0 (compatible; AhrefsBot/6.1; +http:...</td>\n",
              "    </tr>\n",
              "    <tr>\n",
              "      <th>4</th>\n",
              "      <td>2019-03-22 02:04:51</td>\n",
              "      <td>54.36.149.57</td>\n",
              "      <td>GET /self.logs/2016/error.log.2016-05-19.gz HT...</td>\n",
              "      <td>200</td>\n",
              "      <td>867</td>\n",
              "      <td>-</td>\n",
              "      <td>Mozilla/5.0 (compatible; AhrefsBot/6.1; +http:...</td>\n",
              "    </tr>\n",
              "  </tbody>\n",
              "</table>\n",
              "</div>"
            ],
            "text/plain": [
              "                 date     client_ip  \\\n",
              "0 2019-03-22 01:55:15  101.89.29.92   \n",
              "1 2019-03-22 01:57:37  54.36.148.43   \n",
              "2 2019-03-22 01:58:55  54.36.148.18   \n",
              "3 2019-03-22 02:04:26  54.36.148.62   \n",
              "4 2019-03-22 02:04:51  54.36.149.57   \n",
              "\n",
              "                                             request http_response  bytes  \\\n",
              "0                                     GET / HTTP/1.1           200  46424   \n",
              "1  GET /self.logs/2015/access.log.2015-05-08.gz H...           200   4813   \n",
              "2    GET /self.logs/error.log.2016-04-07.gz HTTP/1.1           404    284   \n",
              "3   GET /self.logs/access.log.2016-10-30.gz HTTP/1.1           404    284   \n",
              "4  GET /self.logs/2016/error.log.2016-05-19.gz HT...           200    867   \n",
              "\n",
              "  something_else                                         user_agent  \n",
              "0              -  Mozilla/5.0 (iPhone; CPU iPhone OS 10_2_1 like...  \n",
              "1              -  Mozilla/5.0 (compatible; AhrefsBot/6.1; +http:...  \n",
              "2              -  Mozilla/5.0 (compatible; AhrefsBot/6.1; +http:...  \n",
              "3              -  Mozilla/5.0 (compatible; AhrefsBot/6.1; +http:...  \n",
              "4              -  Mozilla/5.0 (compatible; AhrefsBot/6.1; +http:...  "
            ]
          },
          "metadata": {
            "tags": []
          },
          "execution_count": 47
        }
      ]
    },
    {
      "metadata": {
        "id": "yKA_EOAh-l7A",
        "colab_type": "text"
      },
      "cell_type": "markdown",
      "source": [
        "## Summary Statistics"
      ]
    },
    {
      "metadata": {
        "id": "OAgrZJv8cJLK",
        "colab_type": "code",
        "outputId": "b989a1f0-f107-4089-b39e-fa95cefc1713",
        "colab": {
          "base_uri": "https://localhost:8080/",
          "height": 235
        }
      },
      "cell_type": "code",
      "source": [
        "access_logs_df.describe(include='all')"
      ],
      "execution_count": 48,
      "outputs": [
        {
          "output_type": "execute_result",
          "data": {
            "text/html": [
              "<div>\n",
              "<style scoped>\n",
              "    .dataframe tbody tr th:only-of-type {\n",
              "        vertical-align: middle;\n",
              "    }\n",
              "\n",
              "    .dataframe tbody tr th {\n",
              "        vertical-align: top;\n",
              "    }\n",
              "\n",
              "    .dataframe thead th {\n",
              "        text-align: right;\n",
              "    }\n",
              "</style>\n",
              "<table border=\"1\" class=\"dataframe\">\n",
              "  <thead>\n",
              "    <tr style=\"text-align: right;\">\n",
              "      <th></th>\n",
              "      <th>date</th>\n",
              "      <th>client_ip</th>\n",
              "      <th>request</th>\n",
              "      <th>http_response</th>\n",
              "      <th>bytes</th>\n",
              "      <th>something_else</th>\n",
              "      <th>user_agent</th>\n",
              "    </tr>\n",
              "  </thead>\n",
              "  <tbody>\n",
              "    <tr>\n",
              "      <th>count</th>\n",
              "      <td>1305</td>\n",
              "      <td>1305</td>\n",
              "      <td>1305</td>\n",
              "      <td>1305</td>\n",
              "      <td>1305</td>\n",
              "      <td>1305</td>\n",
              "      <td>1305</td>\n",
              "    </tr>\n",
              "    <tr>\n",
              "      <th>unique</th>\n",
              "      <td>974</td>\n",
              "      <td>576</td>\n",
              "      <td>503</td>\n",
              "      <td>5</td>\n",
              "      <td>380</td>\n",
              "      <td>67</td>\n",
              "      <td>135</td>\n",
              "    </tr>\n",
              "    <tr>\n",
              "      <th>top</th>\n",
              "      <td>2019-03-23 01:52:10</td>\n",
              "      <td>222.186.59.44</td>\n",
              "      <td>GET / HTTP/1.1</td>\n",
              "      <td>200</td>\n",
              "      <td>12511</td>\n",
              "      <td>-</td>\n",
              "      <td>Mozilla/5.0 (compatible; AhrefsBot/6.1; +http:...</td>\n",
              "    </tr>\n",
              "    <tr>\n",
              "      <th>freq</th>\n",
              "      <td>32</td>\n",
              "      <td>23</td>\n",
              "      <td>306</td>\n",
              "      <td>837</td>\n",
              "      <td>168</td>\n",
              "      <td>886</td>\n",
              "      <td>241</td>\n",
              "    </tr>\n",
              "    <tr>\n",
              "      <th>first</th>\n",
              "      <td>2019-03-22 01:55:15</td>\n",
              "      <td>NaN</td>\n",
              "      <td>NaN</td>\n",
              "      <td>NaN</td>\n",
              "      <td>NaN</td>\n",
              "      <td>NaN</td>\n",
              "      <td>NaN</td>\n",
              "    </tr>\n",
              "    <tr>\n",
              "      <th>last</th>\n",
              "      <td>2019-03-23 02:08:53</td>\n",
              "      <td>NaN</td>\n",
              "      <td>NaN</td>\n",
              "      <td>NaN</td>\n",
              "      <td>NaN</td>\n",
              "      <td>NaN</td>\n",
              "      <td>NaN</td>\n",
              "    </tr>\n",
              "  </tbody>\n",
              "</table>\n",
              "</div>"
            ],
            "text/plain": [
              "                       date      client_ip         request http_response  \\\n",
              "count                  1305           1305            1305          1305   \n",
              "unique                  974            576             503             5   \n",
              "top     2019-03-23 01:52:10  222.186.59.44  GET / HTTP/1.1           200   \n",
              "freq                     32             23             306           837   \n",
              "first   2019-03-22 01:55:15            NaN             NaN           NaN   \n",
              "last    2019-03-23 02:08:53            NaN             NaN           NaN   \n",
              "\n",
              "        bytes something_else  \\\n",
              "count    1305           1305   \n",
              "unique    380             67   \n",
              "top     12511              -   \n",
              "freq      168            886   \n",
              "first     NaN            NaN   \n",
              "last      NaN            NaN   \n",
              "\n",
              "                                               user_agent  \n",
              "count                                                1305  \n",
              "unique                                                135  \n",
              "top     Mozilla/5.0 (compatible; AhrefsBot/6.1; +http:...  \n",
              "freq                                                  241  \n",
              "first                                                 NaN  \n",
              "last                                                  NaN  "
            ]
          },
          "metadata": {
            "tags": []
          },
          "execution_count": 48
        }
      ]
    },
    {
      "metadata": {
        "id": "DazfW27QcgWh",
        "colab_type": "code",
        "colab": {}
      },
      "cell_type": "code",
      "source": [
        ""
      ],
      "execution_count": 0,
      "outputs": []
    }
  ]
}